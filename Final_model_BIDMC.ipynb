{
  "cells": [
    {
      "cell_type": "markdown",
      "metadata": {
        "id": "Mku7DZVuXbzP"
      },
      "source": [
        "# Dataset Preperation"
      ]
    },
    {
      "cell_type": "markdown",
      "metadata": {
        "id": "Wjw30fLvpvYJ"
      },
      "source": [
        "## Importing the libraires"
      ]
    },
    {
      "cell_type": "code",
      "execution_count": 1,
      "metadata": {
        "id": "urEEVwP8WbSH"
      },
      "outputs": [],
      "source": [
        "import pandas as pd\n",
        "import math\n",
        "import numpy as np\n",
        "import matplotlib.pyplot as plt\n",
        "from scipy.signal import correlate2d, fftconvolve, butter, filtfilt\n",
        "from scipy.stats import kurtosis, skew, entropy\n",
        "import pywt\n",
        "from sklearn.preprocessing import LabelEncoder\n",
        "from pathlib import Path"
      ]
    },
    {
      "cell_type": "markdown",
      "metadata": {
        "id": "VxlLbO1_Xzyo"
      },
      "source": [
        "## Importing the datasets"
      ]
    },
    {
      "cell_type": "markdown",
      "metadata": {
        "id": "78KXXNUETnP1"
      },
      "source": [
        "### Authorised Dataset"
      ]
    },
    {
      "cell_type": "code",
      "execution_count": 2,
      "metadata": {},
      "outputs": [],
      "source": [
        "files_list = Path('/Users/tuhindas/Python Venv/Data')\n",
        "\n",
        "content = []\n",
        "for file_path in files_list.iterdir():\n",
        "    if 'Signals' in file_path.name and file_path.suffix == '.csv':\n",
        "        content.append(file_path.name)\n",
        "\n",
        "label_encoder = LabelEncoder()\n",
        "\n",
        "subject_ID = label_encoder.fit_transform(content) + 1\n",
        "subject_ID = np.sort(np.array(subject_ID))"
      ]
    },
    {
      "cell_type": "code",
      "execution_count": 3,
      "metadata": {},
      "outputs": [],
      "source": [
        "# Initialize an empty list to hold the dataset\n",
        "dataset = []\n",
        "# List all files in the directory and process them\n",
        "for file_path in files_list.iterdir():\n",
        "    if 'Signals' in file_path.name and file_path.suffix == '.csv':\n",
        "        df = pd.read_csv(file_path)\n",
        "        p_column = np.ravel(df[[' PLETH']].values)  # Assuming the column name is ' PLETH'\n",
        "        dataset.append(p_column)\n",
        "dataset = pd.DataFrame(dataset)\n",
        "dataset = dataset.iloc[:,:-1].values"
      ]
    },
    {
      "cell_type": "code",
      "execution_count": 4,
      "metadata": {
        "id": "IWwhCF8y2gDn"
      },
      "outputs": [],
      "source": [
        "rows, columns = dataset.shape\n",
        "fs = 125\n",
        "ws = 5\n",
        "samples_pw = fs * ws\n",
        "columns_ps = int(columns / samples_pw)\n",
        "X = np.zeros((samples_pw, columns_ps * rows))\n",
        "y = np.zeros(columns_ps * rows)\n",
        "\n",
        "for i in range(rows):\n",
        "\n",
        "  ppg_signal = dataset[i,:]\n",
        "  j=0\n",
        "\n",
        "  for j in range (columns_ps):\n",
        "    k = samples_pw * j\n",
        "    l = (columns_ps * i) + j\n",
        "    X[:samples_pw, l] = ppg_signal[k:k + samples_pw]\n",
        "    y[l] = subject_ID[i]\n",
        "\n",
        "X = X.T"
      ]
    },
    {
      "cell_type": "code",
      "execution_count": 5,
      "metadata": {
        "id": "niCqIlKhY7Jc"
      },
      "outputs": [],
      "source": [
        "auth = columns_ps * 7\n",
        "X_auth = X[:auth,:]\n",
        "y_auth = y[:auth]"
      ]
    },
    {
      "cell_type": "code",
      "execution_count": 6,
      "metadata": {},
      "outputs": [
        {
          "data": {
            "text/plain": [
              "(672, 625)"
            ]
          },
          "execution_count": 6,
          "metadata": {},
          "output_type": "execute_result"
        }
      ],
      "source": [
        "X_auth.shape"
      ]
    },
    {
      "cell_type": "markdown",
      "metadata": {
        "id": "ZjqBenPPX9a7"
      },
      "source": [
        "### Unauthorized Dataset"
      ]
    },
    {
      "cell_type": "code",
      "execution_count": 7,
      "metadata": {
        "id": "5g6niNVD0Nue"
      },
      "outputs": [],
      "source": [
        "train_un = 12 * columns_ps\n",
        "X_unauth = X[auth:auth + train_un,:]\n",
        "y_unauth = y[auth:auth + train_un]\n",
        "y_unauth[:] = 0\n",
        "\n",
        "test_un = (13 *columns_ps + auth)\n",
        "end_un = 40 * columns_ps\n",
        "# X_test = X[test_un:,:]\n",
        "# y_test = y[test_un:]\n",
        "\n",
        "X_test = X[test_un:end_un,:]\n",
        "y_test = y[test_un:end_un]\n",
        "y_test[:] = 0"
      ]
    },
    {
      "cell_type": "code",
      "execution_count": 8,
      "metadata": {
        "id": "xk6zPOIcB4Co"
      },
      "outputs": [],
      "source": [
        "from sklearn.model_selection import train_test_split\n",
        "X,X2,y,y2 = train_test_split(X_auth, y_auth, test_size = 0.5, random_state = 0, stratify = y_auth)"
      ]
    },
    {
      "cell_type": "code",
      "execution_count": 9,
      "metadata": {
        "id": "apjGjAFBMedX"
      },
      "outputs": [],
      "source": [
        "import random\n",
        "np.random.seed(0)\n",
        "\n",
        "# Save for classifier\n",
        "y_temp = np.copy(y)\n",
        "\n",
        "cont = 1\n",
        "cont_size =  int(cont*X.shape[0])\n",
        "num_rows = X_unauth.shape[0]\n",
        "random_indices = np.random.choice(num_rows, size = cont_size, replace = True)\n",
        "X_unauth = X_unauth[random_indices]\n",
        "y_unauth = y_unauth[random_indices]\n",
        "\n",
        "X = np.concatenate((X,X_unauth), axis = 0)\n",
        "y[y>0] = 1\n",
        "y = np.concatenate((y,y_unauth), axis = 0)"
      ]
    },
    {
      "cell_type": "code",
      "execution_count": 10,
      "metadata": {
        "id": "fqJ1ngFJ2hEZ"
      },
      "outputs": [],
      "source": [
        "cont = 1\n",
        "cont_size = int(cont*X2.shape[0])\n",
        "num_rows = X_test.shape[0]\n",
        "\n",
        "np.random.seed(0)\n",
        "random_indices = np.random.choice(num_rows, size = cont_size, replace = True)\n",
        "X_test = X_test[random_indices]\n",
        "y_test = y_test[random_indices]\n",
        "\n",
        "X_blind = np.concatenate((X2,X_test), axis = 0)\n",
        "y_blind = np.concatenate((y2,y_test), axis = 0)\n",
        "y_blind[y_blind > 0] = 1"
      ]
    },
    {
      "cell_type": "markdown",
      "metadata": {
        "id": "gRpRp9tcSYBD"
      },
      "source": [
        "### 10 sec window"
      ]
    },
    {
      "cell_type": "code",
      "execution_count": 11,
      "metadata": {
        "id": "JSCFn3CRR5bx"
      },
      "outputs": [],
      "source": [
        "# X = np.concatenate((X_auth,X_unauth),axis=0)\n",
        "# y = np.concatenate((y_auth,y_unauth), axis=0)"
      ]
    },
    {
      "cell_type": "markdown",
      "metadata": {
        "id": "SXTFJK_lN763"
      },
      "source": [
        "### Training dataset"
      ]
    },
    {
      "cell_type": "code",
      "execution_count": 12,
      "metadata": {
        "id": "ZQKeCBjwY_T-"
      },
      "outputs": [],
      "source": [
        "X_train_data,X_test_data,y_train_data,y_test_data = train_test_split(X_auth, y_auth, test_size = 0.5, random_state = 0, stratify = y_auth)\n",
        "X_unauth_train, X_unauth_test, y_unauth_train, y_unauth_test = train_test_split(X_unauth, y_unauth, test_size = 0.5, random_state = 0)"
      ]
    },
    {
      "cell_type": "code",
      "execution_count": 13,
      "metadata": {
        "id": "bG7cI4n0PhNx"
      },
      "outputs": [],
      "source": [
        "X = np.concatenate((X_train_data,X_unauth_train), axis = 0)\n",
        "y = np.concatenate((y_train_data,y_unauth_train), axis = 0)"
      ]
    },
    {
      "cell_type": "markdown",
      "metadata": {
        "id": "nvKLExEOP0Yw"
      },
      "source": [
        "### Blind dataset"
      ]
    },
    {
      "cell_type": "code",
      "execution_count": 14,
      "metadata": {
        "id": "DeZDOshIP3kf"
      },
      "outputs": [],
      "source": [
        "X_blind = np.concatenate((X_test_data,X_unauth_test), axis = 0)\n",
        "y_blind = np.concatenate((y_test_data,y_unauth_test), axis = 0)"
      ]
    },
    {
      "cell_type": "code",
      "execution_count": 15,
      "metadata": {},
      "outputs": [
        {
          "data": {
            "text/plain": [
              "(504,)"
            ]
          },
          "execution_count": 15,
          "metadata": {},
          "output_type": "execute_result"
        }
      ],
      "source": [
        "y_blind.shape"
      ]
    },
    {
      "cell_type": "markdown",
      "metadata": {
        "id": "wYtFAjyviol1"
      },
      "source": [
        " # Filtering and Baseline Removal"
      ]
    },
    {
      "cell_type": "code",
      "execution_count": 16,
      "metadata": {
        "id": "shmBPR63isjO"
      },
      "outputs": [],
      "source": [
        "# Baseline Removal\n",
        "\n",
        "from scipy.signal import find_peaks\n",
        "\n",
        "def remove_baseline_wander(dataset, sampling_freq=125):\n",
        "    num_rows, num_cols = dataset.shape\n",
        "    baseline_corrected_dataset = np.zeros((num_rows, num_cols))\n",
        "    # interpolated_baselines = np.zeros((num_rows, num_cols))\n",
        "\n",
        "    for row in range(num_rows):\n",
        "        signal = dataset[row, :]\n",
        "        troughs, _ = find_peaks(-signal)\n",
        "        baseline = np.interp(np.arange(len(signal)), troughs, signal[troughs])\n",
        "\n",
        "        # Interpolate the baseline using the same time array as the original signal\n",
        "        time = np.arange(len(signal))\n",
        "        interpolated_baseline = np.interp(time, np.arange(len(baseline)), baseline)\n",
        "\n",
        "        baseline_corrected_signal = signal - interpolated_baseline\n",
        "        baseline_corrected_dataset[row, :] = baseline_corrected_signal\n",
        "\n",
        "    return baseline_corrected_dataset"
      ]
    },
    {
      "cell_type": "code",
      "execution_count": 17,
      "metadata": {
        "id": "lM9hT3K2i0fX"
      },
      "outputs": [],
      "source": [
        "def butterworth(X_demo):\n",
        "    rows, columns = X_demo.shape\n",
        "    result = np.zeros((rows, columns))\n",
        "    for i in range(rows):\n",
        "        sig = X_demo[i,:]\n",
        "        fs = 125\n",
        "        fc = 12\n",
        "        fc1 = 0.01\n",
        "        w = fc / (fs / 2)\n",
        "        w1 = fc1 / (fs / 2)\n",
        "        b, a = butter(6, w1, 'highpass')\n",
        "        f_sig = filtfilt(b, a, sig)\n",
        "        b, a = butter(6, w, btype = 'lowpass')\n",
        "        f_sig = filtfilt(b, a, sig)\n",
        "        result[i,:] = f_sig\n",
        "    return result"
      ]
    },
    {
      "cell_type": "code",
      "execution_count": 18,
      "metadata": {
        "id": "ffSPrd5fjCgr"
      },
      "outputs": [],
      "source": [
        "# Authorised dataset\n",
        "X_butter = butterworth(X)\n",
        "X_butter = butterworth(X_butter)\n",
        "X_butter = remove_baseline_wander(X_butter,125)"
      ]
    },
    {
      "cell_type": "markdown",
      "metadata": {
        "id": "MIgq1MGx75YQ"
      },
      "source": [
        "# Feature Extraction Function"
      ]
    },
    {
      "cell_type": "code",
      "execution_count": 19,
      "metadata": {
        "id": "G6OKxVZZ9vpR"
      },
      "outputs": [],
      "source": [
        "from sklearn.preprocessing import MinMaxScaler\n",
        "\n",
        "def normalize(X_demo):\n",
        "    mm = MinMaxScaler()\n",
        "    X_temp = (mm.fit_transform(X_demo.T)).T\n",
        "    return X_temp\n",
        "\n",
        "X_n = normalize(X_butter)"
      ]
    },
    {
      "cell_type": "markdown",
      "metadata": {
        "id": "sImlRcr5Z6fE"
      },
      "source": [
        "## Neurokit2"
      ]
    },
    {
      "cell_type": "code",
      "execution_count": 20,
      "metadata": {
        "id": "WwW8a6S9FI0w"
      },
      "outputs": [],
      "source": [
        "import neurokit2 as nk\n",
        "\n",
        "def neuro(X_demo, y):\n",
        "    rows, columns = X_demo.shape\n",
        "    fid_feat = []\n",
        "    valid_indices = []\n",
        "\n",
        "    for i in range(rows):\n",
        "        try:\n",
        "            ppg = X_demo[i, :]\n",
        "            # Process the PPG signal\n",
        "            ppg_signals, info = nk.ppg_process(ppg, sampling_rate=125)\n",
        "\n",
        "            # Create an epoch for the entire signal duration\n",
        "            epochs = nk.epochs_create(ppg_signals, events=[0], epochs_start=0, epochs_end=5, sampling_rate=125)\n",
        "\n",
        "            # Analyze the PPG epoch\n",
        "            analyze_ppg = nk.ppg_analyze(epochs, sampling_rate=125)\n",
        "\n",
        "            # Extract the features, removing 'Label' and 'Event_Onset' columns, and converting to a list\n",
        "            features_list = analyze_ppg.drop(columns=['Label', 'Event_Onset']).values.flatten().tolist()\n",
        "\n",
        "            # Append the features to fid_feat\n",
        "            fid_feat.append(features_list)\n",
        "            valid_indices.append(i)\n",
        "\n",
        "        except ValueError as e:\n",
        "            if \"cannot convert float NaN to integer\" in str(e):\n",
        "                print(f\"Skipping row {i} due to error: {e}\")\n",
        "                continue\n",
        "            else:\n",
        "                raise e  # Raise the exception if it's not the specific error\n",
        "\n",
        "    # Filter X_demo and y to only include valid rows\n",
        "    X_demo_filtered = X_demo[valid_indices, :]\n",
        "    y_filtered = y[valid_indices]\n",
        "\n",
        "    fid_feat = pd.DataFrame(fid_feat)\n",
        "    return fid_feat, X_demo_filtered, y_filtered"
      ]
    },
    {
      "cell_type": "code",
      "execution_count": 21,
      "metadata": {
        "colab": {
          "base_uri": "https://localhost:8080/"
        },
        "id": "jsiJAee7GNqx",
        "outputId": "5cff81ef-7e56-4493-9791-e1d8d255b0e8"
      },
      "outputs": [],
      "source": [
        "X_fid, X_n, y = neuro(X_n, y)"
      ]
    },
    {
      "cell_type": "markdown",
      "metadata": {
        "id": "s3IoOz8gRLuC"
      },
      "source": [
        "## Finding derivatives"
      ]
    },
    {
      "cell_type": "code",
      "execution_count": 22,
      "metadata": {
        "id": "KhLlvhVHNedC"
      },
      "outputs": [],
      "source": [
        "def derivatives(X_demo):\n",
        "\n",
        "    # Initialize lists\n",
        "    first_derivatives = []\n",
        "    second_derivatives = []\n",
        "    third_derivatives = []\n",
        "    rows, columns = X_demo.shape\n",
        "    for i in range(rows):  # Transpose to iterate over columns\n",
        "        signal = X_demo[i,:]\n",
        "        dt = 125\n",
        "        first_derivative = np.gradient(signal, dt)\n",
        "        second_derivative = np.gradient(first_derivative, dt)\n",
        "        third_derivative = np.gradient(second_derivative, dt)\n",
        "        first_derivatives.append(first_derivative)\n",
        "        second_derivatives.append(second_derivative)\n",
        "        third_derivatives.append(third_derivative)\n",
        "\n",
        "    first_derivatives = np.array(first_derivatives)\n",
        "    second_derivatives = np.array(second_derivatives)\n",
        "    third_derivatives = np.array(third_derivatives)\n",
        "\n",
        "    first_derivatives *= 1000\n",
        "    second_derivatives *= 1000000\n",
        "    third_derivatives *= 100000000\n",
        "\n",
        "    return first_derivatives, second_derivatives, third_derivatives"
      ]
    },
    {
      "cell_type": "code",
      "execution_count": 23,
      "metadata": {
        "id": "K_ujJDF2RRI0"
      },
      "outputs": [],
      "source": [
        "# Authorised data\n",
        "first_n, second_n, third_n = derivatives(X_n)"
      ]
    },
    {
      "cell_type": "markdown",
      "metadata": {
        "id": "D140_pAZH4CC"
      },
      "source": [
        "## Time"
      ]
    },
    {
      "cell_type": "code",
      "execution_count": 24,
      "metadata": {
        "id": "0ZzCN43KH9Ub"
      },
      "outputs": [],
      "source": [
        "import numpy as np\n",
        "\n",
        "def calculate_zero_crossing_rate(signal):\n",
        "    zero_crossings = np.count_nonzero(np.diff(np.sign(signal)))\n",
        "    zero_crossing_rate = zero_crossings / len(signal)\n",
        "    return zero_crossing_rate"
      ]
    },
    {
      "cell_type": "code",
      "execution_count": 25,
      "metadata": {
        "id": "l-JP1WOPIZQ6"
      },
      "outputs": [],
      "source": [
        "def time_domain(X_filtered):\n",
        "    X_time_feats = []\n",
        "    rows, columns = X_filtered.shape\n",
        "\n",
        "    for i in range(rows):\n",
        "        row_features = []\n",
        "        # Extract features from the original signal\n",
        "        signal = X_filtered[i]\n",
        "        X_time_feats.append(calculate_zero_crossing_rate(signal))\n",
        "        # X_time_feats.append(row_features)\n",
        "\n",
        "    # Convert the list to a DataFrame\n",
        "    X_time_feats = pd.DataFrame(X_time_feats)\n",
        "\n",
        "    return X_time_feats"
      ]
    },
    {
      "cell_type": "code",
      "execution_count": 26,
      "metadata": {
        "id": "tEFLh4siISUi"
      },
      "outputs": [],
      "source": [
        "X_time = time_domain(X_n)\n",
        "X_time = pd.concat([X_time,time_domain(first_n)], axis = 1, ignore_index = True)\n",
        "X_time = pd.concat([X_time,time_domain(second_n)], axis = 1, ignore_index = True)\n",
        "X_time = pd.concat([X_time,time_domain(third_n)], axis = 1, ignore_index = True)"
      ]
    },
    {
      "cell_type": "markdown",
      "metadata": {
        "id": "PwfAKhMHXHn_"
      },
      "source": [
        "## Statistical"
      ]
    },
    {
      "cell_type": "code",
      "execution_count": 27,
      "metadata": {
        "id": "yHYmtUkXsW_h"
      },
      "outputs": [],
      "source": [
        "def calculate_statistical_features(signal):\n",
        "    # Calculate statistical features for a given signal\n",
        "    mean = np.mean(signal)\n",
        "    first_quartile = np.percentile(signal, 25)\n",
        "    second_quartile = np.median(signal)\n",
        "    third_quartile = np.percentile(signal, 75)\n",
        "    std_dev = np.std(signal)\n",
        "    kurt = kurtosis(signal)\n",
        "    skewness = skew(signal)\n",
        "    mean_abs_dev = np.mean(np.abs(signal - mean))\n",
        "\n",
        "    return [mean, first_quartile, second_quartile,third_quartile, std_dev, kurt, skewness, mean_abs_dev]\n",
        "\n",
        "def statistical(X_filtered):\n",
        "    X_biof_stat = []\n",
        "    rows, columns = X_filtered.shape\n",
        "\n",
        "    for i in range(rows):\n",
        "        row_features = []\n",
        "        # Extract features from the original signal\n",
        "        signal = X_filtered[i]\n",
        "        row_features.extend(calculate_statistical_features(signal))\n",
        "        X_biof_stat.append(row_features)\n",
        "\n",
        "    # Convert the list to a DataFrame\n",
        "    columns = ['Mean', 'FirstQuartile', 'SecondQuartile','ThirdQuartile', 'StandardDeviation', 'Kurtosis', 'Skewness', 'MeanAbsoluteDeviation']\n",
        "    X_biof_stat_df = pd.DataFrame(X_biof_stat, columns=columns)\n",
        "\n",
        "    return X_biof_stat_df"
      ]
    },
    {
      "cell_type": "code",
      "execution_count": 28,
      "metadata": {
        "id": "UWhhEPeDsygw"
      },
      "outputs": [],
      "source": [
        "X_stat = statistical(X_n)\n",
        "X_stat = pd.concat([X_stat,statistical(first_n)], axis = 1, ignore_index = True)\n",
        "X_stat = pd.concat([X_stat,statistical(second_n)], axis = 1, ignore_index = True)\n",
        "X_stat = pd.concat([X_stat,statistical(third_n)], axis = 1, ignore_index = True)"
      ]
    },
    {
      "cell_type": "code",
      "execution_count": 29,
      "metadata": {
        "colab": {
          "base_uri": "https://localhost:8080/"
        },
        "id": "NqiqWWcUaV0O",
        "outputId": "595eae93-9eb9-4695-9876-2b74e8f71729"
      },
      "outputs": [
        {
          "data": {
            "text/plain": [
              "(504, 32)"
            ]
          },
          "execution_count": 29,
          "metadata": {},
          "output_type": "execute_result"
        }
      ],
      "source": [
        "X_stat.shape"
      ]
    },
    {
      "cell_type": "markdown",
      "metadata": {
        "id": "xCf-57ejVzc8"
      },
      "source": [
        "## Frequency"
      ]
    },
    {
      "cell_type": "code",
      "execution_count": 30,
      "metadata": {
        "id": "0khOVw8HV1qQ"
      },
      "outputs": [],
      "source": [
        "from scipy.stats import kurtosis, skew\n",
        "from scipy.signal import welch\n",
        "def calculate_frequency_features(signal):\n",
        "    # Calculate frequency domain features for a given signal\n",
        "    freqs, psd = welch(signal)\n",
        "    fs = 125\n",
        "    n = len(signal)\n",
        "    fft_signal = np.fft.fft(signal)\n",
        "    fft_mag = np.abs(fft_signal)\n",
        "    psd = (fft_mag ** 2) / n**2\n",
        "\n",
        "    f = np.fft.fftfreq(n, 1/fs)\n",
        "    fmax = fs / 2  # Nyquist frequency\n",
        "\n",
        "    # Centroid Frequency (CF)\n",
        "    cf_num = np.sum(f * psd)\n",
        "    cf_den = np.sum(psd)\n",
        "    centroid_freq = cf_num / cf_den if cf_den != 0 else 0\n",
        "\n",
        "    # PSD Mean, Max, Min, and Variance\n",
        "    psd_mean = np.mean(psd)\n",
        "    psd_max = np.max(psd)\n",
        "    psd_min = np.min(psd)\n",
        "    psd_variance = np.var(psd)\n",
        "\n",
        "    # Root Mean Square Frequency (RMSF)\n",
        "    rmsf_num = np.sqrt(np.sum(f**2 * psd))\n",
        "    rmsf_den = np.sum(psd)\n",
        "    rmsf = rmsf_num / rmsf_den if rmsf_den != 0 else 0\n",
        "\n",
        "    # Amplitude and Frequency of Peaks (assuming finding the highest peak)\n",
        "    peak_amplitude = np.max(psd)\n",
        "    peak_frequency = f[np.argmax(psd)]\n",
        "\n",
        "    # Power at Given Frequency Range (e.g., 0-2 Hz)\n",
        "    idx_0_to_2Hz = np.where((f >= 0) & (f <= 2))[0]\n",
        "    power_0_to_2Hz = np.sum(psd[idx_0_to_2Hz])\n",
        "\n",
        "    # Ratio of Powers at 0-5Hz and 0-2.25Hz\n",
        "    idx_0_to_5Hz = np.where((f >= 0) & (f <= 5))[0]\n",
        "    idx_0_to_2_25Hz = np.where((f >= 0) & (f <= 2.25))[0]\n",
        "    ratio_powers = np.sum(psd[idx_0_to_5Hz]) / np.sum(psd[idx_0_to_2_25Hz])\n",
        "\n",
        "    return [centroid_freq, psd_mean, psd_max, psd_min, psd_variance, rmsf, peak_amplitude, peak_frequency, power_0_to_2Hz, ratio_powers]\n",
        "\n",
        "def freq_domain(X_filtered):\n",
        "    fs = 125\n",
        "    X_freq_domain = []\n",
        "    rows, columns = X_filtered.shape\n",
        "\n",
        "    for i in range(rows):\n",
        "        row_features = []\n",
        "        # Extract features from the original signal\n",
        "        signal = X_filtered[i]\n",
        "        row_features.extend(calculate_frequency_features(signal))\n",
        "        X_freq_domain.append(row_features)\n",
        "\n",
        "    # Convert the list to a DataFrame\n",
        "    columns = ['CentroidFrequency', 'PSDMean', 'PSDMax', 'PSDMin', 'PSDVariance', 'RMSF', 'PeakAmplitude', 'PeakFrequency', 'Power0to2Hz', 'RatioPowers']\n",
        "    X_freq_domain_df = pd.DataFrame(X_freq_domain, columns=columns)\n",
        "\n",
        "    return X_freq_domain_df\n"
      ]
    },
    {
      "cell_type": "code",
      "execution_count": 31,
      "metadata": {
        "id": "zSzRCtu6V-K3"
      },
      "outputs": [],
      "source": [
        "X_freq = freq_domain(X_n)\n",
        "X_freq = pd.concat([X_freq,freq_domain(first_n)], axis = 1, ignore_index = True)\n",
        "X_freq = pd.concat([X_freq,freq_domain(second_n)], axis = 1, ignore_index = True)\n",
        "X_freq = pd.concat([X_freq,freq_domain(third_n)], axis = 1, ignore_index = True)"
      ]
    },
    {
      "cell_type": "markdown",
      "metadata": {
        "id": "ycINBnGukFen"
      },
      "source": [
        "## Entropy"
      ]
    },
    {
      "cell_type": "code",
      "execution_count": 32,
      "metadata": {
        "id": "BO11PT7WjOXq"
      },
      "outputs": [],
      "source": [
        "#U: The input signal.\n",
        "#m: The embedding dimension (typically set to 2).\n",
        "#r: The tolerance parameter (usually a fraction of the standard deviation of the signal).\n",
        "\n",
        "import itertools\n",
        "def ApEn(U, m, r):\n",
        "    N = len(U)\n",
        "    phi = np.zeros((N - m + 1, 1))\n",
        "    r *= np.std(U)\n",
        "    for i in range(N - m + 1):\n",
        "        idx = np.arange(i, i + m)\n",
        "        Phi_i = np.sum(np.abs(U[idx][:, None] - U[idx]), axis=1)\n",
        "        phi[i] = np.sum(Phi_i <= r) - 1\n",
        "    return np.mean(phi)"
      ]
    },
    {
      "cell_type": "code",
      "execution_count": 33,
      "metadata": {
        "id": "36uROuXtjVvn"
      },
      "outputs": [],
      "source": [
        "#shannon entropy\n",
        "\n",
        "def shannon_entropy(signal):\n",
        "    \"\"\"Compute the Shannon entropy of a signal.\"\"\"\n",
        "    _, counts = np.unique(signal, return_counts=True)\n",
        "    probabilities = counts / len(signal)\n",
        "    return -np.sum(probabilities * np.log2(probabilities))\n"
      ]
    },
    {
      "cell_type": "code",
      "execution_count": 34,
      "metadata": {
        "id": "-NSwjKSDp9u1"
      },
      "outputs": [],
      "source": [
        "# permutation entropy\n",
        "\n",
        "# signal: The input signal for which you want to compute the permutation entropy.\n",
        "# m: The embedding dimension (number of elements in each ordinal pattern).\n",
        "# delay: The time delay (distance between elements in each ordinal pattern).\n",
        "def permutation_entropy(signal, m, delay):\n",
        "    \"\"\"Compute the permutation entropy of a signal.\"\"\"\n",
        "    n = len(signal)\n",
        "    permutations = np.array(list(itertools.permutations(range(m))))\n",
        "    num_permutations = len(permutations)\n",
        "\n",
        "    # Create the phase space matrix\n",
        "    phase_space = np.zeros((n - (m - 1) * delay, m))\n",
        "    for i in range(0, n - (m - 1) * delay):\n",
        "        for j in range(m):\n",
        "            phase_space[i, j] = signal[i + j * delay]\n",
        "\n",
        "    # Compute the ordinal patterns\n",
        "    ordinal_patterns = np.zeros(n - (m - 1) * delay)\n",
        "    for i in range(0, n - (m - 1) * delay):\n",
        "        indices = np.argsort(phase_space[i])\n",
        "        ordinal_patterns[i] = np.where(np.all(permutations == indices, axis=1))[0]\n",
        "\n",
        "    # Compute the probability distribution of ordinal patterns\n",
        "    p = np.bincount(ordinal_patterns.astype(int), minlength=num_permutations) / len(ordinal_patterns)\n",
        "\n",
        "    # Compute the permutation entropy\n",
        "    perm_entropy = -np.sum(p[p > 0] * np.log2(p[p > 0]))\n",
        "\n",
        "    return perm_entropy"
      ]
    },
    {
      "cell_type": "code",
      "execution_count": 35,
      "metadata": {
        "id": "6zqr2O0LjK_n"
      },
      "outputs": [],
      "source": [
        "#sample entropy\n",
        "\n",
        "def sample_entropy(U, m):\n",
        "    \"\"\"Compute the sample entropy of a signal U.\"\"\"\n",
        "    N = len(U)\n",
        "    r = 0.15 * np.std(U)\n",
        "    m += 1\n",
        "    mm = m - 1\n",
        "    phi = np.zeros(N - mm)\n",
        "\n",
        "    # Create a matrix of all subsequences of length m\n",
        "    X = np.array([U[i:i+m] for i in range(N - mm)])\n",
        "\n",
        "    # Compute Chebyshev distances\n",
        "    D = np.abs(X[:, None, :] - X)\n",
        "    D = np.max(D, axis=2)\n",
        "\n",
        "    # Count the number of similar pairs\n",
        "    count = np.sum(D <= r, axis=1)\n",
        "\n",
        "    # Exclude self-matches\n",
        "    count -= 1\n",
        "\n",
        "    # Calculate phi\n",
        "    phi = count / (N - mm)\n",
        "\n",
        "    return np.mean(phi)"
      ]
    },
    {
      "cell_type": "code",
      "execution_count": 36,
      "metadata": {
        "id": "GDGKRh47n2Ah"
      },
      "outputs": [],
      "source": [
        "def en_fn(X_demo):\n",
        "    r,c=X_demo.shape\n",
        "    en = np.zeros((r, 3))\n",
        "    for i in range(r):\n",
        "        approximate_entropy = ApEn(X_demo[i,:], 2, 0.2)\n",
        "        sample_en = sample_entropy(X_demo[i,:], 3)\n",
        "        shannon_en = shannon_entropy(X_demo[i,:])\n",
        "        en[i, :] = [approximate_entropy, sample_en, shannon_en]\n",
        "\n",
        "    return pd.DataFrame(en)"
      ]
    },
    {
      "cell_type": "code",
      "execution_count": 37,
      "metadata": {
        "colab": {
          "base_uri": "https://localhost:8080/"
        },
        "id": "beQVsZCfomfi",
        "outputId": "ae429234-8e3b-4ba8-ad70-5d359b39d2b7"
      },
      "outputs": [
        {
          "name": "stdout",
          "output_type": "stream",
          "text": [
            "(504, 12)\n"
          ]
        }
      ],
      "source": [
        "X_en = en_fn(X_n)\n",
        "X_en = pd.concat([X_en, en_fn(first_n)], axis = 1, ignore_index = True)\n",
        "X_en = pd.concat([X_en, en_fn(second_n)], axis = 1, ignore_index = True)\n",
        "X_en = pd.concat([X_en, en_fn(third_n)], axis = 1, ignore_index = True)\n",
        "\n",
        "print(X_en.shape)"
      ]
    },
    {
      "cell_type": "markdown",
      "metadata": {
        "id": "olwqZOrs276L"
      },
      "source": [
        "## WPT"
      ]
    },
    {
      "cell_type": "code",
      "execution_count": 38,
      "metadata": {
        "id": "hd3uCZJOYMnz"
      },
      "outputs": [],
      "source": [
        "# PSD of WPT\n",
        "from scipy.signal import welch\n",
        "def PSD_function(Sig):\n",
        "  freqs, psd = welch(Sig)\n",
        "  psd_mean = np.mean(psd)\n",
        "  psd_max = np.max(psd)\n",
        "  psd_min = np.min(psd)\n",
        "  psd_var = np.var(psd)\n",
        "  centroid_freq = np.sum(freqs * psd) / np.sum(psd)\n",
        "  freq_variance = np.var(freqs)\n",
        "  mean_square_freq = np.sum(freqs**2 * psd) / np.sum(psd)\n",
        "  return psd_mean, psd_max, psd_min, psd_var, centroid_freq, mean_square_freq"
      ]
    },
    {
      "cell_type": "code",
      "execution_count": 39,
      "metadata": {
        "id": "ArTIszUkMz6g"
      },
      "outputs": [],
      "source": [
        "from pywt import wavedec\n",
        "from scipy.stats import kurtosis, skew\n",
        "\n",
        "def wpt_features(X_demo):\n",
        "    rows, columns = X_demo.shape\n",
        "    result_array = np.zeros((rows, 27))\n",
        "    for i in range(rows):\n",
        "        sig_demo = X_demo[i, :]\n",
        "        wavelet = 'haar'\n",
        "        level = 2\n",
        "        wp = pywt.WaveletPacket(data=sig_demo, wavelet=wavelet, mode='symmetric', maxlevel=level)\n",
        "\n",
        "        # Extract coefficients from the wavelet packet decomposition\n",
        "        coeffs = [node.data for node in wp.get_level(level, 'freq')]\n",
        "        coeffs_concatenated = np.concatenate(coeffs)\n",
        "\n",
        "        psd_mean, psd_max, psd_min, psd_var, centroid_freq, mean_sq_freq = PSD_function(coeffs_concatenated)\n",
        "        approximate_entropy = ApEn(coeffs_concatenated, 2, 0.2)\n",
        "        sample_en = sample_entropy(coeffs_concatenated, 3)\n",
        "        shannon_en = shannon_entropy(coeffs_concatenated)\n",
        "\n",
        "        # Non-fiducial features\n",
        "        Mean = np.mean(coeffs_concatenated)\n",
        "        St_Dev = np.std(coeffs_concatenated)\n",
        "        Median = np.median(coeffs_concatenated)\n",
        "        Variance = np.var(coeffs_concatenated)\n",
        "        Kurtosis = kurtosis(coeffs_concatenated)\n",
        "        Skewness = skew(coeffs_concatenated)\n",
        "        q1 = np.mean(np.percentile(coeffs_concatenated, 25))\n",
        "        q3 = np.mean(np.percentile(coeffs_concatenated, 75))\n",
        "        rms_value = np.sqrt(np.mean(coeffs_concatenated ** 2))\n",
        "        maximum = np.max(coeffs_concatenated)\n",
        "        minimum = np.min(coeffs_concatenated)\n",
        "        signal_range = np.max(coeffs_concatenated) - np.min(coeffs_concatenated)\n",
        "        iqr = q3 - q1\n",
        "        cv = St_Dev / Mean\n",
        "        mad = np.mean(np.abs(coeffs_concatenated - Mean))\n",
        "        rmsd = np.sqrt(np.mean((coeffs_concatenated - Mean) ** 2))\n",
        "        zero_crossing_rate = np.sum(np.diff(np.sign(coeffs_concatenated)) != 0) / (2 * len(coeffs_concatenated))\n",
        "        spectral_centroid = np.sum(np.arange(len(coeffs_concatenated)) * np.abs(np.fft.fft(coeffs_concatenated))) / np.sum(np.abs(np.fft.fft(coeffs_concatenated)))\n",
        "        spectral_flatness = np.exp(np.mean(np.log(np.abs(np.fft.fft(coeffs_concatenated))))) / np.mean(np.abs(np.fft.fft(coeffs_concatenated)))\n",
        "        ##\n",
        "        psd_mean, psd_max, psd_min, psd_var, centroid_freq, mean_sq_freq = PSD_function(coeffs_concatenated)\n",
        "        approximate_entropy = ApEn(coeffs_concatenated, 2, 0.2)\n",
        "        sample_en = sample_entropy(coeffs_concatenated, 3)\n",
        "        shannon_en = shannon_entropy(coeffs_concatenated)\n",
        "        ##\n",
        "\n",
        "        result_array[i, :] = [Mean, St_Dev, Median, Variance, Kurtosis, Skewness, q1, q3, rms_value, maximum, \\\n",
        "                              minimum, signal_range, iqr, cv, mad, rmsd, zero_crossing_rate, spectral_centroid, \\\n",
        "                              spectral_flatness,centroid_freq, psd_mean, psd_max, psd_min, psd_var, \\\n",
        "                              approximate_entropy, sample_en, shannon_en]\n",
        "\n",
        "    result_array = pd.DataFrame(result_array)\n",
        "    return result_array"
      ]
    },
    {
      "cell_type": "code",
      "execution_count": 40,
      "metadata": {
        "id": "ULAhX3t83HkX"
      },
      "outputs": [],
      "source": [
        "# Authorised features\n",
        "\n",
        "X_wpt = wpt_features(X_n)\n",
        "X_wp1 = wpt_features(first_n)\n",
        "X_wp2 = wpt_features(second_n)\n",
        "X_wp3 = wpt_features(third_n)\n",
        "\n",
        "X_wpt = pd.concat([X_wpt, X_wp1], axis = 1, ignore_index = True)\n",
        "X_wpt = pd.concat([X_wpt, X_wp2], axis = 1, ignore_index = True)\n",
        "X_wpt = pd.concat([X_wpt, X_wp3], axis = 1, ignore_index = True)"
      ]
    },
    {
      "cell_type": "markdown",
      "metadata": {
        "id": "YGTQmx4on2oG"
      },
      "source": [
        "### Entropy + FFT features"
      ]
    },
    {
      "cell_type": "code",
      "execution_count": 41,
      "metadata": {
        "id": "7kd3dHIvo-o8"
      },
      "outputs": [],
      "source": [
        "# Authroised dataset\n",
        "# X_psd_en = pd.concat([X_psd, X_en], axis = 1, ignore_index = True)"
      ]
    },
    {
      "cell_type": "markdown",
      "metadata": {
        "id": "UqJmLrlGKJs4"
      },
      "source": [
        "# Feature Normalization"
      ]
    },
    {
      "cell_type": "code",
      "execution_count": 42,
      "metadata": {
        "id": "gNxGH69ay53i"
      },
      "outputs": [],
      "source": [
        "# X = pd.concat([X_stat, X_en, X_fid], axis = 1, ignore_index = True)\n",
        "# X = X_freq"
      ]
    },
    {
      "cell_type": "code",
      "execution_count": 43,
      "metadata": {
        "id": "sBTtRVlf1ymL"
      },
      "outputs": [],
      "source": [
        "# X = X.dropna(axis = 1)\n",
        "# col = X.columns\n",
        "\n",
        "# nm = MinMaxScaler()\n",
        "# X = nm.fit_transform(X)"
      ]
    },
    {
      "cell_type": "code",
      "execution_count": 44,
      "metadata": {
        "colab": {
          "base_uri": "https://localhost:8080/"
        },
        "id": "hYMIrZnw6I15",
        "outputId": "bc9567fa-125f-4a03-a9eb-b2a848e7cae5"
      },
      "outputs": [],
      "source": [
        "# X.shape"
      ]
    },
    {
      "cell_type": "markdown",
      "metadata": {
        "id": "a0848DwMUsKr"
      },
      "source": [
        "# Feature Selection"
      ]
    },
    {
      "cell_type": "code",
      "execution_count": 45,
      "metadata": {
        "colab": {
          "base_uri": "https://localhost:8080/"
        },
        "id": "-ho9gPaKKI_f",
        "outputId": "e53b162e-c369-4835-9d1e-c5a100a7410e"
      },
      "outputs": [
        {
          "name": "stdout",
          "output_type": "stream",
          "text": [
            "(504, 1)\n"
          ]
        }
      ],
      "source": [
        "# y_demo = pd.Series(pd.concat([pd.Series(y_temp),pd.Series(y_unauth)], axis = 0))\n",
        "X_demo = pd.DataFrame(X)\n",
        "y_demo = pd.DataFrame(y)\n",
        "print(y_demo.shape)"
      ]
    },
    {
      "cell_type": "markdown",
      "metadata": {
        "id": "J26fd6DdWyJ1"
      },
      "source": [
        "## RFE"
      ]
    },
    {
      "cell_type": "code",
      "execution_count": 46,
      "metadata": {
        "colab": {
          "base_uri": "https://localhost:8080/"
        },
        "id": "fKXNkhOGWwkI",
        "outputId": "13cadfd4-4a64-44a6-84a9-9eabd28bad1d"
      },
      "outputs": [
        {
          "name": "stderr",
          "output_type": "stream",
          "text": [
            "/Users/tuhindas/Python Venv/Shrine/lib/python3.12/site-packages/sklearn/base.py:1473: DataConversionWarning: A column-vector y was passed when a 1d array was expected. Please change the shape of y to (n_samples,), for example using ravel().\n",
            "  return fit_method(estimator, *args, **kwargs)\n",
            "/Users/tuhindas/Python Venv/Shrine/lib/python3.12/site-packages/sklearn/base.py:1473: DataConversionWarning: A column-vector y was passed when a 1d array was expected. Please change the shape of y to (n_samples,), for example using ravel().\n",
            "  return fit_method(estimator, *args, **kwargs)\n",
            "/Users/tuhindas/Python Venv/Shrine/lib/python3.12/site-packages/sklearn/base.py:1473: DataConversionWarning: A column-vector y was passed when a 1d array was expected. Please change the shape of y to (n_samples,), for example using ravel().\n",
            "  return fit_method(estimator, *args, **kwargs)\n",
            "/Users/tuhindas/Python Venv/Shrine/lib/python3.12/site-packages/sklearn/base.py:1473: DataConversionWarning: A column-vector y was passed when a 1d array was expected. Please change the shape of y to (n_samples,), for example using ravel().\n",
            "  return fit_method(estimator, *args, **kwargs)\n",
            "/Users/tuhindas/Python Venv/Shrine/lib/python3.12/site-packages/sklearn/base.py:1473: DataConversionWarning: A column-vector y was passed when a 1d array was expected. Please change the shape of y to (n_samples,), for example using ravel().\n",
            "  return fit_method(estimator, *args, **kwargs)\n",
            "/Users/tuhindas/Python Venv/Shrine/lib/python3.12/site-packages/sklearn/base.py:1473: DataConversionWarning: A column-vector y was passed when a 1d array was expected. Please change the shape of y to (n_samples,), for example using ravel().\n",
            "  return fit_method(estimator, *args, **kwargs)\n",
            "/Users/tuhindas/Python Venv/Shrine/lib/python3.12/site-packages/sklearn/base.py:1473: DataConversionWarning: A column-vector y was passed when a 1d array was expected. Please change the shape of y to (n_samples,), for example using ravel().\n",
            "  return fit_method(estimator, *args, **kwargs)\n",
            "/Users/tuhindas/Python Venv/Shrine/lib/python3.12/site-packages/sklearn/base.py:1473: DataConversionWarning: A column-vector y was passed when a 1d array was expected. Please change the shape of y to (n_samples,), for example using ravel().\n",
            "  return fit_method(estimator, *args, **kwargs)\n",
            "/Users/tuhindas/Python Venv/Shrine/lib/python3.12/site-packages/sklearn/base.py:1473: DataConversionWarning: A column-vector y was passed when a 1d array was expected. Please change the shape of y to (n_samples,), for example using ravel().\n",
            "  return fit_method(estimator, *args, **kwargs)\n",
            "/Users/tuhindas/Python Venv/Shrine/lib/python3.12/site-packages/sklearn/base.py:1473: DataConversionWarning: A column-vector y was passed when a 1d array was expected. Please change the shape of y to (n_samples,), for example using ravel().\n",
            "  return fit_method(estimator, *args, **kwargs)\n",
            "/Users/tuhindas/Python Venv/Shrine/lib/python3.12/site-packages/sklearn/base.py:1473: DataConversionWarning: A column-vector y was passed when a 1d array was expected. Please change the shape of y to (n_samples,), for example using ravel().\n",
            "  return fit_method(estimator, *args, **kwargs)\n",
            "/Users/tuhindas/Python Venv/Shrine/lib/python3.12/site-packages/sklearn/base.py:1473: DataConversionWarning: A column-vector y was passed when a 1d array was expected. Please change the shape of y to (n_samples,), for example using ravel().\n",
            "  return fit_method(estimator, *args, **kwargs)\n",
            "/Users/tuhindas/Python Venv/Shrine/lib/python3.12/site-packages/sklearn/base.py:1473: DataConversionWarning: A column-vector y was passed when a 1d array was expected. Please change the shape of y to (n_samples,), for example using ravel().\n",
            "  return fit_method(estimator, *args, **kwargs)\n",
            "/Users/tuhindas/Python Venv/Shrine/lib/python3.12/site-packages/sklearn/base.py:1473: DataConversionWarning: A column-vector y was passed when a 1d array was expected. Please change the shape of y to (n_samples,), for example using ravel().\n",
            "  return fit_method(estimator, *args, **kwargs)\n",
            "/Users/tuhindas/Python Venv/Shrine/lib/python3.12/site-packages/sklearn/base.py:1473: DataConversionWarning: A column-vector y was passed when a 1d array was expected. Please change the shape of y to (n_samples,), for example using ravel().\n",
            "  return fit_method(estimator, *args, **kwargs)\n",
            "/Users/tuhindas/Python Venv/Shrine/lib/python3.12/site-packages/sklearn/base.py:1473: DataConversionWarning: A column-vector y was passed when a 1d array was expected. Please change the shape of y to (n_samples,), for example using ravel().\n",
            "  return fit_method(estimator, *args, **kwargs)\n",
            "/Users/tuhindas/Python Venv/Shrine/lib/python3.12/site-packages/sklearn/base.py:1473: DataConversionWarning: A column-vector y was passed when a 1d array was expected. Please change the shape of y to (n_samples,), for example using ravel().\n",
            "  return fit_method(estimator, *args, **kwargs)\n",
            "/Users/tuhindas/Python Venv/Shrine/lib/python3.12/site-packages/sklearn/base.py:1473: DataConversionWarning: A column-vector y was passed when a 1d array was expected. Please change the shape of y to (n_samples,), for example using ravel().\n",
            "  return fit_method(estimator, *args, **kwargs)\n",
            "/Users/tuhindas/Python Venv/Shrine/lib/python3.12/site-packages/sklearn/base.py:1473: DataConversionWarning: A column-vector y was passed when a 1d array was expected. Please change the shape of y to (n_samples,), for example using ravel().\n",
            "  return fit_method(estimator, *args, **kwargs)\n",
            "/Users/tuhindas/Python Venv/Shrine/lib/python3.12/site-packages/sklearn/base.py:1473: DataConversionWarning: A column-vector y was passed when a 1d array was expected. Please change the shape of y to (n_samples,), for example using ravel().\n",
            "  return fit_method(estimator, *args, **kwargs)\n",
            "/Users/tuhindas/Python Venv/Shrine/lib/python3.12/site-packages/sklearn/base.py:1473: DataConversionWarning: A column-vector y was passed when a 1d array was expected. Please change the shape of y to (n_samples,), for example using ravel().\n",
            "  return fit_method(estimator, *args, **kwargs)\n",
            "/Users/tuhindas/Python Venv/Shrine/lib/python3.12/site-packages/sklearn/base.py:1473: DataConversionWarning: A column-vector y was passed when a 1d array was expected. Please change the shape of y to (n_samples,), for example using ravel().\n",
            "  return fit_method(estimator, *args, **kwargs)\n",
            "/Users/tuhindas/Python Venv/Shrine/lib/python3.12/site-packages/sklearn/base.py:1473: DataConversionWarning: A column-vector y was passed when a 1d array was expected. Please change the shape of y to (n_samples,), for example using ravel().\n",
            "  return fit_method(estimator, *args, **kwargs)\n",
            "/Users/tuhindas/Python Venv/Shrine/lib/python3.12/site-packages/sklearn/base.py:1473: DataConversionWarning: A column-vector y was passed when a 1d array was expected. Please change the shape of y to (n_samples,), for example using ravel().\n",
            "  return fit_method(estimator, *args, **kwargs)\n",
            "/Users/tuhindas/Python Venv/Shrine/lib/python3.12/site-packages/sklearn/base.py:1473: DataConversionWarning: A column-vector y was passed when a 1d array was expected. Please change the shape of y to (n_samples,), for example using ravel().\n",
            "  return fit_method(estimator, *args, **kwargs)\n",
            "/Users/tuhindas/Python Venv/Shrine/lib/python3.12/site-packages/sklearn/base.py:1473: DataConversionWarning: A column-vector y was passed when a 1d array was expected. Please change the shape of y to (n_samples,), for example using ravel().\n",
            "  return fit_method(estimator, *args, **kwargs)\n",
            "/Users/tuhindas/Python Venv/Shrine/lib/python3.12/site-packages/sklearn/base.py:1473: DataConversionWarning: A column-vector y was passed when a 1d array was expected. Please change the shape of y to (n_samples,), for example using ravel().\n",
            "  return fit_method(estimator, *args, **kwargs)\n",
            "/Users/tuhindas/Python Venv/Shrine/lib/python3.12/site-packages/sklearn/base.py:1473: DataConversionWarning: A column-vector y was passed when a 1d array was expected. Please change the shape of y to (n_samples,), for example using ravel().\n",
            "  return fit_method(estimator, *args, **kwargs)\n",
            "/Users/tuhindas/Python Venv/Shrine/lib/python3.12/site-packages/sklearn/base.py:1473: DataConversionWarning: A column-vector y was passed when a 1d array was expected. Please change the shape of y to (n_samples,), for example using ravel().\n",
            "  return fit_method(estimator, *args, **kwargs)\n",
            "/Users/tuhindas/Python Venv/Shrine/lib/python3.12/site-packages/sklearn/base.py:1473: DataConversionWarning: A column-vector y was passed when a 1d array was expected. Please change the shape of y to (n_samples,), for example using ravel().\n",
            "  return fit_method(estimator, *args, **kwargs)\n",
            "/Users/tuhindas/Python Venv/Shrine/lib/python3.12/site-packages/sklearn/base.py:1473: DataConversionWarning: A column-vector y was passed when a 1d array was expected. Please change the shape of y to (n_samples,), for example using ravel().\n",
            "  return fit_method(estimator, *args, **kwargs)\n",
            "/Users/tuhindas/Python Venv/Shrine/lib/python3.12/site-packages/sklearn/base.py:1473: DataConversionWarning: A column-vector y was passed when a 1d array was expected. Please change the shape of y to (n_samples,), for example using ravel().\n",
            "  return fit_method(estimator, *args, **kwargs)\n",
            "/Users/tuhindas/Python Venv/Shrine/lib/python3.12/site-packages/sklearn/base.py:1473: DataConversionWarning: A column-vector y was passed when a 1d array was expected. Please change the shape of y to (n_samples,), for example using ravel().\n",
            "  return fit_method(estimator, *args, **kwargs)\n",
            "/Users/tuhindas/Python Venv/Shrine/lib/python3.12/site-packages/sklearn/base.py:1473: DataConversionWarning: A column-vector y was passed when a 1d array was expected. Please change the shape of y to (n_samples,), for example using ravel().\n",
            "  return fit_method(estimator, *args, **kwargs)\n",
            "/Users/tuhindas/Python Venv/Shrine/lib/python3.12/site-packages/sklearn/base.py:1473: DataConversionWarning: A column-vector y was passed when a 1d array was expected. Please change the shape of y to (n_samples,), for example using ravel().\n",
            "  return fit_method(estimator, *args, **kwargs)\n",
            "/Users/tuhindas/Python Venv/Shrine/lib/python3.12/site-packages/sklearn/base.py:1473: DataConversionWarning: A column-vector y was passed when a 1d array was expected. Please change the shape of y to (n_samples,), for example using ravel().\n",
            "  return fit_method(estimator, *args, **kwargs)\n",
            "/Users/tuhindas/Python Venv/Shrine/lib/python3.12/site-packages/sklearn/base.py:1473: DataConversionWarning: A column-vector y was passed when a 1d array was expected. Please change the shape of y to (n_samples,), for example using ravel().\n",
            "  return fit_method(estimator, *args, **kwargs)\n",
            "/Users/tuhindas/Python Venv/Shrine/lib/python3.12/site-packages/sklearn/base.py:1473: DataConversionWarning: A column-vector y was passed when a 1d array was expected. Please change the shape of y to (n_samples,), for example using ravel().\n",
            "  return fit_method(estimator, *args, **kwargs)\n",
            "/Users/tuhindas/Python Venv/Shrine/lib/python3.12/site-packages/sklearn/base.py:1473: DataConversionWarning: A column-vector y was passed when a 1d array was expected. Please change the shape of y to (n_samples,), for example using ravel().\n",
            "  return fit_method(estimator, *args, **kwargs)\n",
            "/Users/tuhindas/Python Venv/Shrine/lib/python3.12/site-packages/sklearn/base.py:1473: DataConversionWarning: A column-vector y was passed when a 1d array was expected. Please change the shape of y to (n_samples,), for example using ravel().\n",
            "  return fit_method(estimator, *args, **kwargs)\n",
            "/Users/tuhindas/Python Venv/Shrine/lib/python3.12/site-packages/sklearn/base.py:1473: DataConversionWarning: A column-vector y was passed when a 1d array was expected. Please change the shape of y to (n_samples,), for example using ravel().\n",
            "  return fit_method(estimator, *args, **kwargs)\n",
            "/Users/tuhindas/Python Venv/Shrine/lib/python3.12/site-packages/sklearn/base.py:1473: DataConversionWarning: A column-vector y was passed when a 1d array was expected. Please change the shape of y to (n_samples,), for example using ravel().\n",
            "  return fit_method(estimator, *args, **kwargs)\n",
            "/Users/tuhindas/Python Venv/Shrine/lib/python3.12/site-packages/sklearn/base.py:1473: DataConversionWarning: A column-vector y was passed when a 1d array was expected. Please change the shape of y to (n_samples,), for example using ravel().\n",
            "  return fit_method(estimator, *args, **kwargs)\n",
            "/Users/tuhindas/Python Venv/Shrine/lib/python3.12/site-packages/sklearn/base.py:1473: DataConversionWarning: A column-vector y was passed when a 1d array was expected. Please change the shape of y to (n_samples,), for example using ravel().\n",
            "  return fit_method(estimator, *args, **kwargs)\n",
            "/Users/tuhindas/Python Venv/Shrine/lib/python3.12/site-packages/sklearn/base.py:1473: DataConversionWarning: A column-vector y was passed when a 1d array was expected. Please change the shape of y to (n_samples,), for example using ravel().\n",
            "  return fit_method(estimator, *args, **kwargs)\n",
            "/Users/tuhindas/Python Venv/Shrine/lib/python3.12/site-packages/sklearn/base.py:1473: DataConversionWarning: A column-vector y was passed when a 1d array was expected. Please change the shape of y to (n_samples,), for example using ravel().\n",
            "  return fit_method(estimator, *args, **kwargs)\n",
            "/Users/tuhindas/Python Venv/Shrine/lib/python3.12/site-packages/sklearn/base.py:1473: DataConversionWarning: A column-vector y was passed when a 1d array was expected. Please change the shape of y to (n_samples,), for example using ravel().\n",
            "  return fit_method(estimator, *args, **kwargs)\n",
            "/Users/tuhindas/Python Venv/Shrine/lib/python3.12/site-packages/sklearn/base.py:1473: DataConversionWarning: A column-vector y was passed when a 1d array was expected. Please change the shape of y to (n_samples,), for example using ravel().\n",
            "  return fit_method(estimator, *args, **kwargs)\n",
            "/Users/tuhindas/Python Venv/Shrine/lib/python3.12/site-packages/sklearn/base.py:1473: DataConversionWarning: A column-vector y was passed when a 1d array was expected. Please change the shape of y to (n_samples,), for example using ravel().\n",
            "  return fit_method(estimator, *args, **kwargs)\n",
            "/Users/tuhindas/Python Venv/Shrine/lib/python3.12/site-packages/sklearn/base.py:1473: DataConversionWarning: A column-vector y was passed when a 1d array was expected. Please change the shape of y to (n_samples,), for example using ravel().\n",
            "  return fit_method(estimator, *args, **kwargs)\n",
            "/Users/tuhindas/Python Venv/Shrine/lib/python3.12/site-packages/sklearn/base.py:1473: DataConversionWarning: A column-vector y was passed when a 1d array was expected. Please change the shape of y to (n_samples,), for example using ravel().\n",
            "  return fit_method(estimator, *args, **kwargs)\n",
            "/Users/tuhindas/Python Venv/Shrine/lib/python3.12/site-packages/sklearn/base.py:1473: DataConversionWarning: A column-vector y was passed when a 1d array was expected. Please change the shape of y to (n_samples,), for example using ravel().\n",
            "  return fit_method(estimator, *args, **kwargs)\n",
            "/Users/tuhindas/Python Venv/Shrine/lib/python3.12/site-packages/sklearn/base.py:1473: DataConversionWarning: A column-vector y was passed when a 1d array was expected. Please change the shape of y to (n_samples,), for example using ravel().\n",
            "  return fit_method(estimator, *args, **kwargs)\n",
            "/Users/tuhindas/Python Venv/Shrine/lib/python3.12/site-packages/sklearn/base.py:1473: DataConversionWarning: A column-vector y was passed when a 1d array was expected. Please change the shape of y to (n_samples,), for example using ravel().\n",
            "  return fit_method(estimator, *args, **kwargs)\n",
            "/Users/tuhindas/Python Venv/Shrine/lib/python3.12/site-packages/sklearn/base.py:1473: DataConversionWarning: A column-vector y was passed when a 1d array was expected. Please change the shape of y to (n_samples,), for example using ravel().\n",
            "  return fit_method(estimator, *args, **kwargs)\n",
            "/Users/tuhindas/Python Venv/Shrine/lib/python3.12/site-packages/sklearn/base.py:1473: DataConversionWarning: A column-vector y was passed when a 1d array was expected. Please change the shape of y to (n_samples,), for example using ravel().\n",
            "  return fit_method(estimator, *args, **kwargs)\n",
            "/Users/tuhindas/Python Venv/Shrine/lib/python3.12/site-packages/sklearn/base.py:1473: DataConversionWarning: A column-vector y was passed when a 1d array was expected. Please change the shape of y to (n_samples,), for example using ravel().\n",
            "  return fit_method(estimator, *args, **kwargs)\n",
            "/Users/tuhindas/Python Venv/Shrine/lib/python3.12/site-packages/sklearn/base.py:1473: DataConversionWarning: A column-vector y was passed when a 1d array was expected. Please change the shape of y to (n_samples,), for example using ravel().\n",
            "  return fit_method(estimator, *args, **kwargs)\n",
            "/Users/tuhindas/Python Venv/Shrine/lib/python3.12/site-packages/sklearn/base.py:1473: DataConversionWarning: A column-vector y was passed when a 1d array was expected. Please change the shape of y to (n_samples,), for example using ravel().\n",
            "  return fit_method(estimator, *args, **kwargs)\n",
            "/Users/tuhindas/Python Venv/Shrine/lib/python3.12/site-packages/sklearn/base.py:1473: DataConversionWarning: A column-vector y was passed when a 1d array was expected. Please change the shape of y to (n_samples,), for example using ravel().\n",
            "  return fit_method(estimator, *args, **kwargs)\n",
            "/Users/tuhindas/Python Venv/Shrine/lib/python3.12/site-packages/sklearn/base.py:1473: DataConversionWarning: A column-vector y was passed when a 1d array was expected. Please change the shape of y to (n_samples,), for example using ravel().\n",
            "  return fit_method(estimator, *args, **kwargs)\n",
            "/Users/tuhindas/Python Venv/Shrine/lib/python3.12/site-packages/sklearn/base.py:1473: DataConversionWarning: A column-vector y was passed when a 1d array was expected. Please change the shape of y to (n_samples,), for example using ravel().\n",
            "  return fit_method(estimator, *args, **kwargs)\n",
            "/Users/tuhindas/Python Venv/Shrine/lib/python3.12/site-packages/sklearn/base.py:1473: DataConversionWarning: A column-vector y was passed when a 1d array was expected. Please change the shape of y to (n_samples,), for example using ravel().\n",
            "  return fit_method(estimator, *args, **kwargs)\n",
            "/Users/tuhindas/Python Venv/Shrine/lib/python3.12/site-packages/sklearn/base.py:1473: DataConversionWarning: A column-vector y was passed when a 1d array was expected. Please change the shape of y to (n_samples,), for example using ravel().\n",
            "  return fit_method(estimator, *args, **kwargs)\n",
            "/Users/tuhindas/Python Venv/Shrine/lib/python3.12/site-packages/sklearn/base.py:1473: DataConversionWarning: A column-vector y was passed when a 1d array was expected. Please change the shape of y to (n_samples,), for example using ravel().\n",
            "  return fit_method(estimator, *args, **kwargs)\n",
            "/Users/tuhindas/Python Venv/Shrine/lib/python3.12/site-packages/sklearn/base.py:1473: DataConversionWarning: A column-vector y was passed when a 1d array was expected. Please change the shape of y to (n_samples,), for example using ravel().\n",
            "  return fit_method(estimator, *args, **kwargs)\n",
            "/Users/tuhindas/Python Venv/Shrine/lib/python3.12/site-packages/sklearn/base.py:1473: DataConversionWarning: A column-vector y was passed when a 1d array was expected. Please change the shape of y to (n_samples,), for example using ravel().\n",
            "  return fit_method(estimator, *args, **kwargs)\n",
            "/Users/tuhindas/Python Venv/Shrine/lib/python3.12/site-packages/sklearn/base.py:1473: DataConversionWarning: A column-vector y was passed when a 1d array was expected. Please change the shape of y to (n_samples,), for example using ravel().\n",
            "  return fit_method(estimator, *args, **kwargs)\n",
            "/Users/tuhindas/Python Venv/Shrine/lib/python3.12/site-packages/sklearn/base.py:1473: DataConversionWarning: A column-vector y was passed when a 1d array was expected. Please change the shape of y to (n_samples,), for example using ravel().\n",
            "  return fit_method(estimator, *args, **kwargs)\n",
            "/Users/tuhindas/Python Venv/Shrine/lib/python3.12/site-packages/sklearn/base.py:1473: DataConversionWarning: A column-vector y was passed when a 1d array was expected. Please change the shape of y to (n_samples,), for example using ravel().\n",
            "  return fit_method(estimator, *args, **kwargs)\n",
            "/Users/tuhindas/Python Venv/Shrine/lib/python3.12/site-packages/sklearn/base.py:1473: DataConversionWarning: A column-vector y was passed when a 1d array was expected. Please change the shape of y to (n_samples,), for example using ravel().\n",
            "  return fit_method(estimator, *args, **kwargs)\n",
            "/Users/tuhindas/Python Venv/Shrine/lib/python3.12/site-packages/sklearn/base.py:1473: DataConversionWarning: A column-vector y was passed when a 1d array was expected. Please change the shape of y to (n_samples,), for example using ravel().\n",
            "  return fit_method(estimator, *args, **kwargs)\n",
            "/Users/tuhindas/Python Venv/Shrine/lib/python3.12/site-packages/sklearn/base.py:1473: DataConversionWarning: A column-vector y was passed when a 1d array was expected. Please change the shape of y to (n_samples,), for example using ravel().\n",
            "  return fit_method(estimator, *args, **kwargs)\n",
            "/Users/tuhindas/Python Venv/Shrine/lib/python3.12/site-packages/sklearn/base.py:1473: DataConversionWarning: A column-vector y was passed when a 1d array was expected. Please change the shape of y to (n_samples,), for example using ravel().\n",
            "  return fit_method(estimator, *args, **kwargs)\n",
            "/Users/tuhindas/Python Venv/Shrine/lib/python3.12/site-packages/sklearn/base.py:1473: DataConversionWarning: A column-vector y was passed when a 1d array was expected. Please change the shape of y to (n_samples,), for example using ravel().\n",
            "  return fit_method(estimator, *args, **kwargs)\n",
            "/Users/tuhindas/Python Venv/Shrine/lib/python3.12/site-packages/sklearn/base.py:1473: DataConversionWarning: A column-vector y was passed when a 1d array was expected. Please change the shape of y to (n_samples,), for example using ravel().\n",
            "  return fit_method(estimator, *args, **kwargs)\n",
            "/Users/tuhindas/Python Venv/Shrine/lib/python3.12/site-packages/sklearn/base.py:1473: DataConversionWarning: A column-vector y was passed when a 1d array was expected. Please change the shape of y to (n_samples,), for example using ravel().\n",
            "  return fit_method(estimator, *args, **kwargs)\n",
            "/Users/tuhindas/Python Venv/Shrine/lib/python3.12/site-packages/sklearn/base.py:1473: DataConversionWarning: A column-vector y was passed when a 1d array was expected. Please change the shape of y to (n_samples,), for example using ravel().\n",
            "  return fit_method(estimator, *args, **kwargs)\n",
            "/Users/tuhindas/Python Venv/Shrine/lib/python3.12/site-packages/sklearn/base.py:1473: DataConversionWarning: A column-vector y was passed when a 1d array was expected. Please change the shape of y to (n_samples,), for example using ravel().\n",
            "  return fit_method(estimator, *args, **kwargs)\n",
            "/Users/tuhindas/Python Venv/Shrine/lib/python3.12/site-packages/sklearn/base.py:1473: DataConversionWarning: A column-vector y was passed when a 1d array was expected. Please change the shape of y to (n_samples,), for example using ravel().\n",
            "  return fit_method(estimator, *args, **kwargs)\n",
            "/Users/tuhindas/Python Venv/Shrine/lib/python3.12/site-packages/sklearn/base.py:1473: DataConversionWarning: A column-vector y was passed when a 1d array was expected. Please change the shape of y to (n_samples,), for example using ravel().\n",
            "  return fit_method(estimator, *args, **kwargs)\n",
            "/Users/tuhindas/Python Venv/Shrine/lib/python3.12/site-packages/sklearn/base.py:1473: DataConversionWarning: A column-vector y was passed when a 1d array was expected. Please change the shape of y to (n_samples,), for example using ravel().\n",
            "  return fit_method(estimator, *args, **kwargs)\n",
            "/Users/tuhindas/Python Venv/Shrine/lib/python3.12/site-packages/sklearn/base.py:1473: DataConversionWarning: A column-vector y was passed when a 1d array was expected. Please change the shape of y to (n_samples,), for example using ravel().\n",
            "  return fit_method(estimator, *args, **kwargs)\n",
            "/Users/tuhindas/Python Venv/Shrine/lib/python3.12/site-packages/sklearn/base.py:1473: DataConversionWarning: A column-vector y was passed when a 1d array was expected. Please change the shape of y to (n_samples,), for example using ravel().\n",
            "  return fit_method(estimator, *args, **kwargs)\n",
            "/Users/tuhindas/Python Venv/Shrine/lib/python3.12/site-packages/sklearn/base.py:1473: DataConversionWarning: A column-vector y was passed when a 1d array was expected. Please change the shape of y to (n_samples,), for example using ravel().\n",
            "  return fit_method(estimator, *args, **kwargs)\n",
            "/Users/tuhindas/Python Venv/Shrine/lib/python3.12/site-packages/sklearn/base.py:1473: DataConversionWarning: A column-vector y was passed when a 1d array was expected. Please change the shape of y to (n_samples,), for example using ravel().\n",
            "  return fit_method(estimator, *args, **kwargs)\n",
            "/Users/tuhindas/Python Venv/Shrine/lib/python3.12/site-packages/sklearn/base.py:1473: DataConversionWarning: A column-vector y was passed when a 1d array was expected. Please change the shape of y to (n_samples,), for example using ravel().\n",
            "  return fit_method(estimator, *args, **kwargs)\n",
            "/Users/tuhindas/Python Venv/Shrine/lib/python3.12/site-packages/sklearn/base.py:1473: DataConversionWarning: A column-vector y was passed when a 1d array was expected. Please change the shape of y to (n_samples,), for example using ravel().\n",
            "  return fit_method(estimator, *args, **kwargs)\n",
            "/Users/tuhindas/Python Venv/Shrine/lib/python3.12/site-packages/sklearn/base.py:1473: DataConversionWarning: A column-vector y was passed when a 1d array was expected. Please change the shape of y to (n_samples,), for example using ravel().\n",
            "  return fit_method(estimator, *args, **kwargs)\n",
            "/Users/tuhindas/Python Venv/Shrine/lib/python3.12/site-packages/sklearn/base.py:1473: DataConversionWarning: A column-vector y was passed when a 1d array was expected. Please change the shape of y to (n_samples,), for example using ravel().\n",
            "  return fit_method(estimator, *args, **kwargs)\n",
            "/Users/tuhindas/Python Venv/Shrine/lib/python3.12/site-packages/sklearn/base.py:1473: DataConversionWarning: A column-vector y was passed when a 1d array was expected. Please change the shape of y to (n_samples,), for example using ravel().\n",
            "  return fit_method(estimator, *args, **kwargs)\n",
            "/Users/tuhindas/Python Venv/Shrine/lib/python3.12/site-packages/sklearn/base.py:1473: DataConversionWarning: A column-vector y was passed when a 1d array was expected. Please change the shape of y to (n_samples,), for example using ravel().\n",
            "  return fit_method(estimator, *args, **kwargs)\n",
            "/Users/tuhindas/Python Venv/Shrine/lib/python3.12/site-packages/sklearn/base.py:1473: DataConversionWarning: A column-vector y was passed when a 1d array was expected. Please change the shape of y to (n_samples,), for example using ravel().\n",
            "  return fit_method(estimator, *args, **kwargs)\n",
            "/Users/tuhindas/Python Venv/Shrine/lib/python3.12/site-packages/sklearn/base.py:1473: DataConversionWarning: A column-vector y was passed when a 1d array was expected. Please change the shape of y to (n_samples,), for example using ravel().\n",
            "  return fit_method(estimator, *args, **kwargs)\n",
            "/Users/tuhindas/Python Venv/Shrine/lib/python3.12/site-packages/sklearn/base.py:1473: DataConversionWarning: A column-vector y was passed when a 1d array was expected. Please change the shape of y to (n_samples,), for example using ravel().\n",
            "  return fit_method(estimator, *args, **kwargs)\n",
            "/Users/tuhindas/Python Venv/Shrine/lib/python3.12/site-packages/sklearn/base.py:1473: DataConversionWarning: A column-vector y was passed when a 1d array was expected. Please change the shape of y to (n_samples,), for example using ravel().\n",
            "  return fit_method(estimator, *args, **kwargs)\n",
            "/Users/tuhindas/Python Venv/Shrine/lib/python3.12/site-packages/sklearn/base.py:1473: DataConversionWarning: A column-vector y was passed when a 1d array was expected. Please change the shape of y to (n_samples,), for example using ravel().\n",
            "  return fit_method(estimator, *args, **kwargs)\n",
            "/Users/tuhindas/Python Venv/Shrine/lib/python3.12/site-packages/sklearn/base.py:1473: DataConversionWarning: A column-vector y was passed when a 1d array was expected. Please change the shape of y to (n_samples,), for example using ravel().\n",
            "  return fit_method(estimator, *args, **kwargs)\n",
            "/Users/tuhindas/Python Venv/Shrine/lib/python3.12/site-packages/sklearn/base.py:1473: DataConversionWarning: A column-vector y was passed when a 1d array was expected. Please change the shape of y to (n_samples,), for example using ravel().\n",
            "  return fit_method(estimator, *args, **kwargs)\n",
            "/Users/tuhindas/Python Venv/Shrine/lib/python3.12/site-packages/sklearn/base.py:1473: DataConversionWarning: A column-vector y was passed when a 1d array was expected. Please change the shape of y to (n_samples,), for example using ravel().\n",
            "  return fit_method(estimator, *args, **kwargs)\n",
            "/Users/tuhindas/Python Venv/Shrine/lib/python3.12/site-packages/sklearn/base.py:1473: DataConversionWarning: A column-vector y was passed when a 1d array was expected. Please change the shape of y to (n_samples,), for example using ravel().\n",
            "  return fit_method(estimator, *args, **kwargs)\n",
            "/Users/tuhindas/Python Venv/Shrine/lib/python3.12/site-packages/sklearn/base.py:1473: DataConversionWarning: A column-vector y was passed when a 1d array was expected. Please change the shape of y to (n_samples,), for example using ravel().\n",
            "  return fit_method(estimator, *args, **kwargs)\n",
            "/Users/tuhindas/Python Venv/Shrine/lib/python3.12/site-packages/sklearn/base.py:1473: DataConversionWarning: A column-vector y was passed when a 1d array was expected. Please change the shape of y to (n_samples,), for example using ravel().\n",
            "  return fit_method(estimator, *args, **kwargs)\n",
            "/Users/tuhindas/Python Venv/Shrine/lib/python3.12/site-packages/sklearn/base.py:1473: DataConversionWarning: A column-vector y was passed when a 1d array was expected. Please change the shape of y to (n_samples,), for example using ravel().\n",
            "  return fit_method(estimator, *args, **kwargs)\n",
            "/Users/tuhindas/Python Venv/Shrine/lib/python3.12/site-packages/sklearn/base.py:1473: DataConversionWarning: A column-vector y was passed when a 1d array was expected. Please change the shape of y to (n_samples,), for example using ravel().\n",
            "  return fit_method(estimator, *args, **kwargs)\n",
            "/Users/tuhindas/Python Venv/Shrine/lib/python3.12/site-packages/sklearn/base.py:1473: DataConversionWarning: A column-vector y was passed when a 1d array was expected. Please change the shape of y to (n_samples,), for example using ravel().\n",
            "  return fit_method(estimator, *args, **kwargs)\n",
            "/Users/tuhindas/Python Venv/Shrine/lib/python3.12/site-packages/sklearn/base.py:1473: DataConversionWarning: A column-vector y was passed when a 1d array was expected. Please change the shape of y to (n_samples,), for example using ravel().\n",
            "  return fit_method(estimator, *args, **kwargs)\n",
            "/Users/tuhindas/Python Venv/Shrine/lib/python3.12/site-packages/sklearn/base.py:1473: DataConversionWarning: A column-vector y was passed when a 1d array was expected. Please change the shape of y to (n_samples,), for example using ravel().\n",
            "  return fit_method(estimator, *args, **kwargs)\n",
            "/Users/tuhindas/Python Venv/Shrine/lib/python3.12/site-packages/sklearn/base.py:1473: DataConversionWarning: A column-vector y was passed when a 1d array was expected. Please change the shape of y to (n_samples,), for example using ravel().\n",
            "  return fit_method(estimator, *args, **kwargs)\n",
            "/Users/tuhindas/Python Venv/Shrine/lib/python3.12/site-packages/sklearn/base.py:1473: DataConversionWarning: A column-vector y was passed when a 1d array was expected. Please change the shape of y to (n_samples,), for example using ravel().\n",
            "  return fit_method(estimator, *args, **kwargs)\n",
            "/Users/tuhindas/Python Venv/Shrine/lib/python3.12/site-packages/sklearn/base.py:1473: DataConversionWarning: A column-vector y was passed when a 1d array was expected. Please change the shape of y to (n_samples,), for example using ravel().\n",
            "  return fit_method(estimator, *args, **kwargs)\n",
            "/Users/tuhindas/Python Venv/Shrine/lib/python3.12/site-packages/sklearn/base.py:1473: DataConversionWarning: A column-vector y was passed when a 1d array was expected. Please change the shape of y to (n_samples,), for example using ravel().\n",
            "  return fit_method(estimator, *args, **kwargs)\n",
            "/Users/tuhindas/Python Venv/Shrine/lib/python3.12/site-packages/sklearn/base.py:1473: DataConversionWarning: A column-vector y was passed when a 1d array was expected. Please change the shape of y to (n_samples,), for example using ravel().\n",
            "  return fit_method(estimator, *args, **kwargs)\n",
            "/Users/tuhindas/Python Venv/Shrine/lib/python3.12/site-packages/sklearn/base.py:1473: DataConversionWarning: A column-vector y was passed when a 1d array was expected. Please change the shape of y to (n_samples,), for example using ravel().\n",
            "  return fit_method(estimator, *args, **kwargs)\n",
            "/Users/tuhindas/Python Venv/Shrine/lib/python3.12/site-packages/sklearn/base.py:1473: DataConversionWarning: A column-vector y was passed when a 1d array was expected. Please change the shape of y to (n_samples,), for example using ravel().\n",
            "  return fit_method(estimator, *args, **kwargs)\n",
            "/Users/tuhindas/Python Venv/Shrine/lib/python3.12/site-packages/sklearn/base.py:1473: DataConversionWarning: A column-vector y was passed when a 1d array was expected. Please change the shape of y to (n_samples,), for example using ravel().\n",
            "  return fit_method(estimator, *args, **kwargs)\n",
            "/Users/tuhindas/Python Venv/Shrine/lib/python3.12/site-packages/sklearn/base.py:1473: DataConversionWarning: A column-vector y was passed when a 1d array was expected. Please change the shape of y to (n_samples,), for example using ravel().\n",
            "  return fit_method(estimator, *args, **kwargs)\n",
            "/Users/tuhindas/Python Venv/Shrine/lib/python3.12/site-packages/sklearn/base.py:1473: DataConversionWarning: A column-vector y was passed when a 1d array was expected. Please change the shape of y to (n_samples,), for example using ravel().\n",
            "  return fit_method(estimator, *args, **kwargs)\n",
            "/Users/tuhindas/Python Venv/Shrine/lib/python3.12/site-packages/sklearn/base.py:1473: DataConversionWarning: A column-vector y was passed when a 1d array was expected. Please change the shape of y to (n_samples,), for example using ravel().\n",
            "  return fit_method(estimator, *args, **kwargs)\n",
            "/Users/tuhindas/Python Venv/Shrine/lib/python3.12/site-packages/sklearn/base.py:1473: DataConversionWarning: A column-vector y was passed when a 1d array was expected. Please change the shape of y to (n_samples,), for example using ravel().\n",
            "  return fit_method(estimator, *args, **kwargs)\n",
            "/Users/tuhindas/Python Venv/Shrine/lib/python3.12/site-packages/sklearn/base.py:1473: DataConversionWarning: A column-vector y was passed when a 1d array was expected. Please change the shape of y to (n_samples,), for example using ravel().\n",
            "  return fit_method(estimator, *args, **kwargs)\n",
            "/Users/tuhindas/Python Venv/Shrine/lib/python3.12/site-packages/sklearn/base.py:1473: DataConversionWarning: A column-vector y was passed when a 1d array was expected. Please change the shape of y to (n_samples,), for example using ravel().\n",
            "  return fit_method(estimator, *args, **kwargs)\n",
            "/Users/tuhindas/Python Venv/Shrine/lib/python3.12/site-packages/sklearn/base.py:1473: DataConversionWarning: A column-vector y was passed when a 1d array was expected. Please change the shape of y to (n_samples,), for example using ravel().\n",
            "  return fit_method(estimator, *args, **kwargs)\n",
            "/Users/tuhindas/Python Venv/Shrine/lib/python3.12/site-packages/sklearn/base.py:1473: DataConversionWarning: A column-vector y was passed when a 1d array was expected. Please change the shape of y to (n_samples,), for example using ravel().\n",
            "  return fit_method(estimator, *args, **kwargs)\n",
            "/Users/tuhindas/Python Venv/Shrine/lib/python3.12/site-packages/sklearn/base.py:1473: DataConversionWarning: A column-vector y was passed when a 1d array was expected. Please change the shape of y to (n_samples,), for example using ravel().\n",
            "  return fit_method(estimator, *args, **kwargs)\n",
            "/Users/tuhindas/Python Venv/Shrine/lib/python3.12/site-packages/sklearn/base.py:1473: DataConversionWarning: A column-vector y was passed when a 1d array was expected. Please change the shape of y to (n_samples,), for example using ravel().\n",
            "  return fit_method(estimator, *args, **kwargs)\n",
            "/Users/tuhindas/Python Venv/Shrine/lib/python3.12/site-packages/sklearn/base.py:1473: DataConversionWarning: A column-vector y was passed when a 1d array was expected. Please change the shape of y to (n_samples,), for example using ravel().\n",
            "  return fit_method(estimator, *args, **kwargs)\n",
            "/Users/tuhindas/Python Venv/Shrine/lib/python3.12/site-packages/sklearn/base.py:1473: DataConversionWarning: A column-vector y was passed when a 1d array was expected. Please change the shape of y to (n_samples,), for example using ravel().\n",
            "  return fit_method(estimator, *args, **kwargs)\n",
            "/Users/tuhindas/Python Venv/Shrine/lib/python3.12/site-packages/sklearn/base.py:1473: DataConversionWarning: A column-vector y was passed when a 1d array was expected. Please change the shape of y to (n_samples,), for example using ravel().\n",
            "  return fit_method(estimator, *args, **kwargs)\n",
            "/Users/tuhindas/Python Venv/Shrine/lib/python3.12/site-packages/sklearn/base.py:1473: DataConversionWarning: A column-vector y was passed when a 1d array was expected. Please change the shape of y to (n_samples,), for example using ravel().\n",
            "  return fit_method(estimator, *args, **kwargs)\n",
            "/Users/tuhindas/Python Venv/Shrine/lib/python3.12/site-packages/sklearn/base.py:1473: DataConversionWarning: A column-vector y was passed when a 1d array was expected. Please change the shape of y to (n_samples,), for example using ravel().\n",
            "  return fit_method(estimator, *args, **kwargs)\n",
            "/Users/tuhindas/Python Venv/Shrine/lib/python3.12/site-packages/sklearn/base.py:1473: DataConversionWarning: A column-vector y was passed when a 1d array was expected. Please change the shape of y to (n_samples,), for example using ravel().\n",
            "  return fit_method(estimator, *args, **kwargs)\n",
            "/Users/tuhindas/Python Venv/Shrine/lib/python3.12/site-packages/sklearn/base.py:1473: DataConversionWarning: A column-vector y was passed when a 1d array was expected. Please change the shape of y to (n_samples,), for example using ravel().\n",
            "  return fit_method(estimator, *args, **kwargs)\n",
            "/Users/tuhindas/Python Venv/Shrine/lib/python3.12/site-packages/sklearn/base.py:1473: DataConversionWarning: A column-vector y was passed when a 1d array was expected. Please change the shape of y to (n_samples,), for example using ravel().\n",
            "  return fit_method(estimator, *args, **kwargs)\n",
            "/Users/tuhindas/Python Venv/Shrine/lib/python3.12/site-packages/sklearn/base.py:1473: DataConversionWarning: A column-vector y was passed when a 1d array was expected. Please change the shape of y to (n_samples,), for example using ravel().\n",
            "  return fit_method(estimator, *args, **kwargs)\n",
            "/Users/tuhindas/Python Venv/Shrine/lib/python3.12/site-packages/sklearn/base.py:1473: DataConversionWarning: A column-vector y was passed when a 1d array was expected. Please change the shape of y to (n_samples,), for example using ravel().\n",
            "  return fit_method(estimator, *args, **kwargs)\n",
            "/Users/tuhindas/Python Venv/Shrine/lib/python3.12/site-packages/sklearn/base.py:1473: DataConversionWarning: A column-vector y was passed when a 1d array was expected. Please change the shape of y to (n_samples,), for example using ravel().\n",
            "  return fit_method(estimator, *args, **kwargs)\n",
            "/Users/tuhindas/Python Venv/Shrine/lib/python3.12/site-packages/sklearn/base.py:1473: DataConversionWarning: A column-vector y was passed when a 1d array was expected. Please change the shape of y to (n_samples,), for example using ravel().\n",
            "  return fit_method(estimator, *args, **kwargs)\n",
            "/Users/tuhindas/Python Venv/Shrine/lib/python3.12/site-packages/sklearn/base.py:1473: DataConversionWarning: A column-vector y was passed when a 1d array was expected. Please change the shape of y to (n_samples,), for example using ravel().\n",
            "  return fit_method(estimator, *args, **kwargs)\n",
            "/Users/tuhindas/Python Venv/Shrine/lib/python3.12/site-packages/sklearn/base.py:1473: DataConversionWarning: A column-vector y was passed when a 1d array was expected. Please change the shape of y to (n_samples,), for example using ravel().\n",
            "  return fit_method(estimator, *args, **kwargs)\n",
            "/Users/tuhindas/Python Venv/Shrine/lib/python3.12/site-packages/sklearn/base.py:1473: DataConversionWarning: A column-vector y was passed when a 1d array was expected. Please change the shape of y to (n_samples,), for example using ravel().\n",
            "  return fit_method(estimator, *args, **kwargs)\n",
            "/Users/tuhindas/Python Venv/Shrine/lib/python3.12/site-packages/sklearn/base.py:1473: DataConversionWarning: A column-vector y was passed when a 1d array was expected. Please change the shape of y to (n_samples,), for example using ravel().\n",
            "  return fit_method(estimator, *args, **kwargs)\n",
            "/Users/tuhindas/Python Venv/Shrine/lib/python3.12/site-packages/sklearn/base.py:1473: DataConversionWarning: A column-vector y was passed when a 1d array was expected. Please change the shape of y to (n_samples,), for example using ravel().\n",
            "  return fit_method(estimator, *args, **kwargs)\n",
            "/Users/tuhindas/Python Venv/Shrine/lib/python3.12/site-packages/sklearn/base.py:1473: DataConversionWarning: A column-vector y was passed when a 1d array was expected. Please change the shape of y to (n_samples,), for example using ravel().\n",
            "  return fit_method(estimator, *args, **kwargs)\n",
            "/Users/tuhindas/Python Venv/Shrine/lib/python3.12/site-packages/sklearn/base.py:1473: DataConversionWarning: A column-vector y was passed when a 1d array was expected. Please change the shape of y to (n_samples,), for example using ravel().\n",
            "  return fit_method(estimator, *args, **kwargs)\n",
            "/Users/tuhindas/Python Venv/Shrine/lib/python3.12/site-packages/sklearn/base.py:1473: DataConversionWarning: A column-vector y was passed when a 1d array was expected. Please change the shape of y to (n_samples,), for example using ravel().\n",
            "  return fit_method(estimator, *args, **kwargs)\n",
            "/Users/tuhindas/Python Venv/Shrine/lib/python3.12/site-packages/sklearn/base.py:1473: DataConversionWarning: A column-vector y was passed when a 1d array was expected. Please change the shape of y to (n_samples,), for example using ravel().\n",
            "  return fit_method(estimator, *args, **kwargs)\n",
            "/Users/tuhindas/Python Venv/Shrine/lib/python3.12/site-packages/sklearn/base.py:1473: DataConversionWarning: A column-vector y was passed when a 1d array was expected. Please change the shape of y to (n_samples,), for example using ravel().\n",
            "  return fit_method(estimator, *args, **kwargs)\n",
            "/Users/tuhindas/Python Venv/Shrine/lib/python3.12/site-packages/sklearn/base.py:1473: DataConversionWarning: A column-vector y was passed when a 1d array was expected. Please change the shape of y to (n_samples,), for example using ravel().\n",
            "  return fit_method(estimator, *args, **kwargs)\n",
            "/Users/tuhindas/Python Venv/Shrine/lib/python3.12/site-packages/sklearn/base.py:1473: DataConversionWarning: A column-vector y was passed when a 1d array was expected. Please change the shape of y to (n_samples,), for example using ravel().\n",
            "  return fit_method(estimator, *args, **kwargs)\n",
            "/Users/tuhindas/Python Venv/Shrine/lib/python3.12/site-packages/sklearn/base.py:1473: DataConversionWarning: A column-vector y was passed when a 1d array was expected. Please change the shape of y to (n_samples,), for example using ravel().\n",
            "  return fit_method(estimator, *args, **kwargs)\n",
            "/Users/tuhindas/Python Venv/Shrine/lib/python3.12/site-packages/sklearn/base.py:1473: DataConversionWarning: A column-vector y was passed when a 1d array was expected. Please change the shape of y to (n_samples,), for example using ravel().\n",
            "  return fit_method(estimator, *args, **kwargs)\n",
            "/Users/tuhindas/Python Venv/Shrine/lib/python3.12/site-packages/sklearn/base.py:1473: DataConversionWarning: A column-vector y was passed when a 1d array was expected. Please change the shape of y to (n_samples,), for example using ravel().\n",
            "  return fit_method(estimator, *args, **kwargs)\n",
            "/Users/tuhindas/Python Venv/Shrine/lib/python3.12/site-packages/sklearn/base.py:1473: DataConversionWarning: A column-vector y was passed when a 1d array was expected. Please change the shape of y to (n_samples,), for example using ravel().\n",
            "  return fit_method(estimator, *args, **kwargs)\n",
            "/Users/tuhindas/Python Venv/Shrine/lib/python3.12/site-packages/sklearn/base.py:1473: DataConversionWarning: A column-vector y was passed when a 1d array was expected. Please change the shape of y to (n_samples,), for example using ravel().\n",
            "  return fit_method(estimator, *args, **kwargs)\n",
            "/Users/tuhindas/Python Venv/Shrine/lib/python3.12/site-packages/sklearn/base.py:1473: DataConversionWarning: A column-vector y was passed when a 1d array was expected. Please change the shape of y to (n_samples,), for example using ravel().\n",
            "  return fit_method(estimator, *args, **kwargs)\n",
            "/Users/tuhindas/Python Venv/Shrine/lib/python3.12/site-packages/sklearn/base.py:1473: DataConversionWarning: A column-vector y was passed when a 1d array was expected. Please change the shape of y to (n_samples,), for example using ravel().\n",
            "  return fit_method(estimator, *args, **kwargs)\n",
            "/Users/tuhindas/Python Venv/Shrine/lib/python3.12/site-packages/sklearn/base.py:1473: DataConversionWarning: A column-vector y was passed when a 1d array was expected. Please change the shape of y to (n_samples,), for example using ravel().\n",
            "  return fit_method(estimator, *args, **kwargs)\n",
            "/Users/tuhindas/Python Venv/Shrine/lib/python3.12/site-packages/sklearn/base.py:1473: DataConversionWarning: A column-vector y was passed when a 1d array was expected. Please change the shape of y to (n_samples,), for example using ravel().\n",
            "  return fit_method(estimator, *args, **kwargs)\n",
            "/Users/tuhindas/Python Venv/Shrine/lib/python3.12/site-packages/sklearn/base.py:1473: DataConversionWarning: A column-vector y was passed when a 1d array was expected. Please change the shape of y to (n_samples,), for example using ravel().\n",
            "  return fit_method(estimator, *args, **kwargs)\n",
            "/Users/tuhindas/Python Venv/Shrine/lib/python3.12/site-packages/sklearn/base.py:1473: DataConversionWarning: A column-vector y was passed when a 1d array was expected. Please change the shape of y to (n_samples,), for example using ravel().\n",
            "  return fit_method(estimator, *args, **kwargs)\n",
            "/Users/tuhindas/Python Venv/Shrine/lib/python3.12/site-packages/sklearn/base.py:1473: DataConversionWarning: A column-vector y was passed when a 1d array was expected. Please change the shape of y to (n_samples,), for example using ravel().\n",
            "  return fit_method(estimator, *args, **kwargs)\n",
            "/Users/tuhindas/Python Venv/Shrine/lib/python3.12/site-packages/sklearn/base.py:1473: DataConversionWarning: A column-vector y was passed when a 1d array was expected. Please change the shape of y to (n_samples,), for example using ravel().\n",
            "  return fit_method(estimator, *args, **kwargs)\n",
            "/Users/tuhindas/Python Venv/Shrine/lib/python3.12/site-packages/sklearn/base.py:1473: DataConversionWarning: A column-vector y was passed when a 1d array was expected. Please change the shape of y to (n_samples,), for example using ravel().\n",
            "  return fit_method(estimator, *args, **kwargs)\n",
            "/Users/tuhindas/Python Venv/Shrine/lib/python3.12/site-packages/sklearn/base.py:1473: DataConversionWarning: A column-vector y was passed when a 1d array was expected. Please change the shape of y to (n_samples,), for example using ravel().\n",
            "  return fit_method(estimator, *args, **kwargs)\n",
            "/Users/tuhindas/Python Venv/Shrine/lib/python3.12/site-packages/sklearn/base.py:1473: DataConversionWarning: A column-vector y was passed when a 1d array was expected. Please change the shape of y to (n_samples,), for example using ravel().\n",
            "  return fit_method(estimator, *args, **kwargs)\n",
            "/Users/tuhindas/Python Venv/Shrine/lib/python3.12/site-packages/sklearn/base.py:1473: DataConversionWarning: A column-vector y was passed when a 1d array was expected. Please change the shape of y to (n_samples,), for example using ravel().\n",
            "  return fit_method(estimator, *args, **kwargs)\n",
            "/Users/tuhindas/Python Venv/Shrine/lib/python3.12/site-packages/sklearn/base.py:1473: DataConversionWarning: A column-vector y was passed when a 1d array was expected. Please change the shape of y to (n_samples,), for example using ravel().\n",
            "  return fit_method(estimator, *args, **kwargs)\n",
            "/Users/tuhindas/Python Venv/Shrine/lib/python3.12/site-packages/sklearn/base.py:1473: DataConversionWarning: A column-vector y was passed when a 1d array was expected. Please change the shape of y to (n_samples,), for example using ravel().\n",
            "  return fit_method(estimator, *args, **kwargs)\n",
            "/Users/tuhindas/Python Venv/Shrine/lib/python3.12/site-packages/sklearn/base.py:1473: DataConversionWarning: A column-vector y was passed when a 1d array was expected. Please change the shape of y to (n_samples,), for example using ravel().\n",
            "  return fit_method(estimator, *args, **kwargs)\n",
            "/Users/tuhindas/Python Venv/Shrine/lib/python3.12/site-packages/sklearn/base.py:1473: DataConversionWarning: A column-vector y was passed when a 1d array was expected. Please change the shape of y to (n_samples,), for example using ravel().\n",
            "  return fit_method(estimator, *args, **kwargs)\n",
            "/Users/tuhindas/Python Venv/Shrine/lib/python3.12/site-packages/sklearn/base.py:1473: DataConversionWarning: A column-vector y was passed when a 1d array was expected. Please change the shape of y to (n_samples,), for example using ravel().\n",
            "  return fit_method(estimator, *args, **kwargs)\n",
            "/Users/tuhindas/Python Venv/Shrine/lib/python3.12/site-packages/sklearn/base.py:1473: DataConversionWarning: A column-vector y was passed when a 1d array was expected. Please change the shape of y to (n_samples,), for example using ravel().\n",
            "  return fit_method(estimator, *args, **kwargs)\n",
            "/Users/tuhindas/Python Venv/Shrine/lib/python3.12/site-packages/sklearn/base.py:1473: DataConversionWarning: A column-vector y was passed when a 1d array was expected. Please change the shape of y to (n_samples,), for example using ravel().\n",
            "  return fit_method(estimator, *args, **kwargs)\n",
            "/Users/tuhindas/Python Venv/Shrine/lib/python3.12/site-packages/sklearn/base.py:1473: DataConversionWarning: A column-vector y was passed when a 1d array was expected. Please change the shape of y to (n_samples,), for example using ravel().\n",
            "  return fit_method(estimator, *args, **kwargs)\n",
            "/Users/tuhindas/Python Venv/Shrine/lib/python3.12/site-packages/sklearn/base.py:1473: DataConversionWarning: A column-vector y was passed when a 1d array was expected. Please change the shape of y to (n_samples,), for example using ravel().\n",
            "  return fit_method(estimator, *args, **kwargs)\n",
            "/Users/tuhindas/Python Venv/Shrine/lib/python3.12/site-packages/sklearn/base.py:1473: DataConversionWarning: A column-vector y was passed when a 1d array was expected. Please change the shape of y to (n_samples,), for example using ravel().\n",
            "  return fit_method(estimator, *args, **kwargs)\n",
            "/Users/tuhindas/Python Venv/Shrine/lib/python3.12/site-packages/sklearn/base.py:1473: DataConversionWarning: A column-vector y was passed when a 1d array was expected. Please change the shape of y to (n_samples,), for example using ravel().\n",
            "  return fit_method(estimator, *args, **kwargs)\n",
            "/Users/tuhindas/Python Venv/Shrine/lib/python3.12/site-packages/sklearn/base.py:1473: DataConversionWarning: A column-vector y was passed when a 1d array was expected. Please change the shape of y to (n_samples,), for example using ravel().\n",
            "  return fit_method(estimator, *args, **kwargs)\n",
            "/Users/tuhindas/Python Venv/Shrine/lib/python3.12/site-packages/sklearn/base.py:1473: DataConversionWarning: A column-vector y was passed when a 1d array was expected. Please change the shape of y to (n_samples,), for example using ravel().\n",
            "  return fit_method(estimator, *args, **kwargs)\n",
            "/Users/tuhindas/Python Venv/Shrine/lib/python3.12/site-packages/sklearn/base.py:1473: DataConversionWarning: A column-vector y was passed when a 1d array was expected. Please change the shape of y to (n_samples,), for example using ravel().\n",
            "  return fit_method(estimator, *args, **kwargs)\n",
            "/Users/tuhindas/Python Venv/Shrine/lib/python3.12/site-packages/sklearn/base.py:1473: DataConversionWarning: A column-vector y was passed when a 1d array was expected. Please change the shape of y to (n_samples,), for example using ravel().\n",
            "  return fit_method(estimator, *args, **kwargs)\n",
            "/Users/tuhindas/Python Venv/Shrine/lib/python3.12/site-packages/sklearn/base.py:1473: DataConversionWarning: A column-vector y was passed when a 1d array was expected. Please change the shape of y to (n_samples,), for example using ravel().\n",
            "  return fit_method(estimator, *args, **kwargs)\n",
            "/Users/tuhindas/Python Venv/Shrine/lib/python3.12/site-packages/sklearn/base.py:1473: DataConversionWarning: A column-vector y was passed when a 1d array was expected. Please change the shape of y to (n_samples,), for example using ravel().\n",
            "  return fit_method(estimator, *args, **kwargs)\n",
            "/Users/tuhindas/Python Venv/Shrine/lib/python3.12/site-packages/sklearn/base.py:1473: DataConversionWarning: A column-vector y was passed when a 1d array was expected. Please change the shape of y to (n_samples,), for example using ravel().\n",
            "  return fit_method(estimator, *args, **kwargs)\n",
            "/Users/tuhindas/Python Venv/Shrine/lib/python3.12/site-packages/sklearn/base.py:1473: DataConversionWarning: A column-vector y was passed when a 1d array was expected. Please change the shape of y to (n_samples,), for example using ravel().\n",
            "  return fit_method(estimator, *args, **kwargs)\n",
            "/Users/tuhindas/Python Venv/Shrine/lib/python3.12/site-packages/sklearn/base.py:1473: DataConversionWarning: A column-vector y was passed when a 1d array was expected. Please change the shape of y to (n_samples,), for example using ravel().\n",
            "  return fit_method(estimator, *args, **kwargs)\n",
            "/Users/tuhindas/Python Venv/Shrine/lib/python3.12/site-packages/sklearn/base.py:1473: DataConversionWarning: A column-vector y was passed when a 1d array was expected. Please change the shape of y to (n_samples,), for example using ravel().\n",
            "  return fit_method(estimator, *args, **kwargs)\n",
            "/Users/tuhindas/Python Venv/Shrine/lib/python3.12/site-packages/sklearn/base.py:1473: DataConversionWarning: A column-vector y was passed when a 1d array was expected. Please change the shape of y to (n_samples,), for example using ravel().\n",
            "  return fit_method(estimator, *args, **kwargs)\n",
            "/Users/tuhindas/Python Venv/Shrine/lib/python3.12/site-packages/sklearn/base.py:1473: DataConversionWarning: A column-vector y was passed when a 1d array was expected. Please change the shape of y to (n_samples,), for example using ravel().\n",
            "  return fit_method(estimator, *args, **kwargs)\n",
            "/Users/tuhindas/Python Venv/Shrine/lib/python3.12/site-packages/sklearn/base.py:1473: DataConversionWarning: A column-vector y was passed when a 1d array was expected. Please change the shape of y to (n_samples,), for example using ravel().\n",
            "  return fit_method(estimator, *args, **kwargs)\n",
            "/Users/tuhindas/Python Venv/Shrine/lib/python3.12/site-packages/sklearn/base.py:1473: DataConversionWarning: A column-vector y was passed when a 1d array was expected. Please change the shape of y to (n_samples,), for example using ravel().\n",
            "  return fit_method(estimator, *args, **kwargs)\n",
            "/Users/tuhindas/Python Venv/Shrine/lib/python3.12/site-packages/sklearn/base.py:1473: DataConversionWarning: A column-vector y was passed when a 1d array was expected. Please change the shape of y to (n_samples,), for example using ravel().\n",
            "  return fit_method(estimator, *args, **kwargs)\n",
            "/Users/tuhindas/Python Venv/Shrine/lib/python3.12/site-packages/sklearn/base.py:1473: DataConversionWarning: A column-vector y was passed when a 1d array was expected. Please change the shape of y to (n_samples,), for example using ravel().\n",
            "  return fit_method(estimator, *args, **kwargs)\n",
            "/Users/tuhindas/Python Venv/Shrine/lib/python3.12/site-packages/sklearn/base.py:1473: DataConversionWarning: A column-vector y was passed when a 1d array was expected. Please change the shape of y to (n_samples,), for example using ravel().\n",
            "  return fit_method(estimator, *args, **kwargs)\n",
            "/Users/tuhindas/Python Venv/Shrine/lib/python3.12/site-packages/sklearn/base.py:1473: DataConversionWarning: A column-vector y was passed when a 1d array was expected. Please change the shape of y to (n_samples,), for example using ravel().\n",
            "  return fit_method(estimator, *args, **kwargs)\n",
            "/Users/tuhindas/Python Venv/Shrine/lib/python3.12/site-packages/sklearn/base.py:1473: DataConversionWarning: A column-vector y was passed when a 1d array was expected. Please change the shape of y to (n_samples,), for example using ravel().\n",
            "  return fit_method(estimator, *args, **kwargs)\n",
            "/Users/tuhindas/Python Venv/Shrine/lib/python3.12/site-packages/sklearn/base.py:1473: DataConversionWarning: A column-vector y was passed when a 1d array was expected. Please change the shape of y to (n_samples,), for example using ravel().\n",
            "  return fit_method(estimator, *args, **kwargs)\n",
            "/Users/tuhindas/Python Venv/Shrine/lib/python3.12/site-packages/sklearn/base.py:1473: DataConversionWarning: A column-vector y was passed when a 1d array was expected. Please change the shape of y to (n_samples,), for example using ravel().\n",
            "  return fit_method(estimator, *args, **kwargs)\n",
            "/Users/tuhindas/Python Venv/Shrine/lib/python3.12/site-packages/sklearn/base.py:1473: DataConversionWarning: A column-vector y was passed when a 1d array was expected. Please change the shape of y to (n_samples,), for example using ravel().\n",
            "  return fit_method(estimator, *args, **kwargs)\n",
            "/Users/tuhindas/Python Venv/Shrine/lib/python3.12/site-packages/sklearn/base.py:1473: DataConversionWarning: A column-vector y was passed when a 1d array was expected. Please change the shape of y to (n_samples,), for example using ravel().\n",
            "  return fit_method(estimator, *args, **kwargs)\n",
            "/Users/tuhindas/Python Venv/Shrine/lib/python3.12/site-packages/sklearn/base.py:1473: DataConversionWarning: A column-vector y was passed when a 1d array was expected. Please change the shape of y to (n_samples,), for example using ravel().\n",
            "  return fit_method(estimator, *args, **kwargs)\n",
            "/Users/tuhindas/Python Venv/Shrine/lib/python3.12/site-packages/sklearn/base.py:1473: DataConversionWarning: A column-vector y was passed when a 1d array was expected. Please change the shape of y to (n_samples,), for example using ravel().\n",
            "  return fit_method(estimator, *args, **kwargs)\n",
            "/Users/tuhindas/Python Venv/Shrine/lib/python3.12/site-packages/sklearn/base.py:1473: DataConversionWarning: A column-vector y was passed when a 1d array was expected. Please change the shape of y to (n_samples,), for example using ravel().\n",
            "  return fit_method(estimator, *args, **kwargs)\n",
            "/Users/tuhindas/Python Venv/Shrine/lib/python3.12/site-packages/sklearn/base.py:1473: DataConversionWarning: A column-vector y was passed when a 1d array was expected. Please change the shape of y to (n_samples,), for example using ravel().\n",
            "  return fit_method(estimator, *args, **kwargs)\n",
            "/Users/tuhindas/Python Venv/Shrine/lib/python3.12/site-packages/sklearn/base.py:1473: DataConversionWarning: A column-vector y was passed when a 1d array was expected. Please change the shape of y to (n_samples,), for example using ravel().\n",
            "  return fit_method(estimator, *args, **kwargs)\n",
            "/Users/tuhindas/Python Venv/Shrine/lib/python3.12/site-packages/sklearn/base.py:1473: DataConversionWarning: A column-vector y was passed when a 1d array was expected. Please change the shape of y to (n_samples,), for example using ravel().\n",
            "  return fit_method(estimator, *args, **kwargs)\n",
            "/Users/tuhindas/Python Venv/Shrine/lib/python3.12/site-packages/sklearn/base.py:1473: DataConversionWarning: A column-vector y was passed when a 1d array was expected. Please change the shape of y to (n_samples,), for example using ravel().\n",
            "  return fit_method(estimator, *args, **kwargs)\n",
            "/Users/tuhindas/Python Venv/Shrine/lib/python3.12/site-packages/sklearn/base.py:1473: DataConversionWarning: A column-vector y was passed when a 1d array was expected. Please change the shape of y to (n_samples,), for example using ravel().\n",
            "  return fit_method(estimator, *args, **kwargs)\n",
            "/Users/tuhindas/Python Venv/Shrine/lib/python3.12/site-packages/sklearn/base.py:1473: DataConversionWarning: A column-vector y was passed when a 1d array was expected. Please change the shape of y to (n_samples,), for example using ravel().\n",
            "  return fit_method(estimator, *args, **kwargs)\n",
            "/Users/tuhindas/Python Venv/Shrine/lib/python3.12/site-packages/sklearn/base.py:1473: DataConversionWarning: A column-vector y was passed when a 1d array was expected. Please change the shape of y to (n_samples,), for example using ravel().\n",
            "  return fit_method(estimator, *args, **kwargs)\n",
            "/Users/tuhindas/Python Venv/Shrine/lib/python3.12/site-packages/sklearn/base.py:1473: DataConversionWarning: A column-vector y was passed when a 1d array was expected. Please change the shape of y to (n_samples,), for example using ravel().\n",
            "  return fit_method(estimator, *args, **kwargs)\n",
            "/Users/tuhindas/Python Venv/Shrine/lib/python3.12/site-packages/sklearn/base.py:1473: DataConversionWarning: A column-vector y was passed when a 1d array was expected. Please change the shape of y to (n_samples,), for example using ravel().\n",
            "  return fit_method(estimator, *args, **kwargs)\n",
            "/Users/tuhindas/Python Venv/Shrine/lib/python3.12/site-packages/sklearn/base.py:1473: DataConversionWarning: A column-vector y was passed when a 1d array was expected. Please change the shape of y to (n_samples,), for example using ravel().\n",
            "  return fit_method(estimator, *args, **kwargs)\n",
            "/Users/tuhindas/Python Venv/Shrine/lib/python3.12/site-packages/sklearn/base.py:1473: DataConversionWarning: A column-vector y was passed when a 1d array was expected. Please change the shape of y to (n_samples,), for example using ravel().\n",
            "  return fit_method(estimator, *args, **kwargs)\n",
            "/Users/tuhindas/Python Venv/Shrine/lib/python3.12/site-packages/sklearn/base.py:1473: DataConversionWarning: A column-vector y was passed when a 1d array was expected. Please change the shape of y to (n_samples,), for example using ravel().\n",
            "  return fit_method(estimator, *args, **kwargs)\n",
            "/Users/tuhindas/Python Venv/Shrine/lib/python3.12/site-packages/sklearn/base.py:1473: DataConversionWarning: A column-vector y was passed when a 1d array was expected. Please change the shape of y to (n_samples,), for example using ravel().\n",
            "  return fit_method(estimator, *args, **kwargs)\n",
            "/Users/tuhindas/Python Venv/Shrine/lib/python3.12/site-packages/sklearn/base.py:1473: DataConversionWarning: A column-vector y was passed when a 1d array was expected. Please change the shape of y to (n_samples,), for example using ravel().\n",
            "  return fit_method(estimator, *args, **kwargs)\n",
            "/Users/tuhindas/Python Venv/Shrine/lib/python3.12/site-packages/sklearn/base.py:1473: DataConversionWarning: A column-vector y was passed when a 1d array was expected. Please change the shape of y to (n_samples,), for example using ravel().\n",
            "  return fit_method(estimator, *args, **kwargs)\n",
            "/Users/tuhindas/Python Venv/Shrine/lib/python3.12/site-packages/sklearn/base.py:1473: DataConversionWarning: A column-vector y was passed when a 1d array was expected. Please change the shape of y to (n_samples,), for example using ravel().\n",
            "  return fit_method(estimator, *args, **kwargs)\n",
            "/Users/tuhindas/Python Venv/Shrine/lib/python3.12/site-packages/sklearn/base.py:1473: DataConversionWarning: A column-vector y was passed when a 1d array was expected. Please change the shape of y to (n_samples,), for example using ravel().\n",
            "  return fit_method(estimator, *args, **kwargs)\n",
            "/Users/tuhindas/Python Venv/Shrine/lib/python3.12/site-packages/sklearn/base.py:1473: DataConversionWarning: A column-vector y was passed when a 1d array was expected. Please change the shape of y to (n_samples,), for example using ravel().\n",
            "  return fit_method(estimator, *args, **kwargs)\n",
            "/Users/tuhindas/Python Venv/Shrine/lib/python3.12/site-packages/sklearn/base.py:1473: DataConversionWarning: A column-vector y was passed when a 1d array was expected. Please change the shape of y to (n_samples,), for example using ravel().\n",
            "  return fit_method(estimator, *args, **kwargs)\n",
            "/Users/tuhindas/Python Venv/Shrine/lib/python3.12/site-packages/sklearn/base.py:1473: DataConversionWarning: A column-vector y was passed when a 1d array was expected. Please change the shape of y to (n_samples,), for example using ravel().\n",
            "  return fit_method(estimator, *args, **kwargs)\n",
            "/Users/tuhindas/Python Venv/Shrine/lib/python3.12/site-packages/sklearn/base.py:1473: DataConversionWarning: A column-vector y was passed when a 1d array was expected. Please change the shape of y to (n_samples,), for example using ravel().\n",
            "  return fit_method(estimator, *args, **kwargs)\n",
            "/Users/tuhindas/Python Venv/Shrine/lib/python3.12/site-packages/sklearn/base.py:1473: DataConversionWarning: A column-vector y was passed when a 1d array was expected. Please change the shape of y to (n_samples,), for example using ravel().\n",
            "  return fit_method(estimator, *args, **kwargs)\n",
            "/Users/tuhindas/Python Venv/Shrine/lib/python3.12/site-packages/sklearn/base.py:1473: DataConversionWarning: A column-vector y was passed when a 1d array was expected. Please change the shape of y to (n_samples,), for example using ravel().\n",
            "  return fit_method(estimator, *args, **kwargs)\n",
            "/Users/tuhindas/Python Venv/Shrine/lib/python3.12/site-packages/sklearn/base.py:1473: DataConversionWarning: A column-vector y was passed when a 1d array was expected. Please change the shape of y to (n_samples,), for example using ravel().\n",
            "  return fit_method(estimator, *args, **kwargs)\n",
            "/Users/tuhindas/Python Venv/Shrine/lib/python3.12/site-packages/sklearn/base.py:1473: DataConversionWarning: A column-vector y was passed when a 1d array was expected. Please change the shape of y to (n_samples,), for example using ravel().\n",
            "  return fit_method(estimator, *args, **kwargs)\n",
            "/Users/tuhindas/Python Venv/Shrine/lib/python3.12/site-packages/sklearn/base.py:1473: DataConversionWarning: A column-vector y was passed when a 1d array was expected. Please change the shape of y to (n_samples,), for example using ravel().\n",
            "  return fit_method(estimator, *args, **kwargs)\n",
            "/Users/tuhindas/Python Venv/Shrine/lib/python3.12/site-packages/sklearn/base.py:1473: DataConversionWarning: A column-vector y was passed when a 1d array was expected. Please change the shape of y to (n_samples,), for example using ravel().\n",
            "  return fit_method(estimator, *args, **kwargs)\n",
            "/Users/tuhindas/Python Venv/Shrine/lib/python3.12/site-packages/sklearn/base.py:1473: DataConversionWarning: A column-vector y was passed when a 1d array was expected. Please change the shape of y to (n_samples,), for example using ravel().\n",
            "  return fit_method(estimator, *args, **kwargs)\n",
            "/Users/tuhindas/Python Venv/Shrine/lib/python3.12/site-packages/sklearn/base.py:1473: DataConversionWarning: A column-vector y was passed when a 1d array was expected. Please change the shape of y to (n_samples,), for example using ravel().\n",
            "  return fit_method(estimator, *args, **kwargs)\n",
            "/Users/tuhindas/Python Venv/Shrine/lib/python3.12/site-packages/sklearn/base.py:1473: DataConversionWarning: A column-vector y was passed when a 1d array was expected. Please change the shape of y to (n_samples,), for example using ravel().\n",
            "  return fit_method(estimator, *args, **kwargs)\n",
            "/Users/tuhindas/Python Venv/Shrine/lib/python3.12/site-packages/sklearn/base.py:1473: DataConversionWarning: A column-vector y was passed when a 1d array was expected. Please change the shape of y to (n_samples,), for example using ravel().\n",
            "  return fit_method(estimator, *args, **kwargs)\n",
            "/Users/tuhindas/Python Venv/Shrine/lib/python3.12/site-packages/sklearn/base.py:1473: DataConversionWarning: A column-vector y was passed when a 1d array was expected. Please change the shape of y to (n_samples,), for example using ravel().\n",
            "  return fit_method(estimator, *args, **kwargs)\n",
            "/Users/tuhindas/Python Venv/Shrine/lib/python3.12/site-packages/sklearn/base.py:1473: DataConversionWarning: A column-vector y was passed when a 1d array was expected. Please change the shape of y to (n_samples,), for example using ravel().\n",
            "  return fit_method(estimator, *args, **kwargs)\n",
            "/Users/tuhindas/Python Venv/Shrine/lib/python3.12/site-packages/sklearn/base.py:1473: DataConversionWarning: A column-vector y was passed when a 1d array was expected. Please change the shape of y to (n_samples,), for example using ravel().\n",
            "  return fit_method(estimator, *args, **kwargs)\n",
            "/Users/tuhindas/Python Venv/Shrine/lib/python3.12/site-packages/sklearn/base.py:1473: DataConversionWarning: A column-vector y was passed when a 1d array was expected. Please change the shape of y to (n_samples,), for example using ravel().\n",
            "  return fit_method(estimator, *args, **kwargs)\n",
            "/Users/tuhindas/Python Venv/Shrine/lib/python3.12/site-packages/sklearn/base.py:1473: DataConversionWarning: A column-vector y was passed when a 1d array was expected. Please change the shape of y to (n_samples,), for example using ravel().\n",
            "  return fit_method(estimator, *args, **kwargs)\n",
            "/Users/tuhindas/Python Venv/Shrine/lib/python3.12/site-packages/sklearn/base.py:1473: DataConversionWarning: A column-vector y was passed when a 1d array was expected. Please change the shape of y to (n_samples,), for example using ravel().\n",
            "  return fit_method(estimator, *args, **kwargs)\n",
            "/Users/tuhindas/Python Venv/Shrine/lib/python3.12/site-packages/sklearn/base.py:1473: DataConversionWarning: A column-vector y was passed when a 1d array was expected. Please change the shape of y to (n_samples,), for example using ravel().\n",
            "  return fit_method(estimator, *args, **kwargs)\n",
            "/Users/tuhindas/Python Venv/Shrine/lib/python3.12/site-packages/sklearn/base.py:1473: DataConversionWarning: A column-vector y was passed when a 1d array was expected. Please change the shape of y to (n_samples,), for example using ravel().\n",
            "  return fit_method(estimator, *args, **kwargs)\n",
            "/Users/tuhindas/Python Venv/Shrine/lib/python3.12/site-packages/sklearn/base.py:1473: DataConversionWarning: A column-vector y was passed when a 1d array was expected. Please change the shape of y to (n_samples,), for example using ravel().\n",
            "  return fit_method(estimator, *args, **kwargs)\n",
            "/Users/tuhindas/Python Venv/Shrine/lib/python3.12/site-packages/sklearn/base.py:1473: DataConversionWarning: A column-vector y was passed when a 1d array was expected. Please change the shape of y to (n_samples,), for example using ravel().\n",
            "  return fit_method(estimator, *args, **kwargs)\n",
            "/Users/tuhindas/Python Venv/Shrine/lib/python3.12/site-packages/sklearn/base.py:1473: DataConversionWarning: A column-vector y was passed when a 1d array was expected. Please change the shape of y to (n_samples,), for example using ravel().\n",
            "  return fit_method(estimator, *args, **kwargs)\n",
            "/Users/tuhindas/Python Venv/Shrine/lib/python3.12/site-packages/sklearn/base.py:1473: DataConversionWarning: A column-vector y was passed when a 1d array was expected. Please change the shape of y to (n_samples,), for example using ravel().\n",
            "  return fit_method(estimator, *args, **kwargs)\n",
            "/Users/tuhindas/Python Venv/Shrine/lib/python3.12/site-packages/sklearn/base.py:1473: DataConversionWarning: A column-vector y was passed when a 1d array was expected. Please change the shape of y to (n_samples,), for example using ravel().\n",
            "  return fit_method(estimator, *args, **kwargs)\n",
            "/Users/tuhindas/Python Venv/Shrine/lib/python3.12/site-packages/sklearn/base.py:1473: DataConversionWarning: A column-vector y was passed when a 1d array was expected. Please change the shape of y to (n_samples,), for example using ravel().\n",
            "  return fit_method(estimator, *args, **kwargs)\n",
            "/Users/tuhindas/Python Venv/Shrine/lib/python3.12/site-packages/sklearn/base.py:1473: DataConversionWarning: A column-vector y was passed when a 1d array was expected. Please change the shape of y to (n_samples,), for example using ravel().\n",
            "  return fit_method(estimator, *args, **kwargs)\n",
            "/Users/tuhindas/Python Venv/Shrine/lib/python3.12/site-packages/sklearn/base.py:1473: DataConversionWarning: A column-vector y was passed when a 1d array was expected. Please change the shape of y to (n_samples,), for example using ravel().\n",
            "  return fit_method(estimator, *args, **kwargs)\n",
            "/Users/tuhindas/Python Venv/Shrine/lib/python3.12/site-packages/sklearn/base.py:1473: DataConversionWarning: A column-vector y was passed when a 1d array was expected. Please change the shape of y to (n_samples,), for example using ravel().\n",
            "  return fit_method(estimator, *args, **kwargs)\n",
            "/Users/tuhindas/Python Venv/Shrine/lib/python3.12/site-packages/sklearn/base.py:1473: DataConversionWarning: A column-vector y was passed when a 1d array was expected. Please change the shape of y to (n_samples,), for example using ravel().\n",
            "  return fit_method(estimator, *args, **kwargs)\n",
            "/Users/tuhindas/Python Venv/Shrine/lib/python3.12/site-packages/sklearn/base.py:1473: DataConversionWarning: A column-vector y was passed when a 1d array was expected. Please change the shape of y to (n_samples,), for example using ravel().\n",
            "  return fit_method(estimator, *args, **kwargs)\n",
            "/Users/tuhindas/Python Venv/Shrine/lib/python3.12/site-packages/sklearn/base.py:1473: DataConversionWarning: A column-vector y was passed when a 1d array was expected. Please change the shape of y to (n_samples,), for example using ravel().\n",
            "  return fit_method(estimator, *args, **kwargs)\n",
            "/Users/tuhindas/Python Venv/Shrine/lib/python3.12/site-packages/sklearn/base.py:1473: DataConversionWarning: A column-vector y was passed when a 1d array was expected. Please change the shape of y to (n_samples,), for example using ravel().\n",
            "  return fit_method(estimator, *args, **kwargs)\n",
            "/Users/tuhindas/Python Venv/Shrine/lib/python3.12/site-packages/sklearn/base.py:1473: DataConversionWarning: A column-vector y was passed when a 1d array was expected. Please change the shape of y to (n_samples,), for example using ravel().\n",
            "  return fit_method(estimator, *args, **kwargs)\n",
            "/Users/tuhindas/Python Venv/Shrine/lib/python3.12/site-packages/sklearn/base.py:1473: DataConversionWarning: A column-vector y was passed when a 1d array was expected. Please change the shape of y to (n_samples,), for example using ravel().\n",
            "  return fit_method(estimator, *args, **kwargs)\n",
            "/Users/tuhindas/Python Venv/Shrine/lib/python3.12/site-packages/sklearn/base.py:1473: DataConversionWarning: A column-vector y was passed when a 1d array was expected. Please change the shape of y to (n_samples,), for example using ravel().\n",
            "  return fit_method(estimator, *args, **kwargs)\n",
            "/Users/tuhindas/Python Venv/Shrine/lib/python3.12/site-packages/sklearn/base.py:1473: DataConversionWarning: A column-vector y was passed when a 1d array was expected. Please change the shape of y to (n_samples,), for example using ravel().\n",
            "  return fit_method(estimator, *args, **kwargs)\n",
            "/Users/tuhindas/Python Venv/Shrine/lib/python3.12/site-packages/sklearn/base.py:1473: DataConversionWarning: A column-vector y was passed when a 1d array was expected. Please change the shape of y to (n_samples,), for example using ravel().\n",
            "  return fit_method(estimator, *args, **kwargs)\n",
            "/Users/tuhindas/Python Venv/Shrine/lib/python3.12/site-packages/sklearn/base.py:1473: DataConversionWarning: A column-vector y was passed when a 1d array was expected. Please change the shape of y to (n_samples,), for example using ravel().\n",
            "  return fit_method(estimator, *args, **kwargs)\n",
            "/Users/tuhindas/Python Venv/Shrine/lib/python3.12/site-packages/sklearn/base.py:1473: DataConversionWarning: A column-vector y was passed when a 1d array was expected. Please change the shape of y to (n_samples,), for example using ravel().\n",
            "  return fit_method(estimator, *args, **kwargs)\n",
            "/Users/tuhindas/Python Venv/Shrine/lib/python3.12/site-packages/sklearn/base.py:1473: DataConversionWarning: A column-vector y was passed when a 1d array was expected. Please change the shape of y to (n_samples,), for example using ravel().\n",
            "  return fit_method(estimator, *args, **kwargs)\n",
            "/Users/tuhindas/Python Venv/Shrine/lib/python3.12/site-packages/sklearn/base.py:1473: DataConversionWarning: A column-vector y was passed when a 1d array was expected. Please change the shape of y to (n_samples,), for example using ravel().\n",
            "  return fit_method(estimator, *args, **kwargs)\n",
            "/Users/tuhindas/Python Venv/Shrine/lib/python3.12/site-packages/sklearn/base.py:1473: DataConversionWarning: A column-vector y was passed when a 1d array was expected. Please change the shape of y to (n_samples,), for example using ravel().\n",
            "  return fit_method(estimator, *args, **kwargs)\n",
            "/Users/tuhindas/Python Venv/Shrine/lib/python3.12/site-packages/sklearn/base.py:1473: DataConversionWarning: A column-vector y was passed when a 1d array was expected. Please change the shape of y to (n_samples,), for example using ravel().\n",
            "  return fit_method(estimator, *args, **kwargs)\n",
            "/Users/tuhindas/Python Venv/Shrine/lib/python3.12/site-packages/sklearn/base.py:1473: DataConversionWarning: A column-vector y was passed when a 1d array was expected. Please change the shape of y to (n_samples,), for example using ravel().\n",
            "  return fit_method(estimator, *args, **kwargs)\n",
            "/Users/tuhindas/Python Venv/Shrine/lib/python3.12/site-packages/sklearn/base.py:1473: DataConversionWarning: A column-vector y was passed when a 1d array was expected. Please change the shape of y to (n_samples,), for example using ravel().\n",
            "  return fit_method(estimator, *args, **kwargs)\n",
            "/Users/tuhindas/Python Venv/Shrine/lib/python3.12/site-packages/sklearn/base.py:1473: DataConversionWarning: A column-vector y was passed when a 1d array was expected. Please change the shape of y to (n_samples,), for example using ravel().\n",
            "  return fit_method(estimator, *args, **kwargs)\n",
            "/Users/tuhindas/Python Venv/Shrine/lib/python3.12/site-packages/sklearn/base.py:1473: DataConversionWarning: A column-vector y was passed when a 1d array was expected. Please change the shape of y to (n_samples,), for example using ravel().\n",
            "  return fit_method(estimator, *args, **kwargs)\n",
            "/Users/tuhindas/Python Venv/Shrine/lib/python3.12/site-packages/sklearn/base.py:1473: DataConversionWarning: A column-vector y was passed when a 1d array was expected. Please change the shape of y to (n_samples,), for example using ravel().\n",
            "  return fit_method(estimator, *args, **kwargs)\n",
            "/Users/tuhindas/Python Venv/Shrine/lib/python3.12/site-packages/sklearn/base.py:1473: DataConversionWarning: A column-vector y was passed when a 1d array was expected. Please change the shape of y to (n_samples,), for example using ravel().\n",
            "  return fit_method(estimator, *args, **kwargs)\n",
            "/Users/tuhindas/Python Venv/Shrine/lib/python3.12/site-packages/sklearn/base.py:1473: DataConversionWarning: A column-vector y was passed when a 1d array was expected. Please change the shape of y to (n_samples,), for example using ravel().\n",
            "  return fit_method(estimator, *args, **kwargs)\n",
            "/Users/tuhindas/Python Venv/Shrine/lib/python3.12/site-packages/sklearn/base.py:1473: DataConversionWarning: A column-vector y was passed when a 1d array was expected. Please change the shape of y to (n_samples,), for example using ravel().\n",
            "  return fit_method(estimator, *args, **kwargs)\n",
            "/Users/tuhindas/Python Venv/Shrine/lib/python3.12/site-packages/sklearn/base.py:1473: DataConversionWarning: A column-vector y was passed when a 1d array was expected. Please change the shape of y to (n_samples,), for example using ravel().\n",
            "  return fit_method(estimator, *args, **kwargs)\n",
            "/Users/tuhindas/Python Venv/Shrine/lib/python3.12/site-packages/sklearn/base.py:1473: DataConversionWarning: A column-vector y was passed when a 1d array was expected. Please change the shape of y to (n_samples,), for example using ravel().\n",
            "  return fit_method(estimator, *args, **kwargs)\n",
            "/Users/tuhindas/Python Venv/Shrine/lib/python3.12/site-packages/sklearn/base.py:1473: DataConversionWarning: A column-vector y was passed when a 1d array was expected. Please change the shape of y to (n_samples,), for example using ravel().\n",
            "  return fit_method(estimator, *args, **kwargs)\n",
            "/Users/tuhindas/Python Venv/Shrine/lib/python3.12/site-packages/sklearn/base.py:1473: DataConversionWarning: A column-vector y was passed when a 1d array was expected. Please change the shape of y to (n_samples,), for example using ravel().\n",
            "  return fit_method(estimator, *args, **kwargs)\n",
            "/Users/tuhindas/Python Venv/Shrine/lib/python3.12/site-packages/sklearn/base.py:1473: DataConversionWarning: A column-vector y was passed when a 1d array was expected. Please change the shape of y to (n_samples,), for example using ravel().\n",
            "  return fit_method(estimator, *args, **kwargs)\n",
            "/Users/tuhindas/Python Venv/Shrine/lib/python3.12/site-packages/sklearn/base.py:1473: DataConversionWarning: A column-vector y was passed when a 1d array was expected. Please change the shape of y to (n_samples,), for example using ravel().\n",
            "  return fit_method(estimator, *args, **kwargs)\n",
            "/Users/tuhindas/Python Venv/Shrine/lib/python3.12/site-packages/sklearn/base.py:1473: DataConversionWarning: A column-vector y was passed when a 1d array was expected. Please change the shape of y to (n_samples,), for example using ravel().\n",
            "  return fit_method(estimator, *args, **kwargs)\n",
            "/Users/tuhindas/Python Venv/Shrine/lib/python3.12/site-packages/sklearn/base.py:1473: DataConversionWarning: A column-vector y was passed when a 1d array was expected. Please change the shape of y to (n_samples,), for example using ravel().\n",
            "  return fit_method(estimator, *args, **kwargs)\n",
            "/Users/tuhindas/Python Venv/Shrine/lib/python3.12/site-packages/sklearn/base.py:1473: DataConversionWarning: A column-vector y was passed when a 1d array was expected. Please change the shape of y to (n_samples,), for example using ravel().\n",
            "  return fit_method(estimator, *args, **kwargs)\n",
            "/Users/tuhindas/Python Venv/Shrine/lib/python3.12/site-packages/sklearn/base.py:1473: DataConversionWarning: A column-vector y was passed when a 1d array was expected. Please change the shape of y to (n_samples,), for example using ravel().\n",
            "  return fit_method(estimator, *args, **kwargs)\n",
            "/Users/tuhindas/Python Venv/Shrine/lib/python3.12/site-packages/sklearn/base.py:1473: DataConversionWarning: A column-vector y was passed when a 1d array was expected. Please change the shape of y to (n_samples,), for example using ravel().\n",
            "  return fit_method(estimator, *args, **kwargs)\n",
            "/Users/tuhindas/Python Venv/Shrine/lib/python3.12/site-packages/sklearn/base.py:1473: DataConversionWarning: A column-vector y was passed when a 1d array was expected. Please change the shape of y to (n_samples,), for example using ravel().\n",
            "  return fit_method(estimator, *args, **kwargs)\n",
            "/Users/tuhindas/Python Venv/Shrine/lib/python3.12/site-packages/sklearn/base.py:1473: DataConversionWarning: A column-vector y was passed when a 1d array was expected. Please change the shape of y to (n_samples,), for example using ravel().\n",
            "  return fit_method(estimator, *args, **kwargs)\n",
            "/Users/tuhindas/Python Venv/Shrine/lib/python3.12/site-packages/sklearn/base.py:1473: DataConversionWarning: A column-vector y was passed when a 1d array was expected. Please change the shape of y to (n_samples,), for example using ravel().\n",
            "  return fit_method(estimator, *args, **kwargs)\n",
            "/Users/tuhindas/Python Venv/Shrine/lib/python3.12/site-packages/sklearn/base.py:1473: DataConversionWarning: A column-vector y was passed when a 1d array was expected. Please change the shape of y to (n_samples,), for example using ravel().\n",
            "  return fit_method(estimator, *args, **kwargs)\n",
            "/Users/tuhindas/Python Venv/Shrine/lib/python3.12/site-packages/sklearn/base.py:1473: DataConversionWarning: A column-vector y was passed when a 1d array was expected. Please change the shape of y to (n_samples,), for example using ravel().\n",
            "  return fit_method(estimator, *args, **kwargs)\n",
            "/Users/tuhindas/Python Venv/Shrine/lib/python3.12/site-packages/sklearn/base.py:1473: DataConversionWarning: A column-vector y was passed when a 1d array was expected. Please change the shape of y to (n_samples,), for example using ravel().\n",
            "  return fit_method(estimator, *args, **kwargs)\n",
            "/Users/tuhindas/Python Venv/Shrine/lib/python3.12/site-packages/sklearn/base.py:1473: DataConversionWarning: A column-vector y was passed when a 1d array was expected. Please change the shape of y to (n_samples,), for example using ravel().\n",
            "  return fit_method(estimator, *args, **kwargs)\n",
            "/Users/tuhindas/Python Venv/Shrine/lib/python3.12/site-packages/sklearn/base.py:1473: DataConversionWarning: A column-vector y was passed when a 1d array was expected. Please change the shape of y to (n_samples,), for example using ravel().\n",
            "  return fit_method(estimator, *args, **kwargs)\n",
            "/Users/tuhindas/Python Venv/Shrine/lib/python3.12/site-packages/sklearn/base.py:1473: DataConversionWarning: A column-vector y was passed when a 1d array was expected. Please change the shape of y to (n_samples,), for example using ravel().\n",
            "  return fit_method(estimator, *args, **kwargs)\n",
            "/Users/tuhindas/Python Venv/Shrine/lib/python3.12/site-packages/sklearn/base.py:1473: DataConversionWarning: A column-vector y was passed when a 1d array was expected. Please change the shape of y to (n_samples,), for example using ravel().\n",
            "  return fit_method(estimator, *args, **kwargs)\n",
            "/Users/tuhindas/Python Venv/Shrine/lib/python3.12/site-packages/sklearn/base.py:1473: DataConversionWarning: A column-vector y was passed when a 1d array was expected. Please change the shape of y to (n_samples,), for example using ravel().\n",
            "  return fit_method(estimator, *args, **kwargs)\n",
            "/Users/tuhindas/Python Venv/Shrine/lib/python3.12/site-packages/sklearn/base.py:1473: DataConversionWarning: A column-vector y was passed when a 1d array was expected. Please change the shape of y to (n_samples,), for example using ravel().\n",
            "  return fit_method(estimator, *args, **kwargs)\n",
            "/Users/tuhindas/Python Venv/Shrine/lib/python3.12/site-packages/sklearn/base.py:1473: DataConversionWarning: A column-vector y was passed when a 1d array was expected. Please change the shape of y to (n_samples,), for example using ravel().\n",
            "  return fit_method(estimator, *args, **kwargs)\n",
            "/Users/tuhindas/Python Venv/Shrine/lib/python3.12/site-packages/sklearn/base.py:1473: DataConversionWarning: A column-vector y was passed when a 1d array was expected. Please change the shape of y to (n_samples,), for example using ravel().\n",
            "  return fit_method(estimator, *args, **kwargs)\n",
            "/Users/tuhindas/Python Venv/Shrine/lib/python3.12/site-packages/sklearn/base.py:1473: DataConversionWarning: A column-vector y was passed when a 1d array was expected. Please change the shape of y to (n_samples,), for example using ravel().\n",
            "  return fit_method(estimator, *args, **kwargs)\n",
            "/Users/tuhindas/Python Venv/Shrine/lib/python3.12/site-packages/sklearn/base.py:1473: DataConversionWarning: A column-vector y was passed when a 1d array was expected. Please change the shape of y to (n_samples,), for example using ravel().\n",
            "  return fit_method(estimator, *args, **kwargs)\n",
            "/Users/tuhindas/Python Venv/Shrine/lib/python3.12/site-packages/sklearn/base.py:1473: DataConversionWarning: A column-vector y was passed when a 1d array was expected. Please change the shape of y to (n_samples,), for example using ravel().\n",
            "  return fit_method(estimator, *args, **kwargs)\n",
            "/Users/tuhindas/Python Venv/Shrine/lib/python3.12/site-packages/sklearn/base.py:1473: DataConversionWarning: A column-vector y was passed when a 1d array was expected. Please change the shape of y to (n_samples,), for example using ravel().\n",
            "  return fit_method(estimator, *args, **kwargs)\n",
            "/Users/tuhindas/Python Venv/Shrine/lib/python3.12/site-packages/sklearn/base.py:1473: DataConversionWarning: A column-vector y was passed when a 1d array was expected. Please change the shape of y to (n_samples,), for example using ravel().\n",
            "  return fit_method(estimator, *args, **kwargs)\n",
            "/Users/tuhindas/Python Venv/Shrine/lib/python3.12/site-packages/sklearn/base.py:1473: DataConversionWarning: A column-vector y was passed when a 1d array was expected. Please change the shape of y to (n_samples,), for example using ravel().\n",
            "  return fit_method(estimator, *args, **kwargs)\n",
            "/Users/tuhindas/Python Venv/Shrine/lib/python3.12/site-packages/sklearn/base.py:1473: DataConversionWarning: A column-vector y was passed when a 1d array was expected. Please change the shape of y to (n_samples,), for example using ravel().\n",
            "  return fit_method(estimator, *args, **kwargs)\n",
            "/Users/tuhindas/Python Venv/Shrine/lib/python3.12/site-packages/sklearn/base.py:1473: DataConversionWarning: A column-vector y was passed when a 1d array was expected. Please change the shape of y to (n_samples,), for example using ravel().\n",
            "  return fit_method(estimator, *args, **kwargs)\n",
            "/Users/tuhindas/Python Venv/Shrine/lib/python3.12/site-packages/sklearn/base.py:1473: DataConversionWarning: A column-vector y was passed when a 1d array was expected. Please change the shape of y to (n_samples,), for example using ravel().\n",
            "  return fit_method(estimator, *args, **kwargs)\n",
            "/Users/tuhindas/Python Venv/Shrine/lib/python3.12/site-packages/sklearn/base.py:1473: DataConversionWarning: A column-vector y was passed when a 1d array was expected. Please change the shape of y to (n_samples,), for example using ravel().\n",
            "  return fit_method(estimator, *args, **kwargs)\n",
            "/Users/tuhindas/Python Venv/Shrine/lib/python3.12/site-packages/sklearn/base.py:1473: DataConversionWarning: A column-vector y was passed when a 1d array was expected. Please change the shape of y to (n_samples,), for example using ravel().\n",
            "  return fit_method(estimator, *args, **kwargs)\n",
            "/Users/tuhindas/Python Venv/Shrine/lib/python3.12/site-packages/sklearn/base.py:1473: DataConversionWarning: A column-vector y was passed when a 1d array was expected. Please change the shape of y to (n_samples,), for example using ravel().\n",
            "  return fit_method(estimator, *args, **kwargs)\n",
            "/Users/tuhindas/Python Venv/Shrine/lib/python3.12/site-packages/sklearn/base.py:1473: DataConversionWarning: A column-vector y was passed when a 1d array was expected. Please change the shape of y to (n_samples,), for example using ravel().\n",
            "  return fit_method(estimator, *args, **kwargs)\n",
            "/Users/tuhindas/Python Venv/Shrine/lib/python3.12/site-packages/sklearn/base.py:1473: DataConversionWarning: A column-vector y was passed when a 1d array was expected. Please change the shape of y to (n_samples,), for example using ravel().\n",
            "  return fit_method(estimator, *args, **kwargs)\n",
            "/Users/tuhindas/Python Venv/Shrine/lib/python3.12/site-packages/sklearn/base.py:1473: DataConversionWarning: A column-vector y was passed when a 1d array was expected. Please change the shape of y to (n_samples,), for example using ravel().\n",
            "  return fit_method(estimator, *args, **kwargs)\n",
            "/Users/tuhindas/Python Venv/Shrine/lib/python3.12/site-packages/sklearn/base.py:1473: DataConversionWarning: A column-vector y was passed when a 1d array was expected. Please change the shape of y to (n_samples,), for example using ravel().\n",
            "  return fit_method(estimator, *args, **kwargs)\n",
            "/Users/tuhindas/Python Venv/Shrine/lib/python3.12/site-packages/sklearn/base.py:1473: DataConversionWarning: A column-vector y was passed when a 1d array was expected. Please change the shape of y to (n_samples,), for example using ravel().\n",
            "  return fit_method(estimator, *args, **kwargs)\n",
            "/Users/tuhindas/Python Venv/Shrine/lib/python3.12/site-packages/sklearn/base.py:1473: DataConversionWarning: A column-vector y was passed when a 1d array was expected. Please change the shape of y to (n_samples,), for example using ravel().\n",
            "  return fit_method(estimator, *args, **kwargs)\n",
            "/Users/tuhindas/Python Venv/Shrine/lib/python3.12/site-packages/sklearn/base.py:1473: DataConversionWarning: A column-vector y was passed when a 1d array was expected. Please change the shape of y to (n_samples,), for example using ravel().\n",
            "  return fit_method(estimator, *args, **kwargs)\n",
            "/Users/tuhindas/Python Venv/Shrine/lib/python3.12/site-packages/sklearn/base.py:1473: DataConversionWarning: A column-vector y was passed when a 1d array was expected. Please change the shape of y to (n_samples,), for example using ravel().\n",
            "  return fit_method(estimator, *args, **kwargs)\n",
            "/Users/tuhindas/Python Venv/Shrine/lib/python3.12/site-packages/sklearn/base.py:1473: DataConversionWarning: A column-vector y was passed when a 1d array was expected. Please change the shape of y to (n_samples,), for example using ravel().\n",
            "  return fit_method(estimator, *args, **kwargs)\n",
            "/Users/tuhindas/Python Venv/Shrine/lib/python3.12/site-packages/sklearn/base.py:1473: DataConversionWarning: A column-vector y was passed when a 1d array was expected. Please change the shape of y to (n_samples,), for example using ravel().\n",
            "  return fit_method(estimator, *args, **kwargs)\n",
            "/Users/tuhindas/Python Venv/Shrine/lib/python3.12/site-packages/sklearn/base.py:1473: DataConversionWarning: A column-vector y was passed when a 1d array was expected. Please change the shape of y to (n_samples,), for example using ravel().\n",
            "  return fit_method(estimator, *args, **kwargs)\n",
            "/Users/tuhindas/Python Venv/Shrine/lib/python3.12/site-packages/sklearn/base.py:1473: DataConversionWarning: A column-vector y was passed when a 1d array was expected. Please change the shape of y to (n_samples,), for example using ravel().\n",
            "  return fit_method(estimator, *args, **kwargs)\n",
            "/Users/tuhindas/Python Venv/Shrine/lib/python3.12/site-packages/sklearn/base.py:1473: DataConversionWarning: A column-vector y was passed when a 1d array was expected. Please change the shape of y to (n_samples,), for example using ravel().\n",
            "  return fit_method(estimator, *args, **kwargs)\n",
            "/Users/tuhindas/Python Venv/Shrine/lib/python3.12/site-packages/sklearn/base.py:1473: DataConversionWarning: A column-vector y was passed when a 1d array was expected. Please change the shape of y to (n_samples,), for example using ravel().\n",
            "  return fit_method(estimator, *args, **kwargs)\n",
            "/Users/tuhindas/Python Venv/Shrine/lib/python3.12/site-packages/sklearn/base.py:1473: DataConversionWarning: A column-vector y was passed when a 1d array was expected. Please change the shape of y to (n_samples,), for example using ravel().\n",
            "  return fit_method(estimator, *args, **kwargs)\n",
            "/Users/tuhindas/Python Venv/Shrine/lib/python3.12/site-packages/sklearn/base.py:1473: DataConversionWarning: A column-vector y was passed when a 1d array was expected. Please change the shape of y to (n_samples,), for example using ravel().\n",
            "  return fit_method(estimator, *args, **kwargs)\n",
            "/Users/tuhindas/Python Venv/Shrine/lib/python3.12/site-packages/sklearn/base.py:1473: DataConversionWarning: A column-vector y was passed when a 1d array was expected. Please change the shape of y to (n_samples,), for example using ravel().\n",
            "  return fit_method(estimator, *args, **kwargs)\n",
            "/Users/tuhindas/Python Venv/Shrine/lib/python3.12/site-packages/sklearn/base.py:1473: DataConversionWarning: A column-vector y was passed when a 1d array was expected. Please change the shape of y to (n_samples,), for example using ravel().\n",
            "  return fit_method(estimator, *args, **kwargs)\n",
            "/Users/tuhindas/Python Venv/Shrine/lib/python3.12/site-packages/sklearn/base.py:1473: DataConversionWarning: A column-vector y was passed when a 1d array was expected. Please change the shape of y to (n_samples,), for example using ravel().\n",
            "  return fit_method(estimator, *args, **kwargs)\n",
            "/Users/tuhindas/Python Venv/Shrine/lib/python3.12/site-packages/sklearn/base.py:1473: DataConversionWarning: A column-vector y was passed when a 1d array was expected. Please change the shape of y to (n_samples,), for example using ravel().\n",
            "  return fit_method(estimator, *args, **kwargs)\n",
            "/Users/tuhindas/Python Venv/Shrine/lib/python3.12/site-packages/sklearn/base.py:1473: DataConversionWarning: A column-vector y was passed when a 1d array was expected. Please change the shape of y to (n_samples,), for example using ravel().\n",
            "  return fit_method(estimator, *args, **kwargs)\n",
            "/Users/tuhindas/Python Venv/Shrine/lib/python3.12/site-packages/sklearn/base.py:1473: DataConversionWarning: A column-vector y was passed when a 1d array was expected. Please change the shape of y to (n_samples,), for example using ravel().\n",
            "  return fit_method(estimator, *args, **kwargs)\n",
            "/Users/tuhindas/Python Venv/Shrine/lib/python3.12/site-packages/sklearn/base.py:1473: DataConversionWarning: A column-vector y was passed when a 1d array was expected. Please change the shape of y to (n_samples,), for example using ravel().\n",
            "  return fit_method(estimator, *args, **kwargs)\n",
            "/Users/tuhindas/Python Venv/Shrine/lib/python3.12/site-packages/sklearn/base.py:1473: DataConversionWarning: A column-vector y was passed when a 1d array was expected. Please change the shape of y to (n_samples,), for example using ravel().\n",
            "  return fit_method(estimator, *args, **kwargs)\n",
            "/Users/tuhindas/Python Venv/Shrine/lib/python3.12/site-packages/sklearn/base.py:1473: DataConversionWarning: A column-vector y was passed when a 1d array was expected. Please change the shape of y to (n_samples,), for example using ravel().\n",
            "  return fit_method(estimator, *args, **kwargs)\n",
            "/Users/tuhindas/Python Venv/Shrine/lib/python3.12/site-packages/sklearn/base.py:1473: DataConversionWarning: A column-vector y was passed when a 1d array was expected. Please change the shape of y to (n_samples,), for example using ravel().\n",
            "  return fit_method(estimator, *args, **kwargs)\n",
            "/Users/tuhindas/Python Venv/Shrine/lib/python3.12/site-packages/sklearn/base.py:1473: DataConversionWarning: A column-vector y was passed when a 1d array was expected. Please change the shape of y to (n_samples,), for example using ravel().\n",
            "  return fit_method(estimator, *args, **kwargs)\n",
            "/Users/tuhindas/Python Venv/Shrine/lib/python3.12/site-packages/sklearn/base.py:1473: DataConversionWarning: A column-vector y was passed when a 1d array was expected. Please change the shape of y to (n_samples,), for example using ravel().\n",
            "  return fit_method(estimator, *args, **kwargs)\n",
            "/Users/tuhindas/Python Venv/Shrine/lib/python3.12/site-packages/sklearn/base.py:1473: DataConversionWarning: A column-vector y was passed when a 1d array was expected. Please change the shape of y to (n_samples,), for example using ravel().\n",
            "  return fit_method(estimator, *args, **kwargs)\n",
            "/Users/tuhindas/Python Venv/Shrine/lib/python3.12/site-packages/sklearn/base.py:1473: DataConversionWarning: A column-vector y was passed when a 1d array was expected. Please change the shape of y to (n_samples,), for example using ravel().\n",
            "  return fit_method(estimator, *args, **kwargs)\n",
            "/Users/tuhindas/Python Venv/Shrine/lib/python3.12/site-packages/sklearn/base.py:1473: DataConversionWarning: A column-vector y was passed when a 1d array was expected. Please change the shape of y to (n_samples,), for example using ravel().\n",
            "  return fit_method(estimator, *args, **kwargs)\n",
            "/Users/tuhindas/Python Venv/Shrine/lib/python3.12/site-packages/sklearn/base.py:1473: DataConversionWarning: A column-vector y was passed when a 1d array was expected. Please change the shape of y to (n_samples,), for example using ravel().\n",
            "  return fit_method(estimator, *args, **kwargs)\n",
            "/Users/tuhindas/Python Venv/Shrine/lib/python3.12/site-packages/sklearn/base.py:1473: DataConversionWarning: A column-vector y was passed when a 1d array was expected. Please change the shape of y to (n_samples,), for example using ravel().\n",
            "  return fit_method(estimator, *args, **kwargs)\n",
            "/Users/tuhindas/Python Venv/Shrine/lib/python3.12/site-packages/sklearn/base.py:1473: DataConversionWarning: A column-vector y was passed when a 1d array was expected. Please change the shape of y to (n_samples,), for example using ravel().\n",
            "  return fit_method(estimator, *args, **kwargs)\n",
            "/Users/tuhindas/Python Venv/Shrine/lib/python3.12/site-packages/sklearn/base.py:1473: DataConversionWarning: A column-vector y was passed when a 1d array was expected. Please change the shape of y to (n_samples,), for example using ravel().\n",
            "  return fit_method(estimator, *args, **kwargs)\n",
            "/Users/tuhindas/Python Venv/Shrine/lib/python3.12/site-packages/sklearn/base.py:1473: DataConversionWarning: A column-vector y was passed when a 1d array was expected. Please change the shape of y to (n_samples,), for example using ravel().\n",
            "  return fit_method(estimator, *args, **kwargs)\n",
            "/Users/tuhindas/Python Venv/Shrine/lib/python3.12/site-packages/sklearn/base.py:1473: DataConversionWarning: A column-vector y was passed when a 1d array was expected. Please change the shape of y to (n_samples,), for example using ravel().\n",
            "  return fit_method(estimator, *args, **kwargs)\n",
            "/Users/tuhindas/Python Venv/Shrine/lib/python3.12/site-packages/sklearn/base.py:1473: DataConversionWarning: A column-vector y was passed when a 1d array was expected. Please change the shape of y to (n_samples,), for example using ravel().\n",
            "  return fit_method(estimator, *args, **kwargs)\n",
            "/Users/tuhindas/Python Venv/Shrine/lib/python3.12/site-packages/sklearn/base.py:1473: DataConversionWarning: A column-vector y was passed when a 1d array was expected. Please change the shape of y to (n_samples,), for example using ravel().\n",
            "  return fit_method(estimator, *args, **kwargs)\n",
            "/Users/tuhindas/Python Venv/Shrine/lib/python3.12/site-packages/sklearn/base.py:1473: DataConversionWarning: A column-vector y was passed when a 1d array was expected. Please change the shape of y to (n_samples,), for example using ravel().\n",
            "  return fit_method(estimator, *args, **kwargs)\n",
            "/Users/tuhindas/Python Venv/Shrine/lib/python3.12/site-packages/sklearn/base.py:1473: DataConversionWarning: A column-vector y was passed when a 1d array was expected. Please change the shape of y to (n_samples,), for example using ravel().\n",
            "  return fit_method(estimator, *args, **kwargs)\n",
            "/Users/tuhindas/Python Venv/Shrine/lib/python3.12/site-packages/sklearn/base.py:1473: DataConversionWarning: A column-vector y was passed when a 1d array was expected. Please change the shape of y to (n_samples,), for example using ravel().\n",
            "  return fit_method(estimator, *args, **kwargs)\n",
            "/Users/tuhindas/Python Venv/Shrine/lib/python3.12/site-packages/sklearn/base.py:1473: DataConversionWarning: A column-vector y was passed when a 1d array was expected. Please change the shape of y to (n_samples,), for example using ravel().\n",
            "  return fit_method(estimator, *args, **kwargs)\n",
            "/Users/tuhindas/Python Venv/Shrine/lib/python3.12/site-packages/sklearn/base.py:1473: DataConversionWarning: A column-vector y was passed when a 1d array was expected. Please change the shape of y to (n_samples,), for example using ravel().\n",
            "  return fit_method(estimator, *args, **kwargs)\n",
            "/Users/tuhindas/Python Venv/Shrine/lib/python3.12/site-packages/sklearn/base.py:1473: DataConversionWarning: A column-vector y was passed when a 1d array was expected. Please change the shape of y to (n_samples,), for example using ravel().\n",
            "  return fit_method(estimator, *args, **kwargs)\n",
            "/Users/tuhindas/Python Venv/Shrine/lib/python3.12/site-packages/sklearn/base.py:1473: DataConversionWarning: A column-vector y was passed when a 1d array was expected. Please change the shape of y to (n_samples,), for example using ravel().\n",
            "  return fit_method(estimator, *args, **kwargs)\n",
            "/Users/tuhindas/Python Venv/Shrine/lib/python3.12/site-packages/sklearn/base.py:1473: DataConversionWarning: A column-vector y was passed when a 1d array was expected. Please change the shape of y to (n_samples,), for example using ravel().\n",
            "  return fit_method(estimator, *args, **kwargs)\n",
            "/Users/tuhindas/Python Venv/Shrine/lib/python3.12/site-packages/sklearn/base.py:1473: DataConversionWarning: A column-vector y was passed when a 1d array was expected. Please change the shape of y to (n_samples,), for example using ravel().\n",
            "  return fit_method(estimator, *args, **kwargs)\n",
            "/Users/tuhindas/Python Venv/Shrine/lib/python3.12/site-packages/sklearn/base.py:1473: DataConversionWarning: A column-vector y was passed when a 1d array was expected. Please change the shape of y to (n_samples,), for example using ravel().\n",
            "  return fit_method(estimator, *args, **kwargs)\n",
            "/Users/tuhindas/Python Venv/Shrine/lib/python3.12/site-packages/sklearn/base.py:1473: DataConversionWarning: A column-vector y was passed when a 1d array was expected. Please change the shape of y to (n_samples,), for example using ravel().\n",
            "  return fit_method(estimator, *args, **kwargs)\n",
            "/Users/tuhindas/Python Venv/Shrine/lib/python3.12/site-packages/sklearn/base.py:1473: DataConversionWarning: A column-vector y was passed when a 1d array was expected. Please change the shape of y to (n_samples,), for example using ravel().\n",
            "  return fit_method(estimator, *args, **kwargs)\n",
            "/Users/tuhindas/Python Venv/Shrine/lib/python3.12/site-packages/sklearn/base.py:1473: DataConversionWarning: A column-vector y was passed when a 1d array was expected. Please change the shape of y to (n_samples,), for example using ravel().\n",
            "  return fit_method(estimator, *args, **kwargs)\n",
            "/Users/tuhindas/Python Venv/Shrine/lib/python3.12/site-packages/sklearn/base.py:1473: DataConversionWarning: A column-vector y was passed when a 1d array was expected. Please change the shape of y to (n_samples,), for example using ravel().\n",
            "  return fit_method(estimator, *args, **kwargs)\n",
            "/Users/tuhindas/Python Venv/Shrine/lib/python3.12/site-packages/sklearn/base.py:1473: DataConversionWarning: A column-vector y was passed when a 1d array was expected. Please change the shape of y to (n_samples,), for example using ravel().\n",
            "  return fit_method(estimator, *args, **kwargs)\n",
            "/Users/tuhindas/Python Venv/Shrine/lib/python3.12/site-packages/sklearn/base.py:1473: DataConversionWarning: A column-vector y was passed when a 1d array was expected. Please change the shape of y to (n_samples,), for example using ravel().\n",
            "  return fit_method(estimator, *args, **kwargs)\n",
            "/Users/tuhindas/Python Venv/Shrine/lib/python3.12/site-packages/sklearn/base.py:1473: DataConversionWarning: A column-vector y was passed when a 1d array was expected. Please change the shape of y to (n_samples,), for example using ravel().\n",
            "  return fit_method(estimator, *args, **kwargs)\n",
            "/Users/tuhindas/Python Venv/Shrine/lib/python3.12/site-packages/sklearn/base.py:1473: DataConversionWarning: A column-vector y was passed when a 1d array was expected. Please change the shape of y to (n_samples,), for example using ravel().\n",
            "  return fit_method(estimator, *args, **kwargs)\n",
            "/Users/tuhindas/Python Venv/Shrine/lib/python3.12/site-packages/sklearn/base.py:1473: DataConversionWarning: A column-vector y was passed when a 1d array was expected. Please change the shape of y to (n_samples,), for example using ravel().\n",
            "  return fit_method(estimator, *args, **kwargs)\n"
          ]
        },
        {
          "name": "stdout",
          "output_type": "stream",
          "text": [
            "Optimal number of features: 570\n",
            "Selected features: [ True  True False  True  True  True  True  True  True  True  True  True\n",
            "  True  True  True  True  True  True  True  True  True  True  True  True\n",
            "  True False  True  True  True  True  True  True  True  True  True  True\n",
            "  True  True  True  True False  True  True  True  True  True  True  True\n",
            "  True  True  True  True  True  True  True  True  True  True  True  True\n",
            "  True  True  True  True  True  True  True  True  True  True  True  True\n",
            "  True  True  True  True  True  True  True False  True  True  True  True\n",
            " False  True  True  True  True False  True False False False  True  True\n",
            " False  True  True  True  True  True  True  True  True  True  True  True\n",
            " False  True  True  True False False  True False False False  True  True\n",
            "  True False  True  True  True  True  True  True  True  True  True  True\n",
            "  True  True  True  True  True  True  True  True  True  True  True  True\n",
            "  True  True  True  True  True False False False  True  True  True  True\n",
            "  True  True  True  True  True  True  True  True  True  True  True  True\n",
            "  True  True  True  True  True  True  True  True  True  True  True  True\n",
            "  True  True  True  True  True  True  True  True  True False False  True\n",
            "  True  True  True  True  True  True  True  True  True  True  True False\n",
            "  True  True  True False  True  True  True  True  True  True  True  True\n",
            "  True  True  True  True  True  True  True  True  True  True  True False\n",
            "  True  True  True  True  True  True  True  True  True  True  True  True\n",
            "  True  True  True  True  True  True  True  True  True  True  True  True\n",
            "  True  True  True  True  True  True  True  True  True  True  True  True\n",
            "  True  True  True  True  True  True  True  True  True  True  True  True\n",
            "  True  True  True False  True  True  True  True False  True False False\n",
            "  True False  True  True  True  True  True  True  True  True  True False\n",
            " False  True  True  True  True  True  True  True  True  True  True  True\n",
            "  True  True  True  True  True  True  True  True  True  True  True False\n",
            "  True  True False  True  True  True  True  True False False  True  True\n",
            "  True False  True  True  True  True  True  True  True  True  True False\n",
            "  True  True  True  True  True  True  True  True  True  True  True  True\n",
            "  True  True  True  True False False  True  True  True False  True  True\n",
            " False  True  True False  True False  True  True  True  True  True  True\n",
            "  True  True  True  True  True  True  True  True  True  True  True  True\n",
            "  True  True  True  True  True  True  True  True  True  True  True  True\n",
            "  True  True  True  True  True  True  True  True  True  True  True  True\n",
            "  True  True  True  True  True  True  True  True  True  True  True  True\n",
            "  True  True  True  True  True  True  True  True False  True  True  True\n",
            "  True False  True  True  True  True  True  True  True  True  True  True\n",
            "  True  True  True  True  True  True  True  True  True  True  True  True\n",
            "  True  True  True False  True  True  True  True  True  True  True  True\n",
            "  True  True  True  True  True  True  True  True  True  True  True  True\n",
            " False  True  True  True  True  True  True  True False  True  True  True\n",
            "  True  True  True  True  True  True  True  True  True  True False  True\n",
            "  True  True  True  True  True  True  True  True  True  True  True  True\n",
            "  True  True  True  True  True  True False  True  True  True  True  True\n",
            "  True  True  True  True  True  True  True  True False  True  True False\n",
            "  True  True  True  True  True  True  True  True  True  True  True  True\n",
            "  True  True  True  True  True  True  True  True  True  True  True  True\n",
            "  True  True  True  True  True  True  True  True  True  True  True  True\n",
            "  True  True  True  True  True  True  True False  True  True  True  True\n",
            "  True  True  True  True  True False  True  True  True  True  True  True\n",
            "  True  True  True  True  True  True  True  True  True  True  True  True\n",
            "  True]\n"
          ]
        }
      ],
      "source": [
        "from sklearn.feature_selection import RFECV\n",
        "from sklearn.tree import DecisionTreeClassifier\n",
        "from sklearn.ensemble import RandomForestClassifier\n",
        "from xgboost import XGBClassifier\n",
        "\n",
        "from sklearn.feature_selection import RFECV\n",
        "from sklearn.tree import DecisionTreeClassifier\n",
        "# Create a decision tree classifier\n",
        "# estimator = XGBClassifier(n_estimators=98, max_depth=30, colsample_bytree=0.5, eval_metric='auc', objective='multi:softmax', tree_method=\"exact\")\n",
        "estimator = RandomForestClassifier(random_state=8, max_depth=15, n_estimators=130)\n",
        "# estimator = DecisionTreeClassifier()\n",
        "\n",
        "# Use RFE with cross-validation to\n",
        "# find the optimal number of features\n",
        "selector = RFECV(estimator, step = 5, cv=3, min_features_to_select = 35)\n",
        "selector = selector.fit(X_demo, y_demo)\n",
        "\n",
        "# Print the optimal number of features\n",
        "print(\"Optimal number of features: %d\" % selector.n_features_)\n",
        "\n",
        "# Print the selected features\n",
        "print(\"Selected features: %s\" % selector.support_)"
      ]
    },
    {
      "cell_type": "code",
      "execution_count": 47,
      "metadata": {
        "colab": {
          "base_uri": "https://localhost:8080/"
        },
        "id": "7sHopZq2W8-i",
        "outputId": "01e4be98-f010-4184-fad7-d82fef5fe5fc"
      },
      "outputs": [
        {
          "name": "stdout",
          "output_type": "stream",
          "text": [
            "[np.int64(0), np.int64(1), np.int64(3), np.int64(4), np.int64(5), np.int64(6), np.int64(7), np.int64(8), np.int64(9), np.int64(10), np.int64(11), np.int64(12), np.int64(13), np.int64(14), np.int64(15), np.int64(16), np.int64(17), np.int64(18), np.int64(19), np.int64(20), np.int64(21), np.int64(22), np.int64(23), np.int64(24), np.int64(26), np.int64(27), np.int64(28), np.int64(29), np.int64(30), np.int64(31), np.int64(32), np.int64(33), np.int64(34), np.int64(35), np.int64(36), np.int64(37), np.int64(38), np.int64(39), np.int64(41), np.int64(42), np.int64(43), np.int64(44), np.int64(45), np.int64(46), np.int64(47), np.int64(48), np.int64(49), np.int64(50), np.int64(51), np.int64(52), np.int64(53), np.int64(54), np.int64(55), np.int64(56), np.int64(57), np.int64(58), np.int64(59), np.int64(60), np.int64(61), np.int64(62), np.int64(63), np.int64(64), np.int64(65), np.int64(66), np.int64(67), np.int64(68), np.int64(69), np.int64(70), np.int64(71), np.int64(72), np.int64(73), np.int64(74), np.int64(75), np.int64(76), np.int64(77), np.int64(78), np.int64(80), np.int64(81), np.int64(82), np.int64(83), np.int64(85), np.int64(86), np.int64(87), np.int64(88), np.int64(90), np.int64(94), np.int64(95), np.int64(97), np.int64(98), np.int64(99), np.int64(100), np.int64(101), np.int64(102), np.int64(103), np.int64(104), np.int64(105), np.int64(106), np.int64(107), np.int64(109), np.int64(110), np.int64(111), np.int64(114), np.int64(118), np.int64(119), np.int64(120), np.int64(122), np.int64(123), np.int64(124), np.int64(125), np.int64(126), np.int64(127), np.int64(128), np.int64(129), np.int64(130), np.int64(131), np.int64(132), np.int64(133), np.int64(134), np.int64(135), np.int64(136), np.int64(137), np.int64(138), np.int64(139), np.int64(140), np.int64(141), np.int64(142), np.int64(143), np.int64(144), np.int64(145), np.int64(146), np.int64(147), np.int64(148), np.int64(152), np.int64(153), np.int64(154), np.int64(155), np.int64(156), np.int64(157), np.int64(158), np.int64(159), np.int64(160), np.int64(161), np.int64(162), np.int64(163), np.int64(164), np.int64(165), np.int64(166), np.int64(167), np.int64(168), np.int64(169), np.int64(170), np.int64(171), np.int64(172), np.int64(173), np.int64(174), np.int64(175), np.int64(176), np.int64(177), np.int64(178), np.int64(179), np.int64(180), np.int64(181), np.int64(182), np.int64(183), np.int64(184), np.int64(185), np.int64(186), np.int64(187), np.int64(188), np.int64(191), np.int64(192), np.int64(193), np.int64(194), np.int64(195), np.int64(196), np.int64(197), np.int64(198), np.int64(199), np.int64(200), np.int64(201), np.int64(202), np.int64(204), np.int64(205), np.int64(206), np.int64(208), np.int64(209), np.int64(210), np.int64(211), np.int64(212), np.int64(213), np.int64(214), np.int64(215), np.int64(216), np.int64(217), np.int64(218), np.int64(219), np.int64(220), np.int64(221), np.int64(222), np.int64(223), np.int64(224), np.int64(225), np.int64(226), np.int64(228), np.int64(229), np.int64(230), np.int64(231), np.int64(232), np.int64(233), np.int64(234), np.int64(235), np.int64(236), np.int64(237), np.int64(238), np.int64(239), np.int64(240), np.int64(241), np.int64(242), np.int64(243), np.int64(244), np.int64(245), np.int64(246), np.int64(247), np.int64(248), np.int64(249), np.int64(250), np.int64(251), np.int64(252), np.int64(253), np.int64(254), np.int64(255), np.int64(256), np.int64(257), np.int64(258), np.int64(259), np.int64(260), np.int64(261), np.int64(262), np.int64(263), np.int64(264), np.int64(265), np.int64(266), np.int64(267), np.int64(268), np.int64(269), np.int64(270), np.int64(271), np.int64(272), np.int64(273), np.int64(274), np.int64(275), np.int64(276), np.int64(277), np.int64(278), np.int64(280), np.int64(281), np.int64(282), np.int64(283), np.int64(285), np.int64(288), np.int64(290), np.int64(291), np.int64(292), np.int64(293), np.int64(294), np.int64(295), np.int64(296), np.int64(297), np.int64(298), np.int64(301), np.int64(302), np.int64(303), np.int64(304), np.int64(305), np.int64(306), np.int64(307), np.int64(308), np.int64(309), np.int64(310), np.int64(311), np.int64(312), np.int64(313), np.int64(314), np.int64(315), np.int64(316), np.int64(317), np.int64(318), np.int64(319), np.int64(320), np.int64(321), np.int64(322), np.int64(324), np.int64(325), np.int64(327), np.int64(328), np.int64(329), np.int64(330), np.int64(331), np.int64(334), np.int64(335), np.int64(336), np.int64(338), np.int64(339), np.int64(340), np.int64(341), np.int64(342), np.int64(343), np.int64(344), np.int64(345), np.int64(346), np.int64(348), np.int64(349), np.int64(350), np.int64(351), np.int64(352), np.int64(353), np.int64(354), np.int64(355), np.int64(356), np.int64(357), np.int64(358), np.int64(359), np.int64(360), np.int64(361), np.int64(362), np.int64(363), np.int64(366), np.int64(367), np.int64(368), np.int64(370), np.int64(371), np.int64(373), np.int64(374), np.int64(376), np.int64(378), np.int64(379), np.int64(380), np.int64(381), np.int64(382), np.int64(383), np.int64(384), np.int64(385), np.int64(386), np.int64(387), np.int64(388), np.int64(389), np.int64(390), np.int64(391), np.int64(392), np.int64(393), np.int64(394), np.int64(395), np.int64(396), np.int64(397), np.int64(398), np.int64(399), np.int64(400), np.int64(401), np.int64(402), np.int64(403), np.int64(404), np.int64(405), np.int64(406), np.int64(407), np.int64(408), np.int64(409), np.int64(410), np.int64(411), np.int64(412), np.int64(413), np.int64(414), np.int64(415), np.int64(416), np.int64(417), np.int64(418), np.int64(419), np.int64(420), np.int64(421), np.int64(422), np.int64(423), np.int64(424), np.int64(425), np.int64(426), np.int64(427), np.int64(428), np.int64(429), np.int64(430), np.int64(431), np.int64(432), np.int64(433), np.int64(434), np.int64(435), np.int64(436), np.int64(437), np.int64(438), np.int64(439), np.int64(441), np.int64(442), np.int64(443), np.int64(444), np.int64(446), np.int64(447), np.int64(448), np.int64(449), np.int64(450), np.int64(451), np.int64(452), np.int64(453), np.int64(454), np.int64(455), np.int64(456), np.int64(457), np.int64(458), np.int64(459), np.int64(460), np.int64(461), np.int64(462), np.int64(463), np.int64(464), np.int64(465), np.int64(466), np.int64(467), np.int64(468), np.int64(469), np.int64(470), np.int64(472), np.int64(473), np.int64(474), np.int64(475), np.int64(476), np.int64(477), np.int64(478), np.int64(479), np.int64(480), np.int64(481), np.int64(482), np.int64(483), np.int64(484), np.int64(485), np.int64(486), np.int64(487), np.int64(488), np.int64(489), np.int64(490), np.int64(491), np.int64(493), np.int64(494), np.int64(495), np.int64(496), np.int64(497), np.int64(498), np.int64(499), np.int64(501), np.int64(502), np.int64(503), np.int64(504), np.int64(505), np.int64(506), np.int64(507), np.int64(508), np.int64(509), np.int64(510), np.int64(511), np.int64(512), np.int64(513), np.int64(515), np.int64(516), np.int64(517), np.int64(518), np.int64(519), np.int64(520), np.int64(521), np.int64(522), np.int64(523), np.int64(524), np.int64(525), np.int64(526), np.int64(527), np.int64(528), np.int64(529), np.int64(530), np.int64(531), np.int64(532), np.int64(533), np.int64(535), np.int64(536), np.int64(537), np.int64(538), np.int64(539), np.int64(540), np.int64(541), np.int64(542), np.int64(543), np.int64(544), np.int64(545), np.int64(546), np.int64(547), np.int64(549), np.int64(550), np.int64(552), np.int64(553), np.int64(554), np.int64(555), np.int64(556), np.int64(557), np.int64(558), np.int64(559), np.int64(560), np.int64(561), np.int64(562), np.int64(563), np.int64(564), np.int64(565), np.int64(566), np.int64(567), np.int64(568), np.int64(569), np.int64(570), np.int64(571), np.int64(572), np.int64(573), np.int64(574), np.int64(575), np.int64(576), np.int64(577), np.int64(578), np.int64(579), np.int64(580), np.int64(581), np.int64(582), np.int64(583), np.int64(584), np.int64(585), np.int64(586), np.int64(587), np.int64(588), np.int64(589), np.int64(590), np.int64(591), np.int64(592), np.int64(593), np.int64(594), np.int64(596), np.int64(597), np.int64(598), np.int64(599), np.int64(600), np.int64(601), np.int64(602), np.int64(603), np.int64(604), np.int64(606), np.int64(607), np.int64(608), np.int64(609), np.int64(610), np.int64(611), np.int64(612), np.int64(613), np.int64(614), np.int64(615), np.int64(616), np.int64(617), np.int64(618), np.int64(619), np.int64(620), np.int64(621), np.int64(622), np.int64(623), np.int64(624)]\n"
          ]
        }
      ],
      "source": [
        "new_indices = selector.support_\n",
        "top_features_names=[]\n",
        "for i in range (len(selector.support_)):\n",
        "  if selector.support_[i] == True:\n",
        "    top_features_names.append(i)\n",
        "top_features_names = np.array(top_features_names)\n",
        "top_features_names = list(top_features_names)\n",
        "print(top_features_names)"
      ]
    },
    {
      "cell_type": "code",
      "execution_count": 48,
      "metadata": {
        "id": "uIII-IgbW_O8"
      },
      "outputs": [],
      "source": [
        "# Select only the relevant features\n",
        "X_selected = X_demo.iloc[:, top_features_names].values"
      ]
    },
    {
      "cell_type": "code",
      "execution_count": 49,
      "metadata": {
        "colab": {
          "base_uri": "https://localhost:8080/"
        },
        "id": "d2WuL66dBYD3",
        "outputId": "8cd86a5c-7f10-421d-ee58-4b9e2199af74"
      },
      "outputs": [
        {
          "ename": "NameError",
          "evalue": "name 'final' is not defined",
          "output_type": "error",
          "traceback": [
            "\u001b[0;31m---------------------------------------------------------------------------\u001b[0m",
            "\u001b[0;31mNameError\u001b[0m                                 Traceback (most recent call last)",
            "Cell \u001b[0;32mIn[49], line 2\u001b[0m\n\u001b[1;32m      1\u001b[0m \u001b[38;5;66;03m# X_selected_blind = feats_final[:, top_features_names]\u001b[39;00m\n\u001b[0;32m----> 2\u001b[0m X_selected_blind \u001b[38;5;241m=\u001b[39m \u001b[43mfinal\u001b[49m[:, top_features_names]\n\u001b[1;32m      3\u001b[0m \u001b[38;5;28;01mfor\u001b[39;00m i \u001b[38;5;129;01min\u001b[39;00m \u001b[38;5;28mrange\u001b[39m(\u001b[38;5;241m1\u001b[39m):\n\u001b[1;32m      5\u001b[0m     ad \u001b[38;5;241m=\u001b[39m XGBOD(max_depth \u001b[38;5;241m=\u001b[39m \u001b[38;5;241m15\u001b[39m, learning_rate \u001b[38;5;241m=\u001b[39m \u001b[38;5;241m0.067\u001b[39m, n_estimators \u001b[38;5;241m=\u001b[39m \u001b[38;5;241m199\u001b[39m, gamma \u001b[38;5;241m=\u001b[39m \u001b[38;5;241m0\u001b[39m, silent\u001b[38;5;241m=\u001b[39m\u001b[38;5;28;01mTrue\u001b[39;00m, objective \u001b[38;5;241m=\u001b[39m \u001b[38;5;124m'\u001b[39m\u001b[38;5;124mbinary:logitraw\u001b[39m\u001b[38;5;124m'\u001b[39m,\n\u001b[1;32m      6\u001b[0m               booster\u001b[38;5;241m=\u001b[39m\u001b[38;5;124m'\u001b[39m\u001b[38;5;124mgbtree\u001b[39m\u001b[38;5;124m'\u001b[39m, eval_metric \u001b[38;5;241m=\u001b[39m \u001b[38;5;124m'\u001b[39m\u001b[38;5;124mauc\u001b[39m\u001b[38;5;124m'\u001b[39m, min_child_weight \u001b[38;5;241m=\u001b[39m \u001b[38;5;241m0.5\u001b[39m, random_state\u001b[38;5;241m=\u001b[39m\u001b[38;5;241m15\u001b[39m, verbosity \u001b[38;5;241m=\u001b[39m \u001b[38;5;241m0\u001b[39m, tree_method \u001b[38;5;241m=\u001b[39m \u001b[38;5;124m'\u001b[39m\u001b[38;5;124mexact\u001b[39m\u001b[38;5;124m'\u001b[39m,\n\u001b[1;32m      7\u001b[0m               subsample \u001b[38;5;241m=\u001b[39m \u001b[38;5;241m0.9\u001b[39m, colsample_bytree \u001b[38;5;241m=\u001b[39m \u001b[38;5;241m0.6\u001b[39m)\n",
            "\u001b[0;31mNameError\u001b[0m: name 'final' is not defined"
          ]
        }
      ],
      "source": [
        "# X_selected_blind = feats_final[:, top_features_names]\n",
        "X_selected_blind = final[:, top_features_names]\n",
        "for i in range(1):\n",
        "\n",
        "    ad = XGBOD(max_depth = 15, learning_rate = 0.067, n_estimators = 199, gamma = 0, silent=True, objective = 'binary:logitraw',\n",
        "              booster='gbtree', eval_metric = 'auc', min_child_weight = 0.5, random_state=15, verbosity = 0, tree_method = 'exact',\n",
        "              subsample = 0.9, colsample_bytree = 0.6)\n",
        "    ad.fit(X_selected, y_train)\n",
        "    y_pred = ad.predict(X_selected_blind)\n",
        "    y_pred -= 1\n",
        "    y_pred[y_pred<0]=1\n",
        "    print(i,\":\",accuracy_score(y_pred,y_cmp))\n",
        "    # performance_metrics(y_pred,y_cmp)"
      ]
    },
    {
      "cell_type": "markdown",
      "metadata": {
        "id": "CTuBHypan760"
      },
      "source": [
        "## mRMR"
      ]
    },
    {
      "cell_type": "code",
      "execution_count": null,
      "metadata": {
        "colab": {
          "base_uri": "https://localhost:8080/"
        },
        "id": "u9JBI8oGoIPu",
        "outputId": "a48498d6-bac7-428a-ccfe-e11f2ee94e97"
      },
      "outputs": [
        {
          "name": "stdout",
          "output_type": "stream",
          "text": [
            "\u001b[?25l     \u001b[90m━━━━━━━━━━━━━━━━━━━━━━━━━━━━━━━━━━━━━━━━\u001b[0m \u001b[32m0.0/81.9 kB\u001b[0m \u001b[31m?\u001b[0m eta \u001b[36m-:--:--\u001b[0m\r\u001b[2K     \u001b[90m━━━━━━━━━━━━━━━━━━━━━━━━━━━━━━━━━━━━━━━━\u001b[0m \u001b[32m81.9/81.9 kB\u001b[0m \u001b[31m2.3 MB/s\u001b[0m eta \u001b[36m0:00:00\u001b[0m\n",
            "\u001b[?25h"
          ]
        }
      ],
      "source": [
        "!pip install mrmr_selection --quiet"
      ]
    },
    {
      "cell_type": "code",
      "execution_count": null,
      "metadata": {
        "colab": {
          "base_uri": "https://localhost:8080/"
        },
        "id": "4QBE0kNLoBTk",
        "outputId": "34086058-afc5-49fa-c71c-5ad8e3b7ab92"
      },
      "outputs": [
        {
          "name": "stderr",
          "output_type": "stream",
          "text": [
            "100%|██████████| 65/65 [00:03<00:00, 16.75it/s]"
          ]
        },
        {
          "name": "stdout",
          "output_type": "stream",
          "text": [
            "Selected feature indices: [42, 47, 18, 10, 14, 22, 44, 39, 27, 11, 15, 17, 13, 3, 26, 30, 53, 35, 41, 9, 32, 6, 25, 23, 36, 2, 55, 59, 21, 33, 45, 20, 0, 31, 19, 49, 38, 28, 12, 1, 52, 7, 58, 5, 61, 65, 50, 34, 63, 46, 4, 62, 56, 54, 64, 29, 51, 48, 57, 16, 24, 67, 8, 60, 66]\n"
          ]
        },
        {
          "name": "stderr",
          "output_type": "stream",
          "text": [
            "\n"
          ]
        }
      ],
      "source": [
        "import mrmr\n",
        "from mrmr import mrmr_classif\n",
        "\n",
        "selected_features = mrmr_classif(X=X_demo, y=y_demo, K = 68)\n",
        "\n",
        "print(\"Selected feature indices:\", selected_features)"
      ]
    },
    {
      "cell_type": "code",
      "execution_count": null,
      "metadata": {
        "id": "Fz-UgJPBoCE4"
      },
      "outputs": [],
      "source": [
        "top_features_names = X_demo.columns[selected_features]\n",
        "top_features_names = top_features_names[:65]\n",
        "X_selected = X_demo.iloc[:, top_features_names].values"
      ]
    },
    {
      "cell_type": "code",
      "execution_count": null,
      "metadata": {
        "colab": {
          "base_uri": "https://localhost:8080/"
        },
        "id": "VUnRulTqopHe",
        "outputId": "39f2f55d-0368-4242-a6c0-92437162e85d"
      },
      "outputs": [
        {
          "name": "stdout",
          "output_type": "stream",
          "text": [
            "30 : 0.7873015873015873\n",
            "31 : 0.7952380952380952\n",
            "32 : 0.7952380952380952\n",
            "33 : 0.8031746031746032\n",
            "34 : 0.8\n",
            "35 : 0.8047619047619048\n",
            "36 : 0.8063492063492064\n",
            "37 : 0.807936507936508\n",
            "38 : 0.8095238095238095\n",
            "39 : 0.8111111111111111\n",
            "40 : 0.8142857142857143\n",
            "41 : 0.8142857142857143\n",
            "42 : 0.819047619047619\n",
            "43 : 0.8253968253968254\n",
            "44 : 0.8238095238095238\n",
            "45 : 0.8238095238095238\n",
            "46 : 0.8206349206349206\n",
            "47 : 0.8222222222222222\n",
            "48 : 0.8206349206349206\n",
            "49 : 0.8222222222222222\n",
            "50 : 0.8238095238095238\n",
            "51 : 0.8238095238095238\n",
            "52 : 0.8222222222222222\n",
            "53 : 0.819047619047619\n",
            "54 : 0.8206349206349206\n",
            "55 : 0.819047619047619\n",
            "56 : 0.819047619047619\n",
            "57 : 0.819047619047619\n",
            "58 : 0.8158730158730159\n",
            "59 : 0.8158730158730159\n",
            "60 : 0.8111111111111111\n",
            "61 : 0.8126984126984127\n",
            "62 : 0.8031746031746032\n",
            "63 : 0.8\n",
            "64 : 0.7952380952380952\n",
            "65 : 0.7952380952380952\n",
            "66 : 0.7904761904761904\n",
            "67 : 0.7936507936507936\n",
            "68 : 0.7952380952380952\n",
            "69 : 0.7888888888888889\n"
          ]
        }
      ],
      "source": [
        "from pyod.models.lof import LOF\n",
        "# X_selected_blind = feats_final[:, top_features_names]\n",
        "X_selected_blind = final[:, top_features_names]\n",
        "for i in range(30,70):\n",
        "    ad = LOF(n_neighbors=i, metric='cosine', contamination=0.41)\n",
        "    ad.fit(X_selected)\n",
        "    y_pred = ad.predict(X_selected_blind)\n",
        "    y_pred -= 1\n",
        "    y_pred[y_pred<0]=1\n",
        "    print(i,\":\",accuracy_score(y_pred,y_cmp))"
      ]
    },
    {
      "cell_type": "markdown",
      "metadata": {
        "id": "98l8qa3G9AKB"
      },
      "source": [
        "# Classification"
      ]
    },
    {
      "cell_type": "code",
      "execution_count": 50,
      "metadata": {
        "id": "Ir-rktcm9CIB"
      },
      "outputs": [
        {
          "ename": "NameError",
          "evalue": "name 'unauth' is not defined",
          "output_type": "error",
          "traceback": [
            "\u001b[0;31m---------------------------------------------------------------------------\u001b[0m",
            "\u001b[0;31mNameError\u001b[0m                                 Traceback (most recent call last)",
            "Cell \u001b[0;32mIn[50], line 4\u001b[0m\n\u001b[1;32m      1\u001b[0m \u001b[38;5;66;03m## Training Data\u001b[39;00m\n\u001b[1;32m      2\u001b[0m \n\u001b[1;32m      3\u001b[0m \u001b[38;5;66;03m# 5 min train\u001b[39;00m\n\u001b[0;32m----> 4\u001b[0m r \u001b[38;5;241m=\u001b[39m \u001b[43munauth\u001b[49m\n\u001b[1;32m      5\u001b[0m X_train \u001b[38;5;241m=\u001b[39m X[:r,:]\n\u001b[1;32m      6\u001b[0m y_train_clf \u001b[38;5;241m=\u001b[39m np\u001b[38;5;241m.\u001b[39mcopy(y_train_data)\n",
            "\u001b[0;31mNameError\u001b[0m: name 'unauth' is not defined"
          ]
        }
      ],
      "source": [
        "## Training Data\n",
        "\n",
        "# 5 min train\n",
        "r = unauth\n",
        "X_train = X[:r,:]\n",
        "y_train_clf = np.copy(y_train_data)\n",
        "\n",
        "# 10 min train\n",
        "# r = int(X_auth.shape[0])\n",
        "# X_train = X[:r,:]\n",
        "# y_train = np.copy(y_auth)"
      ]
    },
    {
      "cell_type": "code",
      "execution_count": null,
      "metadata": {
        "colab": {
          "base_uri": "https://localhost:8080/"
        },
        "id": "MxZOtUf7966O",
        "outputId": "7be542a8-2a1a-4e2d-9cf3-7ced560b56d9"
      },
      "outputs": [
        {
          "data": {
            "text/plain": [
              "(420,)"
            ]
          },
          "execution_count": 158,
          "metadata": {},
          "output_type": "execute_result"
        }
      ],
      "source": [
        "# y_train_clf.shape"
      ]
    },
    {
      "cell_type": "markdown",
      "metadata": {
        "id": "d3s0m9QE8ueY"
      },
      "source": [
        "## KNN"
      ]
    },
    {
      "cell_type": "code",
      "execution_count": null,
      "metadata": {
        "id": "WEiIEU9N8v1H"
      },
      "outputs": [],
      "source": [
        "from sklearn.neighbors import KNeighborsClassifier\n",
        "# clf = KNeighborsClassifier(n_neighbors = 4, metric = 'minkowski', p = 2)\n",
        "# clf.fit(X_train, y_train - 1)"
      ]
    },
    {
      "cell_type": "code",
      "execution_count": null,
      "metadata": {
        "colab": {
          "base_uri": "https://localhost:8080/",
          "height": 1000
        },
        "id": "kCOaMxudGtpI",
        "outputId": "c88c1e09-a9e4-4661-8e47-faaddd73ca5c"
      },
      "outputs": [
        {
          "name": "stdout",
          "output_type": "stream",
          "text": [
            "1 : 0.9666666666666667\n",
            "2 : 0.9666666666666667\n",
            "3 : 0.9666666666666667\n",
            "4 : 0.9666666666666667\n",
            "5 : 0.9666666666666667\n",
            "6 : 0.9666666666666667\n",
            "7 : 0.9666666666666667\n",
            "8 : 0.9666666666666667\n",
            "9 : 0.9666666666666667\n",
            "10 : 0.9666666666666667\n",
            "11 : 0.9666666666666667\n",
            "12 : 0.9666666666666667\n",
            "13 : 0.9666666666666667\n",
            "14 : 0.9666666666666667\n",
            "15 : 0.9666666666666667\n",
            "16 : 0.9666666666666667\n",
            "17 : 0.9666666666666667\n",
            "18 : 0.9666666666666667\n",
            "19 : 0.9666666666666667\n",
            "20 : 0.9666666666666667\n",
            "21 : 0.9666666666666667\n",
            "22 : 0.9666666666666667\n",
            "23 : 0.9666666666666667\n",
            "24 : 0.9666666666666667\n",
            "25 : 0.9666666666666667\n",
            "26 : 0.9666666666666667\n",
            "27 : 0.9666666666666667\n",
            "28 : 0.9666666666666667\n",
            "29 : 0.9666666666666667\n",
            "30 : 0.9666666666666667\n",
            "31 : 0.9666666666666667\n",
            "32 : 0.9666666666666667\n",
            "33 : 0.9666666666666667\n",
            "34 : 0.9666666666666667\n",
            "35 : 0.9666666666666667\n",
            "36 : 0.9666666666666667\n",
            "37 : 0.9666666666666667\n",
            "38 : 0.9666666666666667\n",
            "39 : 0.9666666666666667\n",
            "40 : 0.9666666666666667\n",
            "41 : 0.9666666666666667\n",
            "42 : 0.9666666666666667\n",
            "43 : 0.9666666666666667\n",
            "44 : 0.9666666666666667\n",
            "45 : 0.9666666666666667\n",
            "46 : 0.9666666666666667\n",
            "47 : 0.9666666666666667\n",
            "48 : 0.9666666666666667\n",
            "49 : 0.9666666666666667\n",
            "50 : 0.9666666666666667\n",
            "51 : 0.9666666666666667\n",
            "52 : 0.9666666666666667\n",
            "53 : 0.9666666666666667\n",
            "54 : 0.9666666666666667\n",
            "55 : 0.9666666666666667\n",
            "56 : 0.9666666666666667\n",
            "57 : 0.9666666666666667\n",
            "58 : 0.9666666666666667\n",
            "59 : 0.9666666666666667\n",
            "60 : 0.9666666666666667\n",
            "61 : 0.9666666666666667\n",
            "62 : 0.9666666666666667\n",
            "63 : 0.9666666666666667\n",
            "64 : 0.9666666666666667\n",
            "65 : 0.9666666666666667\n",
            "66 : 0.9666666666666667\n",
            "67 : 0.9666666666666667\n",
            "68 : 0.9666666666666667\n",
            "69 : 0.9666666666666667\n",
            "70 : 0.9666666666666667\n",
            "71 : 0.9666666666666667\n",
            "72 : 0.9666666666666667\n",
            "73 : 0.9666666666666667\n",
            "74 : 0.9666666666666667\n",
            "75 : 0.9666666666666667\n",
            "76 : 0.9666666666666667\n",
            "77 : 0.9666666666666667\n",
            "78 : 0.9666666666666667\n",
            "79 : 0.9666666666666667\n",
            "80 : 0.9666666666666667\n",
            "81 : 0.9666666666666667\n",
            "82 : 0.9666666666666667\n",
            "83 : 0.9666666666666667\n",
            "84 : 0.9666666666666667\n",
            "85 : 0.9666666666666667\n",
            "86 : 0.9666666666666667\n",
            "87 : 0.9666666666666667\n",
            "88 : 0.9666666666666667\n",
            "89 : 0.9666666666666667\n",
            "90 : 0.9666666666666667\n",
            "91 : 0.9666666666666667\n",
            "92 : 0.9666666666666667\n",
            "93 : 0.9666666666666667\n"
          ]
        },
        {
          "ename": "KeyboardInterrupt",
          "evalue": "",
          "output_type": "error",
          "traceback": [
            "\u001b[0;31m---------------------------------------------------------------------------\u001b[0m",
            "\u001b[0;31mKeyboardInterrupt\u001b[0m                         Traceback (most recent call last)",
            "\u001b[0;32m<ipython-input-275-4d2ee283e4ef>\u001b[0m in \u001b[0;36m<cell line: 4>\u001b[0;34m()\u001b[0m\n\u001b[1;32m     11\u001b[0m                         \u001b[0mclass_weight\u001b[0m\u001b[0;34m=\u001b[0m\u001b[0;32mNone\u001b[0m\u001b[0;34m,\u001b[0m  \u001b[0;31m# Weights associated with classes\u001b[0m\u001b[0;34m\u001b[0m\u001b[0;34m\u001b[0m\u001b[0m\n\u001b[1;32m     12\u001b[0m                         random_state=i)  # Seed for random number generation\n\u001b[0;32m---> 13\u001b[0;31m     \u001b[0mclf\u001b[0m\u001b[0;34m.\u001b[0m\u001b[0mfit\u001b[0m\u001b[0;34m(\u001b[0m\u001b[0mX_selected\u001b[0m\u001b[0;34m[\u001b[0m\u001b[0;34m:\u001b[0m\u001b[0;36m420\u001b[0m\u001b[0;34m,\u001b[0m\u001b[0;34m:\u001b[0m\u001b[0;34m]\u001b[0m\u001b[0;34m,\u001b[0m \u001b[0my_train_clf\u001b[0m \u001b[0;34m-\u001b[0m \u001b[0;36m1\u001b[0m\u001b[0;34m)\u001b[0m\u001b[0;34m\u001b[0m\u001b[0;34m\u001b[0m\u001b[0m\n\u001b[0m\u001b[1;32m     14\u001b[0m     \u001b[0my_pred_clf\u001b[0m \u001b[0;34m=\u001b[0m \u001b[0mclf\u001b[0m\u001b[0;34m.\u001b[0m\u001b[0mpredict\u001b[0m\u001b[0;34m(\u001b[0m\u001b[0mX_selected_blind\u001b[0m\u001b[0;34m[\u001b[0m\u001b[0;34m:\u001b[0m\u001b[0;36m420\u001b[0m\u001b[0;34m,\u001b[0m\u001b[0;34m:\u001b[0m\u001b[0;34m]\u001b[0m\u001b[0;34m)\u001b[0m \u001b[0;34m+\u001b[0m \u001b[0;36m1\u001b[0m\u001b[0;34m\u001b[0m\u001b[0;34m\u001b[0m\u001b[0m\n\u001b[1;32m     15\u001b[0m     \u001b[0mprint\u001b[0m\u001b[0;34m(\u001b[0m\u001b[0mi\u001b[0m\u001b[0;34m,\u001b[0m\u001b[0;34m\":\"\u001b[0m\u001b[0;34m,\u001b[0m\u001b[0maccuracy_score\u001b[0m\u001b[0;34m(\u001b[0m\u001b[0my_blind\u001b[0m\u001b[0;34m[\u001b[0m\u001b[0;34m:\u001b[0m\u001b[0;36m420\u001b[0m\u001b[0;34m]\u001b[0m\u001b[0;34m,\u001b[0m\u001b[0my_pred_clf\u001b[0m\u001b[0;34m)\u001b[0m\u001b[0;34m)\u001b[0m\u001b[0;34m\u001b[0m\u001b[0;34m\u001b[0m\u001b[0m\n",
            "\u001b[0;32m/usr/local/lib/python3.10/dist-packages/sklearn/linear_model/_logistic.py\u001b[0m in \u001b[0;36mfit\u001b[0;34m(self, X, y, sample_weight)\u001b[0m\n\u001b[1;32m   1289\u001b[0m             \u001b[0mn_threads\u001b[0m \u001b[0;34m=\u001b[0m \u001b[0;36m1\u001b[0m\u001b[0;34m\u001b[0m\u001b[0;34m\u001b[0m\u001b[0m\n\u001b[1;32m   1290\u001b[0m \u001b[0;34m\u001b[0m\u001b[0m\n\u001b[0;32m-> 1291\u001b[0;31m         fold_coefs_ = Parallel(n_jobs=self.n_jobs, verbose=self.verbose, prefer=prefer)(\n\u001b[0m\u001b[1;32m   1292\u001b[0m             path_func(\n\u001b[1;32m   1293\u001b[0m                 \u001b[0mX\u001b[0m\u001b[0;34m,\u001b[0m\u001b[0;34m\u001b[0m\u001b[0;34m\u001b[0m\u001b[0m\n",
            "\u001b[0;32m/usr/local/lib/python3.10/dist-packages/sklearn/utils/parallel.py\u001b[0m in \u001b[0;36m__call__\u001b[0;34m(self, iterable)\u001b[0m\n\u001b[1;32m     61\u001b[0m             \u001b[0;32mfor\u001b[0m \u001b[0mdelayed_func\u001b[0m\u001b[0;34m,\u001b[0m \u001b[0margs\u001b[0m\u001b[0;34m,\u001b[0m \u001b[0mkwargs\u001b[0m \u001b[0;32min\u001b[0m \u001b[0miterable\u001b[0m\u001b[0;34m\u001b[0m\u001b[0;34m\u001b[0m\u001b[0m\n\u001b[1;32m     62\u001b[0m         )\n\u001b[0;32m---> 63\u001b[0;31m         \u001b[0;32mreturn\u001b[0m \u001b[0msuper\u001b[0m\u001b[0;34m(\u001b[0m\u001b[0;34m)\u001b[0m\u001b[0;34m.\u001b[0m\u001b[0m__call__\u001b[0m\u001b[0;34m(\u001b[0m\u001b[0miterable_with_config\u001b[0m\u001b[0;34m)\u001b[0m\u001b[0;34m\u001b[0m\u001b[0;34m\u001b[0m\u001b[0m\n\u001b[0m\u001b[1;32m     64\u001b[0m \u001b[0;34m\u001b[0m\u001b[0m\n\u001b[1;32m     65\u001b[0m \u001b[0;34m\u001b[0m\u001b[0m\n",
            "\u001b[0;32m/usr/local/lib/python3.10/dist-packages/joblib/parallel.py\u001b[0m in \u001b[0;36m__call__\u001b[0;34m(self, iterable)\u001b[0m\n\u001b[1;32m   1916\u001b[0m             \u001b[0moutput\u001b[0m \u001b[0;34m=\u001b[0m \u001b[0mself\u001b[0m\u001b[0;34m.\u001b[0m\u001b[0m_get_sequential_output\u001b[0m\u001b[0;34m(\u001b[0m\u001b[0miterable\u001b[0m\u001b[0;34m)\u001b[0m\u001b[0;34m\u001b[0m\u001b[0;34m\u001b[0m\u001b[0m\n\u001b[1;32m   1917\u001b[0m             \u001b[0mnext\u001b[0m\u001b[0;34m(\u001b[0m\u001b[0moutput\u001b[0m\u001b[0;34m)\u001b[0m\u001b[0;34m\u001b[0m\u001b[0;34m\u001b[0m\u001b[0m\n\u001b[0;32m-> 1918\u001b[0;31m             \u001b[0;32mreturn\u001b[0m \u001b[0moutput\u001b[0m \u001b[0;32mif\u001b[0m \u001b[0mself\u001b[0m\u001b[0;34m.\u001b[0m\u001b[0mreturn_generator\u001b[0m \u001b[0;32melse\u001b[0m \u001b[0mlist\u001b[0m\u001b[0;34m(\u001b[0m\u001b[0moutput\u001b[0m\u001b[0;34m)\u001b[0m\u001b[0;34m\u001b[0m\u001b[0;34m\u001b[0m\u001b[0m\n\u001b[0m\u001b[1;32m   1919\u001b[0m \u001b[0;34m\u001b[0m\u001b[0m\n\u001b[1;32m   1920\u001b[0m         \u001b[0;31m# Let's create an ID that uniquely identifies the current call. If the\u001b[0m\u001b[0;34m\u001b[0m\u001b[0;34m\u001b[0m\u001b[0m\n",
            "\u001b[0;32m/usr/local/lib/python3.10/dist-packages/joblib/parallel.py\u001b[0m in \u001b[0;36m_get_sequential_output\u001b[0;34m(self, iterable)\u001b[0m\n\u001b[1;32m   1845\u001b[0m                 \u001b[0mself\u001b[0m\u001b[0;34m.\u001b[0m\u001b[0mn_dispatched_batches\u001b[0m \u001b[0;34m+=\u001b[0m \u001b[0;36m1\u001b[0m\u001b[0;34m\u001b[0m\u001b[0;34m\u001b[0m\u001b[0m\n\u001b[1;32m   1846\u001b[0m                 \u001b[0mself\u001b[0m\u001b[0;34m.\u001b[0m\u001b[0mn_dispatched_tasks\u001b[0m \u001b[0;34m+=\u001b[0m \u001b[0;36m1\u001b[0m\u001b[0;34m\u001b[0m\u001b[0;34m\u001b[0m\u001b[0m\n\u001b[0;32m-> 1847\u001b[0;31m                 \u001b[0mres\u001b[0m \u001b[0;34m=\u001b[0m \u001b[0mfunc\u001b[0m\u001b[0;34m(\u001b[0m\u001b[0;34m*\u001b[0m\u001b[0margs\u001b[0m\u001b[0;34m,\u001b[0m \u001b[0;34m**\u001b[0m\u001b[0mkwargs\u001b[0m\u001b[0;34m)\u001b[0m\u001b[0;34m\u001b[0m\u001b[0;34m\u001b[0m\u001b[0m\n\u001b[0m\u001b[1;32m   1848\u001b[0m                 \u001b[0mself\u001b[0m\u001b[0;34m.\u001b[0m\u001b[0mn_completed_tasks\u001b[0m \u001b[0;34m+=\u001b[0m \u001b[0;36m1\u001b[0m\u001b[0;34m\u001b[0m\u001b[0;34m\u001b[0m\u001b[0m\n\u001b[1;32m   1849\u001b[0m                 \u001b[0mself\u001b[0m\u001b[0;34m.\u001b[0m\u001b[0mprint_progress\u001b[0m\u001b[0;34m(\u001b[0m\u001b[0;34m)\u001b[0m\u001b[0;34m\u001b[0m\u001b[0;34m\u001b[0m\u001b[0m\n",
            "\u001b[0;32m/usr/local/lib/python3.10/dist-packages/sklearn/utils/parallel.py\u001b[0m in \u001b[0;36m__call__\u001b[0;34m(self, *args, **kwargs)\u001b[0m\n\u001b[1;32m    121\u001b[0m             \u001b[0mconfig\u001b[0m \u001b[0;34m=\u001b[0m \u001b[0;34m{\u001b[0m\u001b[0;34m}\u001b[0m\u001b[0;34m\u001b[0m\u001b[0;34m\u001b[0m\u001b[0m\n\u001b[1;32m    122\u001b[0m         \u001b[0;32mwith\u001b[0m \u001b[0mconfig_context\u001b[0m\u001b[0;34m(\u001b[0m\u001b[0;34m**\u001b[0m\u001b[0mconfig\u001b[0m\u001b[0;34m)\u001b[0m\u001b[0;34m:\u001b[0m\u001b[0;34m\u001b[0m\u001b[0;34m\u001b[0m\u001b[0m\n\u001b[0;32m--> 123\u001b[0;31m             \u001b[0;32mreturn\u001b[0m \u001b[0mself\u001b[0m\u001b[0;34m.\u001b[0m\u001b[0mfunction\u001b[0m\u001b[0;34m(\u001b[0m\u001b[0;34m*\u001b[0m\u001b[0margs\u001b[0m\u001b[0;34m,\u001b[0m \u001b[0;34m**\u001b[0m\u001b[0mkwargs\u001b[0m\u001b[0;34m)\u001b[0m\u001b[0;34m\u001b[0m\u001b[0;34m\u001b[0m\u001b[0m\n\u001b[0m",
            "\u001b[0;32m/usr/local/lib/python3.10/dist-packages/sklearn/linear_model/_logistic.py\u001b[0m in \u001b[0;36m_logistic_regression_path\u001b[0;34m(X, y, pos_class, Cs, fit_intercept, max_iter, tol, verbose, solver, coef, class_weight, dual, penalty, intercept_scaling, multi_class, random_state, check_input, max_squared_sum, sample_weight, l1_ratio, n_threads)\u001b[0m\n\u001b[1;32m    466\u001b[0m             \u001b[0ml2_reg_strength\u001b[0m \u001b[0;34m=\u001b[0m \u001b[0;36m1.0\u001b[0m \u001b[0;34m/\u001b[0m \u001b[0mC\u001b[0m\u001b[0;34m\u001b[0m\u001b[0;34m\u001b[0m\u001b[0m\n\u001b[1;32m    467\u001b[0m             \u001b[0margs\u001b[0m \u001b[0;34m=\u001b[0m \u001b[0;34m(\u001b[0m\u001b[0mX\u001b[0m\u001b[0;34m,\u001b[0m \u001b[0mtarget\u001b[0m\u001b[0;34m,\u001b[0m \u001b[0msample_weight\u001b[0m\u001b[0;34m,\u001b[0m \u001b[0ml2_reg_strength\u001b[0m\u001b[0;34m,\u001b[0m \u001b[0mn_threads\u001b[0m\u001b[0;34m)\u001b[0m\u001b[0;34m\u001b[0m\u001b[0;34m\u001b[0m\u001b[0m\n\u001b[0;32m--> 468\u001b[0;31m             w0, n_iter_i = _newton_cg(\n\u001b[0m\u001b[1;32m    469\u001b[0m                 \u001b[0mhess\u001b[0m\u001b[0;34m,\u001b[0m \u001b[0mfunc\u001b[0m\u001b[0;34m,\u001b[0m \u001b[0mgrad\u001b[0m\u001b[0;34m,\u001b[0m \u001b[0mw0\u001b[0m\u001b[0;34m,\u001b[0m \u001b[0margs\u001b[0m\u001b[0;34m=\u001b[0m\u001b[0margs\u001b[0m\u001b[0;34m,\u001b[0m \u001b[0mmaxiter\u001b[0m\u001b[0;34m=\u001b[0m\u001b[0mmax_iter\u001b[0m\u001b[0;34m,\u001b[0m \u001b[0mtol\u001b[0m\u001b[0;34m=\u001b[0m\u001b[0mtol\u001b[0m\u001b[0;34m\u001b[0m\u001b[0;34m\u001b[0m\u001b[0m\n\u001b[1;32m    470\u001b[0m             )\n",
            "\u001b[0;32m/usr/local/lib/python3.10/dist-packages/sklearn/utils/optimize.py\u001b[0m in \u001b[0;36m_newton_cg\u001b[0;34m(grad_hess, func, grad, x0, args, tol, maxiter, maxinner, line_search, warn)\u001b[0m\n\u001b[1;32m    191\u001b[0m         \u001b[0;31m# Inner loop: solve the Newton update by conjugate gradient, to\u001b[0m\u001b[0;34m\u001b[0m\u001b[0;34m\u001b[0m\u001b[0m\n\u001b[1;32m    192\u001b[0m         \u001b[0;31m# avoid inverting the Hessian\u001b[0m\u001b[0;34m\u001b[0m\u001b[0;34m\u001b[0m\u001b[0m\n\u001b[0;32m--> 193\u001b[0;31m         \u001b[0mxsupi\u001b[0m \u001b[0;34m=\u001b[0m \u001b[0m_cg\u001b[0m\u001b[0;34m(\u001b[0m\u001b[0mfhess_p\u001b[0m\u001b[0;34m,\u001b[0m \u001b[0mfgrad\u001b[0m\u001b[0;34m,\u001b[0m \u001b[0mmaxiter\u001b[0m\u001b[0;34m=\u001b[0m\u001b[0mmaxinner\u001b[0m\u001b[0;34m,\u001b[0m \u001b[0mtol\u001b[0m\u001b[0;34m=\u001b[0m\u001b[0mtermcond\u001b[0m\u001b[0;34m)\u001b[0m\u001b[0;34m\u001b[0m\u001b[0;34m\u001b[0m\u001b[0m\n\u001b[0m\u001b[1;32m    194\u001b[0m \u001b[0;34m\u001b[0m\u001b[0m\n\u001b[1;32m    195\u001b[0m         \u001b[0malphak\u001b[0m \u001b[0;34m=\u001b[0m \u001b[0;36m1.0\u001b[0m\u001b[0;34m\u001b[0m\u001b[0;34m\u001b[0m\u001b[0m\n",
            "\u001b[0;32m/usr/local/lib/python3.10/dist-packages/sklearn/utils/optimize.py\u001b[0m in \u001b[0;36m_cg\u001b[0;34m(fhess_p, fgrad, maxiter, tol)\u001b[0m\n\u001b[1;32m     86\u001b[0m             \u001b[0;32mbreak\u001b[0m\u001b[0;34m\u001b[0m\u001b[0;34m\u001b[0m\u001b[0m\n\u001b[1;32m     87\u001b[0m \u001b[0;34m\u001b[0m\u001b[0m\n\u001b[0;32m---> 88\u001b[0;31m         \u001b[0mAp\u001b[0m \u001b[0;34m=\u001b[0m \u001b[0mfhess_p\u001b[0m\u001b[0;34m(\u001b[0m\u001b[0mpsupi\u001b[0m\u001b[0;34m)\u001b[0m\u001b[0;34m\u001b[0m\u001b[0;34m\u001b[0m\u001b[0m\n\u001b[0m\u001b[1;32m     89\u001b[0m         \u001b[0;31m# check curvature\u001b[0m\u001b[0;34m\u001b[0m\u001b[0;34m\u001b[0m\u001b[0m\n\u001b[1;32m     90\u001b[0m         \u001b[0mcurv\u001b[0m \u001b[0;34m=\u001b[0m \u001b[0mnp\u001b[0m\u001b[0;34m.\u001b[0m\u001b[0mdot\u001b[0m\u001b[0;34m(\u001b[0m\u001b[0mpsupi\u001b[0m\u001b[0;34m,\u001b[0m \u001b[0mAp\u001b[0m\u001b[0;34m)\u001b[0m\u001b[0;34m\u001b[0m\u001b[0;34m\u001b[0m\u001b[0m\n",
            "\u001b[0;32m/usr/local/lib/python3.10/dist-packages/sklearn/linear_model/_linear_loss.py\u001b[0m in \u001b[0;36mhessp\u001b[0;34m(s)\u001b[0m\n\u001b[1;32m    637\u001b[0m                     \u001b[0ms_intercept\u001b[0m \u001b[0;34m=\u001b[0m \u001b[0;36m0\u001b[0m\u001b[0;34m\u001b[0m\u001b[0;34m\u001b[0m\u001b[0m\n\u001b[1;32m    638\u001b[0m                 \u001b[0mtmp\u001b[0m \u001b[0;34m=\u001b[0m \u001b[0mX\u001b[0m \u001b[0;34m@\u001b[0m \u001b[0ms\u001b[0m\u001b[0;34m.\u001b[0m\u001b[0mT\u001b[0m \u001b[0;34m+\u001b[0m \u001b[0ms_intercept\u001b[0m  \u001b[0;31m# X_{im} * s_k_m\u001b[0m\u001b[0;34m\u001b[0m\u001b[0;34m\u001b[0m\u001b[0m\n\u001b[0;32m--> 639\u001b[0;31m                 \u001b[0mtmp\u001b[0m \u001b[0;34m+=\u001b[0m \u001b[0;34m(\u001b[0m\u001b[0;34m-\u001b[0m\u001b[0mproba\u001b[0m \u001b[0;34m*\u001b[0m \u001b[0mtmp\u001b[0m\u001b[0;34m)\u001b[0m\u001b[0;34m.\u001b[0m\u001b[0msum\u001b[0m\u001b[0;34m(\u001b[0m\u001b[0maxis\u001b[0m\u001b[0;34m=\u001b[0m\u001b[0;36m1\u001b[0m\u001b[0;34m)\u001b[0m\u001b[0;34m[\u001b[0m\u001b[0;34m:\u001b[0m\u001b[0;34m,\u001b[0m \u001b[0mnp\u001b[0m\u001b[0;34m.\u001b[0m\u001b[0mnewaxis\u001b[0m\u001b[0;34m]\u001b[0m  \u001b[0;31m# - sum_l ..\u001b[0m\u001b[0;34m\u001b[0m\u001b[0;34m\u001b[0m\u001b[0m\n\u001b[0m\u001b[1;32m    640\u001b[0m                 \u001b[0mtmp\u001b[0m \u001b[0;34m*=\u001b[0m \u001b[0mproba\u001b[0m  \u001b[0;31m# * p_i_k\u001b[0m\u001b[0;34m\u001b[0m\u001b[0;34m\u001b[0m\u001b[0m\n\u001b[1;32m    641\u001b[0m                 \u001b[0;32mif\u001b[0m \u001b[0msample_weight\u001b[0m \u001b[0;32mis\u001b[0m \u001b[0;32mnot\u001b[0m \u001b[0;32mNone\u001b[0m\u001b[0;34m:\u001b[0m\u001b[0;34m\u001b[0m\u001b[0;34m\u001b[0m\u001b[0m\n",
            "\u001b[0;32m/usr/local/lib/python3.10/dist-packages/numpy/core/_methods.py\u001b[0m in \u001b[0;36m_sum\u001b[0;34m(a, axis, dtype, out, keepdims, initial, where)\u001b[0m\n\u001b[1;32m     47\u001b[0m def _sum(a, axis=None, dtype=None, out=None, keepdims=False,\n\u001b[1;32m     48\u001b[0m          initial=_NoValue, where=True):\n\u001b[0;32m---> 49\u001b[0;31m     \u001b[0;32mreturn\u001b[0m \u001b[0mumr_sum\u001b[0m\u001b[0;34m(\u001b[0m\u001b[0ma\u001b[0m\u001b[0;34m,\u001b[0m \u001b[0maxis\u001b[0m\u001b[0;34m,\u001b[0m \u001b[0mdtype\u001b[0m\u001b[0;34m,\u001b[0m \u001b[0mout\u001b[0m\u001b[0;34m,\u001b[0m \u001b[0mkeepdims\u001b[0m\u001b[0;34m,\u001b[0m \u001b[0minitial\u001b[0m\u001b[0;34m,\u001b[0m \u001b[0mwhere\u001b[0m\u001b[0;34m)\u001b[0m\u001b[0;34m\u001b[0m\u001b[0;34m\u001b[0m\u001b[0m\n\u001b[0m\u001b[1;32m     50\u001b[0m \u001b[0;34m\u001b[0m\u001b[0m\n\u001b[1;32m     51\u001b[0m def _prod(a, axis=None, dtype=None, out=None, keepdims=False,\n",
            "\u001b[0;31mKeyboardInterrupt\u001b[0m: "
          ]
        }
      ],
      "source": [
        "import xgboost as xgb\n",
        "from sklearn.naive_bayes import GaussianNB\n",
        "from sklearn.linear_model import LogisticRegression\n",
        "for i in range(1,100):\n",
        "    r = X_blind.shape[0]\n",
        "    clf = LogisticRegression(penalty='l2',  # Regularization type ('l1', 'l2', 'elasticnet')\n",
        "                        C=1.0,  # Inverse of regularization strength\n",
        "                        solver='newton-cg',  # Optimization algorithm ('liblinear', 'newton-cg', 'lbfgs', 'sag', 'saga')\n",
        "                        max_iter=50,  # Maximum number of iterations\n",
        "                        multi_class='auto',  # Strategy for multi-class classification ('auto', 'ovr', 'multinomial')\n",
        "                        class_weight=None,  # Weights associated with classes\n",
        "                        random_state=i)  # Seed for random number generation\n",
        "    clf.fit(X_selected[:420,:], y_train_clf - 1)\n",
        "    y_pred_clf = clf.predict(X_selected_blind[:420,:]) + 1\n",
        "    print(i,\":\",accuracy_score(y_blind[:420],y_pred_clf))\n",
        "\n",
        "\n",
        "        # if y_pred == 0:\n",
        "        #     cl_pred = clf.predict(feat[i,:])\n",
        "        #     y_pred[i] = cl_pred+1  # Assign the result back to y_pred\n",
        "\n",
        "    # performance_metrics(y_blind[:420],y_pred_clf)"
      ]
    },
    {
      "cell_type": "markdown",
      "metadata": {
        "id": "XIX_BifE8zsw"
      },
      "source": [
        "## SVM - Kernel"
      ]
    },
    {
      "cell_type": "code",
      "execution_count": null,
      "metadata": {
        "colab": {
          "base_uri": "https://localhost:8080/",
          "height": 74
        },
        "id": "u8tOvE0Y82s7",
        "outputId": "c5eb4c54-85b8-41bf-e7b8-9df243bf10e0"
      },
      "outputs": [
        {
          "data": {
            "text/html": [
              "<style>#sk-container-id-2 {color: black;background-color: white;}#sk-container-id-2 pre{padding: 0;}#sk-container-id-2 div.sk-toggleable {background-color: white;}#sk-container-id-2 label.sk-toggleable__label {cursor: pointer;display: block;width: 100%;margin-bottom: 0;padding: 0.3em;box-sizing: border-box;text-align: center;}#sk-container-id-2 label.sk-toggleable__label-arrow:before {content: \"▸\";float: left;margin-right: 0.25em;color: #696969;}#sk-container-id-2 label.sk-toggleable__label-arrow:hover:before {color: black;}#sk-container-id-2 div.sk-estimator:hover label.sk-toggleable__label-arrow:before {color: black;}#sk-container-id-2 div.sk-toggleable__content {max-height: 0;max-width: 0;overflow: hidden;text-align: left;background-color: #f0f8ff;}#sk-container-id-2 div.sk-toggleable__content pre {margin: 0.2em;color: black;border-radius: 0.25em;background-color: #f0f8ff;}#sk-container-id-2 input.sk-toggleable__control:checked~div.sk-toggleable__content {max-height: 200px;max-width: 100%;overflow: auto;}#sk-container-id-2 input.sk-toggleable__control:checked~label.sk-toggleable__label-arrow:before {content: \"▾\";}#sk-container-id-2 div.sk-estimator input.sk-toggleable__control:checked~label.sk-toggleable__label {background-color: #d4ebff;}#sk-container-id-2 div.sk-label input.sk-toggleable__control:checked~label.sk-toggleable__label {background-color: #d4ebff;}#sk-container-id-2 input.sk-hidden--visually {border: 0;clip: rect(1px 1px 1px 1px);clip: rect(1px, 1px, 1px, 1px);height: 1px;margin: -1px;overflow: hidden;padding: 0;position: absolute;width: 1px;}#sk-container-id-2 div.sk-estimator {font-family: monospace;background-color: #f0f8ff;border: 1px dotted black;border-radius: 0.25em;box-sizing: border-box;margin-bottom: 0.5em;}#sk-container-id-2 div.sk-estimator:hover {background-color: #d4ebff;}#sk-container-id-2 div.sk-parallel-item::after {content: \"\";width: 100%;border-bottom: 1px solid gray;flex-grow: 1;}#sk-container-id-2 div.sk-label:hover label.sk-toggleable__label {background-color: #d4ebff;}#sk-container-id-2 div.sk-serial::before {content: \"\";position: absolute;border-left: 1px solid gray;box-sizing: border-box;top: 0;bottom: 0;left: 50%;z-index: 0;}#sk-container-id-2 div.sk-serial {display: flex;flex-direction: column;align-items: center;background-color: white;padding-right: 0.2em;padding-left: 0.2em;position: relative;}#sk-container-id-2 div.sk-item {position: relative;z-index: 1;}#sk-container-id-2 div.sk-parallel {display: flex;align-items: stretch;justify-content: center;background-color: white;position: relative;}#sk-container-id-2 div.sk-item::before, #sk-container-id-2 div.sk-parallel-item::before {content: \"\";position: absolute;border-left: 1px solid gray;box-sizing: border-box;top: 0;bottom: 0;left: 50%;z-index: -1;}#sk-container-id-2 div.sk-parallel-item {display: flex;flex-direction: column;z-index: 1;position: relative;background-color: white;}#sk-container-id-2 div.sk-parallel-item:first-child::after {align-self: flex-end;width: 50%;}#sk-container-id-2 div.sk-parallel-item:last-child::after {align-self: flex-start;width: 50%;}#sk-container-id-2 div.sk-parallel-item:only-child::after {width: 0;}#sk-container-id-2 div.sk-dashed-wrapped {border: 1px dashed gray;margin: 0 0.4em 0.5em 0.4em;box-sizing: border-box;padding-bottom: 0.4em;background-color: white;}#sk-container-id-2 div.sk-label label {font-family: monospace;font-weight: bold;display: inline-block;line-height: 1.2em;}#sk-container-id-2 div.sk-label-container {text-align: center;}#sk-container-id-2 div.sk-container {/* jupyter's `normalize.less` sets `[hidden] { display: none; }` but bootstrap.min.css set `[hidden] { display: none !important; }` so we also need the `!important` here to be able to override the default hidden behavior on the sphinx rendered scikit-learn.org. See: https://github.com/scikit-learn/scikit-learn/issues/21755 */display: inline-block !important;position: relative;}#sk-container-id-2 div.sk-text-repr-fallback {display: none;}</style><div id=\"sk-container-id-2\" class=\"sk-top-container\"><div class=\"sk-text-repr-fallback\"><pre>SVC(kernel=&#x27;poly&#x27;, random_state=0)</pre><b>In a Jupyter environment, please rerun this cell to show the HTML representation or trust the notebook. <br />On GitHub, the HTML representation is unable to render, please try loading this page with nbviewer.org.</b></div><div class=\"sk-container\" hidden><div class=\"sk-item\"><div class=\"sk-estimator sk-toggleable\"><input class=\"sk-toggleable__control sk-hidden--visually\" id=\"sk-estimator-id-2\" type=\"checkbox\" checked><label for=\"sk-estimator-id-2\" class=\"sk-toggleable__label sk-toggleable__label-arrow\">SVC</label><div class=\"sk-toggleable__content\"><pre>SVC(kernel=&#x27;poly&#x27;, random_state=0)</pre></div></div></div></div></div>"
            ],
            "text/plain": [
              "SVC(kernel='poly', random_state=0)"
            ]
          },
          "execution_count": 136,
          "metadata": {},
          "output_type": "execute_result"
        }
      ],
      "source": [
        "# from sklearn.svm import SVC\n",
        "# clf = SVC(kernel = 'poly', random_state = 0)\n",
        "# clf.fit(X_train, y_train - 1)"
      ]
    },
    {
      "cell_type": "markdown",
      "metadata": {
        "id": "VYPiiJCLUmIG"
      },
      "source": [
        "## Random Forest"
      ]
    },
    {
      "cell_type": "code",
      "execution_count": null,
      "metadata": {
        "id": "LbcyrohuV_KP"
      },
      "outputs": [],
      "source": [
        "# from sklearn.ensemble import RandomForestClassifier\n",
        "# clf = RandomForestClassifier(n_estimators = 350, max_depth = 15, criterion = 'entropy', random_state = 0)\n",
        "# clf.fit(X_train, y_train - 1)"
      ]
    },
    {
      "cell_type": "markdown",
      "metadata": {
        "id": "BDPDqaoUYrkL"
      },
      "source": [
        "## ANFIS"
      ]
    },
    {
      "cell_type": "code",
      "execution_count": null,
      "metadata": {
        "id": "UTKKKoPyYvEG"
      },
      "outputs": [],
      "source": [
        "# import random\n",
        "# from copy import deepcopy\n",
        "# from sklearn.linear_model import LinearRegression\n",
        "# from sklearn.ensemble import RandomForestClassifier\n",
        "# from sklearn.svm import SVC\n",
        "# from sklearn.linear_model import LogisticRegression\n",
        "# from xgboost import XGBClassifier\n",
        "\n",
        "# class EVOLUTIONARY_ANFIS:\n",
        "#     def __init__(self,functions,generations,offsprings,mutationRate,learningRate,chance,ruleComb):\n",
        "#         self.functions = functions\n",
        "#         self.generations = generations\n",
        "#         self.offsprings = offsprings\n",
        "#         self.mutationRate = mutationRate\n",
        "#         self.learningRate = learningRate\n",
        "#         self.chance = chance #50 percent chance of changing std.\n",
        "#         self.ruleComb = ruleComb\n",
        "#         self._noParam = 2\n",
        "\n",
        "#     ## Defining the gaussian membership function\n",
        "\n",
        "#     def gaussian(self,x, mu, sig):\n",
        "#         return np.exp((-np.power(x - mu, 2.) / (2 * np.power(sig, 2.))))\n",
        "\n",
        "#     ## Initialisation of the initial layers and membership functions\n",
        "\n",
        "#     def initialize(self,X):\n",
        "#         functions = self.functions\n",
        "#         noParam = self._noParam\n",
        "#         ruleComb = self.ruleComb\n",
        "#         inputs = np.zeros((X.shape[1],X.shape[0],functions))\n",
        "#         Ant = np.zeros((noParam,X.shape[1],X.shape[0],functions))\n",
        "#         L1 = np.zeros((X.shape[1],X.shape[0],functions))\n",
        "#         if ruleComb == \"simple\":\n",
        "#             L2 = np.zeros((X.shape[0],functions))\n",
        "#         elif ruleComb == \"complete\":\n",
        "#             rules = X.shape[1]**functions\n",
        "#             L2 = np.zeros((X.shape[0],rules))\n",
        "#         return inputs, Ant, L1, L2\n",
        "\n",
        "#     ## Mutate or change the std and the mean of the gaussian functions in order to achive the final subspaces\n",
        "\n",
        "#     def mutation(self,arr):\n",
        "#         mutationRate = self.mutationRate\n",
        "#         learningRate = self.learningRate\n",
        "#         chance = self.chance\n",
        "#         temp = np.asarray(arr)   # Cast to numpy array\n",
        "#         mean = temp[0]\n",
        "#         meanShape = mean.shape\n",
        "#         std = temp[1]\n",
        "#         stdShape = std.shape\n",
        "#         mean = mean.flatten()    # Flatten to 1D\n",
        "#         std = std.flatten()    # Flatten to 1D\n",
        "#         num = int(mutationRate*mean.size) # number of elements to get\n",
        "#         if random.uniform(0,1)>chance:\n",
        "#             inds = np.random.choice(mean.size, size=num)   # Get random indices\n",
        "#             mean[inds] -= np.random.uniform(0,1,size=num)*learningRate        # Fill with something\n",
        "#             mean = mean.reshape(meanShape)                     # Restore original shape\n",
        "#             std = std.reshape(stdShape)\n",
        "#         else:\n",
        "#             inds = np.random.choice(std.size, size=num)   # Get random indices\n",
        "#             std[inds] -= np.random.uniform(0,1,size=num)*learningRate        # Fill with something\n",
        "#             std = std.reshape(stdShape)                     # Restore original shape\n",
        "#             std = np.where(std==0, 0.0001, std) #standard deviation cannot be zero\n",
        "#             #temp = np.where(temp<=0, 0.0001, temp)\n",
        "#             #temp = np.where(temp>=1, 0.9999, temp)\n",
        "\n",
        "#             mean = mean.reshape(meanShape)\n",
        "#         temp[0] = mean\n",
        "#         temp[1] = std\n",
        "#         return temp\n",
        "\n",
        "#     ##\n",
        "#     def init_population(self,X):\n",
        "#         noParam = self._noParam\n",
        "#         functions = self.functions\n",
        "#         offsprings = self.offsprings\n",
        "#         bestParam = np.random.rand(noParam,X.shape[1],functions)\n",
        "#         parentParam = deepcopy(bestParam)\n",
        "#         popParam = []\n",
        "#         for i in range(offsprings):\n",
        "#             popParam.append(self.mutation(parentParam))\n",
        "#         return popParam\n",
        "\n",
        "#     # def init_model(self,model = XGBClassifier(n_estimators = 350, max_depth = 10, colsample_bytree = 0.65, eval_metric = 'merror', objective='multi:softprob')):\n",
        "#     def init_model(self, model = RandomForestClassifier(n_estimators = 350, criterion = 'entropy', random_state = 42)):\n",
        "#         models = []\n",
        "#         for i in range(self.functions):\n",
        "#                 models.append(model)\n",
        "#         return models\n",
        "\n",
        "#     def forwardPass(self,param,X,inputs,Ant,L1,L2,functions):\n",
        "#         noParam = self._noParam\n",
        "\n",
        "#         for i in range(X.shape[1]):   #input variables\n",
        "#             inputs[i] = np.repeat(X[:,i].reshape(-1,1),functions,axis=1)\n",
        "\n",
        "#         for ii in range(noParam):   #Anticedent parameters\n",
        "#             for i in range(X.shape[1]):\n",
        "#                 Ant[ii] = np.repeat(param[ii][i,:].reshape(1,-1),X.shape[0],axis=0)\n",
        "\n",
        "#         for i in range(X.shape[1]):  #Membership values using Gaussian membership function\n",
        "#             L1[i,:,:] = self.gaussian(x=inputs[i],mu=Ant[0][i],sig=Ant[1][i])\n",
        "\n",
        "#         for j in range(functions):      #rule\n",
        "#             for i in range(1,X.shape[1]):\n",
        "#                 L2[:,j] = (L1[i-1,:,j]*L1[i,:,j])#+(L1[i-1,:,j]+L1[i,:,j])\n",
        "\n",
        "#         summ = np.sum(L2,axis=1).reshape(-1,1) #Weights normalization\n",
        "#         summation = np.repeat(summ,functions,axis=1)\n",
        "#         L3 = L2/summation\n",
        "#         L3 = np.round(L3,5)\n",
        "#         #Errorcheck = np.sum(L3,axis=1)\n",
        "\n",
        "#         consequent = X\n",
        "#         L4 = np.zeros((functions,X.shape[0],X.shape[1]))\n",
        "#         for i in range (functions):\n",
        "#             L4[i] = consequent\n",
        "#             L4[i] = L4[i]*L3[:,i].reshape(-1,1)\n",
        "#         return L1,L2,L3,L4\n",
        "\n",
        "#     def linear_fit(self,L3,L4,X,y,functions,models):\n",
        "#         pred_train = np.zeros((X.shape[0],functions))\n",
        "#         for i in range(functions):\n",
        "#             models[i].fit(L4[i],y)\n",
        "#             predTemp = models[i].predict(L4[i]).reshape(-1,1)\n",
        "#             pred_train[:,i] = predTemp[:,0]\n",
        "#         pred_train = pred_train*L3 #consequent function output * normalized weights\n",
        "#         pred_train = np.sum(pred_train,axis=1)\n",
        "#         return pred_train, models\n",
        "\n",
        "#     def linear_predict(self,L3,L4,X,functions,Trained_models):\n",
        "#         pred_test = np.zeros((X.shape[0],functions))\n",
        "#         for i in range(functions):\n",
        "#             predTemp = Trained_models[i].predict(L4[i]).reshape(-1,1)\n",
        "#             pred_test[:,i] = predTemp[:,0]\n",
        "#         pred_test = pred_test*L3 #consequent function output * normalized weights\n",
        "#         pred_test = np.sum(pred_test,axis=1)\n",
        "#         return pred_test\n",
        "\n",
        "\n",
        "#     @staticmethod\n",
        "#     def rmse(true, pred):\n",
        "#         # pred = np.round(pred)\n",
        "#         # length = len(true)\n",
        "#         # loss_arr = np.zeros(length)\n",
        "#         # for i in range(length):\n",
        "#         #     true_lab = int(true[i])\n",
        "#         #     pred_lab = int(pred[i])\n",
        "#         #     loss_arr[i] = centroid_distances_combined[true_lab,pred_lab]\n",
        "#         loss = np.sqrt(np.mean((true - pred)**2))\n",
        "#         # loss = (np.mean((true - pred)**2))\n",
        "#         # loss = np.sqrt(np.mean(loss_arr))\n",
        "#         return loss\n",
        "\n",
        "#     def fit(self,X_train,y_train,X_test=None,y_test=None,optimize_test_data=False):\n",
        "#         generations = self.generations\n",
        "#         offsprings = self.offsprings\n",
        "#         functions = self.functions\n",
        "#         popParam = self.init_population(X_train)\n",
        "#         inputsTrain,AntTrain,L1Train,L2Train = self.initialize(X_train)\n",
        "#         if optimize_test_data:\n",
        "#             inputsTest,AntTest,L1Test,L2Test = self.initialize(X_test)\n",
        "#         models = self.init_model()\n",
        "#         bestParam = popParam[0]\n",
        "#         for gen in range(generations):\n",
        "#             parentParam = deepcopy(bestParam)\n",
        "#             popParam[0] = deepcopy(bestParam)\n",
        "#             for ii in range(1,offsprings):\n",
        "#                 mut = self.mutation(parentParam)\n",
        "#                 popParam[ii] = deepcopy(mut)\n",
        "\n",
        "#             PopulationError = []\n",
        "#             bestModelLst = []\n",
        "#             for i in range(len(popParam)):\n",
        "#                 L1,L2,L3,L4 = self.forwardPass(popParam[i],X_train,inputsTrain,AntTrain,L1Train,L2Train,functions)\n",
        "#                 pred_train, Trained_models = self.linear_fit(L3,L4,X_train,y_train,functions,models)\n",
        "#                 mse_train = self.rmse(y_train,pred_train)\n",
        "\n",
        "#                 if optimize_test_data:\n",
        "#                     L1,L2,L3,L4 = self.forwardPass(popParam[i],X_test,inputsTest,AntTest,L1Test,L2Test,functions)\n",
        "#                     pred_test = self.linear_predict(L3,L4,X_test,functions,Trained_models)\n",
        "#                     mse_test = self.rmse(y_test,pred_test)\n",
        "\n",
        "#                     PopulationError.append((mse_train+mse_test)/2)\n",
        "#                     bestModelLst.append(Trained_models)\n",
        "#                 else:\n",
        "#                     PopulationError.append(mse_train)\n",
        "#                     bestModelLst.append(Trained_models)\n",
        "\n",
        "#             bestParamIndex = np.argmin(PopulationError)\n",
        "#             bestParam = deepcopy(popParam[bestParamIndex])\n",
        "#             bestModel = bestModelLst[bestParamIndex]\n",
        "#             print(gen,\"Rmse is: \",round(PopulationError[bestParamIndex],5))\n",
        "#         return bestParam, bestModel\n",
        "\n",
        "#     def predict(self,X,bestParam,bestModel):\n",
        "#         functions = self.functions\n",
        "#         inputs,Ant,L1,L2 = self.initialize(X)\n",
        "#         L1,L2,L3,L4 = self.forwardPass(bestParam,X,inputs,Ant,L1,L2,functions)\n",
        "#         pred = self.linear_predict(L3,L4,X,functions,bestModel)\n",
        "#         return pred"
      ]
    },
    {
      "cell_type": "code",
      "execution_count": null,
      "metadata": {
        "colab": {
          "base_uri": "https://localhost:8080/"
        },
        "id": "0bfvC5jQbPsg",
        "outputId": "bd4de4b6-9c5f-4c99-d575-44a84831fdac"
      },
      "outputs": [
        {
          "name": "stdout",
          "output_type": "stream",
          "text": [
            "0 Rmse is:  0.0\n",
            "1 Rmse is:  0.0\n",
            "2 Rmse is:  0.0\n",
            "3 Rmse is:  0.0\n",
            "4 Rmse is:  0.0\n"
          ]
        }
      ],
      "source": [
        "# E_Anfis = EVOLUTIONARY_ANFIS(functions = 1,generations = 5,offsprings = 10, mutationRate = 0.2,learningRate = 0.1,chance = 0.7,ruleComb = \"simple\")\n",
        "# bestParam, bestModel = E_Anfis.fit(X_train,y_train - 1,optimize_test_data = False)"
      ]
    },
    {
      "cell_type": "markdown",
      "metadata": {
        "id": "MldIGRdYuHUM"
      },
      "source": [
        "# Authentication"
      ]
    },
    {
      "cell_type": "code",
      "execution_count": null,
      "metadata": {
        "id": "ZXwZXvIWyqpj"
      },
      "outputs": [],
      "source": [
        "from sklearn.metrics import confusion_matrix, accuracy_score, precision_score, recall_score, f1_score\n",
        "\n",
        "def performance_metrics(y_true, y_pred):\n",
        "\n",
        "    # Accuracy\n",
        "    accuracy = accuracy_score(y_true, y_pred)\n",
        "    print(\"Accuracy:\", round(accuracy*100, 3))\n",
        "\n",
        "    # Precision (Positive Predictive Value)\n",
        "    precision = precision_score(y_true, y_pred, average='weighted')\n",
        "    print(\"Precision (Positive Predictive Value):\", round(precision*100, 3))\n",
        "\n",
        "    # Recall (True Positive Rate or Sensitivity)\n",
        "    recall = recall_score(y_true, y_pred, average='weighted')\n",
        "    print(\"Recall (True Positive Rate):\", round(recall*100, 3))\n",
        "\n",
        "    # F1 Score (Harmonic Mean of Precision and Recall)\n",
        "    f1 = f1_score(y_true, y_pred, average='weighted')\n",
        "    print(\"F1 Score:\", round(f1*100, 3))\n",
        "\n",
        "    cm = confusion_matrix(y_true, y_pred)\n",
        "    print(cm)"
      ]
    },
    {
      "cell_type": "code",
      "execution_count": null,
      "metadata": {
        "id": "CVLmFhCHuIXc"
      },
      "outputs": [],
      "source": [
        "# X_train = np.copy(X_selected)\n",
        "X_train = np.copy(X)\n",
        "y_train = np.where(y == 0, 1, 0)"
      ]
    },
    {
      "cell_type": "code",
      "execution_count": null,
      "metadata": {
        "colab": {
          "base_uri": "https://localhost:8080/"
        },
        "id": "TBvBV6Ko5Pyd",
        "outputId": "aaad5924-6b07-47cc-fea4-f127cc0ed3ee"
      },
      "outputs": [
        {
          "data": {
            "text/plain": [
              "array([0, 0, 0, 0, 0, 0, 0, 0, 0, 0, 0, 0, 0, 0, 0, 0, 0, 0, 0, 0, 0, 0,\n",
              "       0, 0, 0, 0, 0, 0, 0, 0, 0, 0, 0, 0, 0, 0, 0, 0, 0, 0, 0, 0, 0, 0,\n",
              "       0, 0, 0, 0, 0, 0, 0, 0, 0, 0, 0, 0, 0, 0, 0, 0, 0, 0, 0, 0, 0, 0,\n",
              "       0, 0, 0, 0, 0, 0, 0, 0, 0, 0, 0, 0, 0, 0, 0, 0, 0, 0, 0, 0, 0, 0,\n",
              "       0, 0, 0, 0, 0, 0, 0, 0, 0, 0, 0, 0, 0, 0, 0, 0, 0, 0, 0, 0, 0, 0,\n",
              "       0, 0, 0, 0, 0, 0, 0, 0, 0, 0, 0, 0, 0, 0, 0, 0, 0, 0, 0, 0, 0, 0,\n",
              "       0, 0, 0, 0, 0, 0, 0, 0, 0, 0, 0, 0, 0, 0, 0, 0, 0, 0, 0, 0, 0, 0,\n",
              "       0, 0, 0, 0, 0, 0, 0, 0, 0, 0, 0, 0, 0, 0, 0, 0, 0, 0, 0, 0, 0, 0,\n",
              "       0, 0, 0, 0, 0, 0, 0, 0, 0, 0, 0, 0, 0, 0, 0, 0, 0, 0, 0, 0, 0, 0,\n",
              "       0, 0, 0, 0, 0, 0, 0, 0, 0, 0, 0, 0, 0, 0, 0, 0, 0, 0, 0, 0, 0, 0,\n",
              "       0, 0, 0, 0, 0, 0, 0, 0, 0, 0, 0, 0, 0, 0, 0, 0, 0, 0, 0, 0, 0, 0,\n",
              "       0, 0, 0, 0, 0, 0, 0, 0, 0, 0, 0, 0, 0, 0, 0, 0, 0, 0, 0, 0, 0, 0,\n",
              "       0, 0, 0, 0, 0, 0, 0, 0, 0, 0, 0, 0, 0, 0, 0, 0, 0, 0, 0, 0, 0, 0,\n",
              "       0, 0, 0, 0, 0, 0, 0, 0, 0, 0, 0, 0, 0, 0, 0, 0, 0, 0, 0, 0, 0, 0,\n",
              "       0, 0, 0, 0, 0, 0, 0, 0, 0, 0, 0, 0, 0, 0, 0, 0, 0, 0, 0, 0, 0, 0,\n",
              "       0, 0, 0, 0, 0, 0, 0, 0, 0, 0, 0, 0, 0, 0, 0, 0, 0, 0, 0, 0, 0, 0,\n",
              "       0, 0, 0, 0, 0, 0, 0, 0, 0, 0, 0, 0, 0, 0, 0, 0, 0, 0, 0, 0, 0, 0,\n",
              "       0, 0, 0, 0, 0, 0, 0, 0, 0, 0, 0, 0, 0, 0, 0, 0, 0, 0, 0, 0, 0, 0,\n",
              "       0, 0, 0, 0, 0, 0, 0, 0, 0, 0, 0, 0, 0, 0, 0, 0, 0, 0, 0, 0, 0, 0,\n",
              "       0, 0, 1, 1, 1, 1, 1, 1, 1, 1, 1, 1, 1, 1, 1, 1, 1, 1, 1, 1, 1, 1,\n",
              "       1, 1, 1, 1, 1, 1, 1, 1, 1, 1, 1, 1, 1, 1, 1, 1, 1, 1, 1, 1, 1, 1,\n",
              "       1, 1, 1, 1, 1, 1, 1, 1, 1, 1, 1, 1, 1, 1, 1, 1, 1, 1, 1, 1, 1, 1,\n",
              "       1, 1, 1, 1, 1, 1, 1, 1, 1, 1, 1, 1, 1, 1, 1, 1, 1, 1, 1, 1, 1, 1,\n",
              "       1, 1, 1, 1, 1, 1, 1, 1, 1, 1, 1, 1, 1, 1, 1, 1, 1, 1, 1, 1, 1, 1,\n",
              "       1, 1, 1, 1, 1, 1, 1, 1, 1, 1, 1, 1, 1, 1, 1, 1, 1, 1, 1, 1, 1, 1,\n",
              "       1, 1, 1, 1, 1, 1, 1, 1, 1, 1, 1, 1, 1, 1, 1, 1, 1, 1, 1, 1, 1, 1,\n",
              "       1, 1, 1, 1, 1, 1, 1, 1, 1, 1, 1, 1, 1, 1, 1, 1, 1, 1, 1, 1, 1, 1,\n",
              "       1, 1, 1, 1, 1, 1, 1, 1, 1, 1, 1, 1, 1, 1, 1, 1, 1, 1, 1, 1, 1, 1,\n",
              "       1, 1, 1, 1, 1, 1, 1, 1, 1, 1, 1, 1, 1, 1])"
            ]
          },
          "execution_count": 96,
          "metadata": {},
          "output_type": "execute_result"
        }
      ],
      "source": [
        "y_train"
      ]
    },
    {
      "cell_type": "markdown",
      "metadata": {
        "id": "QeileolLuvif"
      },
      "source": [
        "## Isolation Forest"
      ]
    },
    {
      "cell_type": "code",
      "execution_count": null,
      "metadata": {
        "id": "udTBAZ5suxYX"
      },
      "outputs": [],
      "source": [
        "# from pyod.models.iforest import IForest\n",
        "# ad = IForest(n_estimators=200, max_samples='auto', contamination=0.1, max_features=1.0, bootstrap=True,\n",
        "#                                   behaviour='new', random_state=42, verbose=0)\n",
        "# ad.fit(X_train, y_train)"
      ]
    },
    {
      "cell_type": "markdown",
      "metadata": {
        "id": "8G3N2XUcUBYW"
      },
      "source": [
        "## XGBOD"
      ]
    },
    {
      "cell_type": "code",
      "execution_count": null,
      "metadata": {
        "id": "afzuovf73_6t"
      },
      "outputs": [],
      "source": [
        "from pyod.models.xgbod import XGBOD\n",
        "\n",
        "# ad = XGBOD(max_depth = 10, learning_rate = 0.0005, n_estimators = 350, gamma = 0, silent=True, objective = 'binary:logitraw',\n",
        "#            booster='gbtree', eval_metric = 'aucpr', min_child_weight = 1, random_state=42, verbosity = 0, tree_method = 'exact',\n",
        "#            subsample = 0.4, colsample_bytree = 0.4)\n",
        "# ad.fit(X_train, y_train)"
      ]
    },
    {
      "cell_type": "markdown",
      "metadata": {
        "id": "L696bW4fJT3v"
      },
      "source": [
        "## LOF\n"
      ]
    },
    {
      "cell_type": "code",
      "execution_count": null,
      "metadata": {
        "id": "_oBIOdg6JVyf"
      },
      "outputs": [],
      "source": [
        "# from sklearn.neighbors import LocalOutlierFactor\n",
        "# ad = LocalOutlierFactor(n_neighbors=39, algorithm='brute', metric='cosine', contamination=0.3, novelty=True)\n",
        "# ad.fit(X_train)"
      ]
    },
    {
      "cell_type": "code",
      "execution_count": null,
      "metadata": {
        "colab": {
          "base_uri": "https://localhost:8080/"
        },
        "id": "-wj2nUk8UrQ8",
        "outputId": "d76fd339-8c13-4c2d-a45a-0f25036572de"
      },
      "outputs": [
        {
          "data": {
            "text/plain": [
              "LOF(algorithm='auto', contamination=0.415, leaf_size=30, metric='cosine',\n",
              "  metric_params=None, n_jobs=1, n_neighbors=1, novelty=True, p=2)"
            ]
          },
          "execution_count": 62,
          "metadata": {},
          "output_type": "execute_result"
        }
      ],
      "source": [
        "from pyod.models.lof import LOF\n",
        "ad = LOF(n_neighbors=i, metric='cosine', contamination=0.415)\n",
        "ad.fit(X)"
      ]
    },
    {
      "cell_type": "markdown",
      "metadata": {
        "id": "7tNtzAc2C7SI"
      },
      "source": [
        "# Feature Extractor window wise"
      ]
    },
    {
      "cell_type": "code",
      "execution_count": 42,
      "metadata": {
        "colab": {
          "base_uri": "https://localhost:8080/"
        },
        "id": "e8F6MOEtwHmA",
        "outputId": "9b800ed1-2026-4b7d-cf14-7b25c546bbd8"
      },
      "outputs": [],
      "source": [
        "def neuro2(X_demo):\n",
        "    rows, columns = X_demo.shape\n",
        "    fid_feat = []\n",
        "\n",
        "    for i in range(rows):\n",
        "        ppg = X_demo[i,:]\n",
        "\n",
        "        try:\n",
        "            # Process the PPG signal\n",
        "            ppg_signals, info = nk.ppg_process(ppg, sampling_rate=125)\n",
        "\n",
        "            # Check if ppg_signals is empty (which indicates processing failure)\n",
        "            if ppg_signals is None or len(ppg_signals) == 0:\n",
        "                # Handle the case where no valid signals were processed\n",
        "                features_list = [np.nan] * 10  # Adjust to match your feature size\n",
        "            else:\n",
        "                # Create an epoch for the entire signal duration\n",
        "                epochs = nk.epochs_create(ppg_signals, events=[0], epochs_start=0, epochs_end=5, sampling_rate=125)\n",
        "\n",
        "                # Analyze the PPG epoch\n",
        "                analyze_ppg = nk.ppg_analyze(epochs, sampling_rate=125)\n",
        "\n",
        "                # Extract the features, removing 'Label' and 'Event_Onset' columns, and converting to a list\n",
        "                features_list = analyze_ppg.drop(columns=['Label', 'Event_Onset']).values.flatten().tolist()\n",
        "\n",
        "        except Exception as e:\n",
        "            print(f\"Error processing signal {i}: {e}\")\n",
        "            features_list = [np.nan] * 10  # Adjust to match your feature size\n",
        "\n",
        "        # Append the features to fid_feat\n",
        "        fid_feat.append(features_list)\n",
        "\n",
        "    fid_feat = pd.DataFrame(fid_feat)\n",
        "    return fid_feat"
      ]
    },
    {
      "cell_type": "code",
      "execution_count": 43,
      "metadata": {
        "id": "n_KotSJIC9kS"
      },
      "outputs": [
        {
          "name": "stderr",
          "output_type": "stream",
          "text": [
            "/Users/tuhindas/Python Venv/Shrine/lib/python3.12/site-packages/neurokit2/signal/signal_period.py:84: NeuroKitWarning: Too few peaks detected to compute the rate. Returning empty vector.\n",
            "  warn(\n"
          ]
        },
        {
          "name": "stdout",
          "output_type": "stream",
          "text": [
            "Error processing signal 159: cannot convert float NaN to integer\n"
          ]
        },
        {
          "name": "stderr",
          "output_type": "stream",
          "text": [
            "/Users/tuhindas/Python Venv/Shrine/lib/python3.12/site-packages/neurokit2/signal/signal_period.py:84: NeuroKitWarning: Too few peaks detected to compute the rate. Returning empty vector.\n",
            "  warn(\n"
          ]
        },
        {
          "name": "stdout",
          "output_type": "stream",
          "text": [
            "Error processing signal 412: cannot convert float NaN to integer\n"
          ]
        }
      ],
      "source": [
        "signal = X_blind\n",
        "# signal = signal.reshape(1,-1)\n",
        "filt = butterworth(signal)\n",
        "filt = butterworth(filt)\n",
        "br = remove_baseline_wander(filt)\n",
        "nor = normalize(br)\n",
        "first, second, third = derivatives(nor)\n",
        "\n",
        "## Fiducial\n",
        "fid = neuro2(nor)\n",
        "\n",
        "## Statistical\n",
        "stat = statistical(nor)\n",
        "stat =  pd.concat([stat, statistical(first)], axis = 1, ignore_index = True)\n",
        "stat =  pd.concat([stat, statistical(second)], axis = 1, ignore_index = True)\n",
        "stat =  pd.concat([stat, statistical(third)], axis = 1, ignore_index = True)\n",
        "\n",
        "## Frequency\n",
        "freq = freq_domain(nor)\n",
        "freq = pd.concat([freq,freq_domain(first)], axis = 1, ignore_index = True)\n",
        "freq = pd.concat([freq,freq_domain(second)], axis = 1, ignore_index = True)\n",
        "freq = pd.concat([freq,freq_domain(third)], axis = 1, ignore_index = True)\n",
        "\n",
        "## Entropy\n",
        "ent = en_fn(nor)\n",
        "ent = pd.concat([ent, en_fn(first)], axis = 1, ignore_index = True)\n",
        "ent = pd.concat([ent, en_fn(second)], axis = 1, ignore_index = True)\n",
        "ent = pd.concat([ent, en_fn(third)], axis = 1, ignore_index = True)\n",
        "\n",
        "## WPT\n",
        "wpt = wpt_features(nor)\n",
        "wpt = pd.concat([wpt, wpt_features(first)], axis = 1, ignore_index = True)\n",
        "wpt = pd.concat([wpt, wpt_features(second)], axis = 1, ignore_index = True)\n",
        "wpt = pd.concat([wpt, wpt_features(third)], axis = 1, ignore_index = True)"
      ]
    },
    {
      "cell_type": "markdown",
      "metadata": {},
      "source": [
        "## Fit"
      ]
    },
    {
      "cell_type": "code",
      "execution_count": 393,
      "metadata": {
        "id": "Lp2un1CLCjlZ"
      },
      "outputs": [],
      "source": [
        "X = pd.concat([X_stat,X_freq,X_en], axis = 1, ignore_index = True)\n",
        "\n",
        "nm = MinMaxScaler()\n",
        "X = nm.fit_transform(X)\n",
        "\n",
        "high_value = 1e3\n",
        "X = np.nan_to_num(X, nan=high_value)\n",
        "\n",
        "# X_selected_blind = feats_final[:, top_features_names]"
      ]
    },
    {
      "cell_type": "code",
      "execution_count": 394,
      "metadata": {
        "id": "QWgyC2Xktt1S"
      },
      "outputs": [],
      "source": [
        "final = pd.concat([stat,freq,ent], axis = 1, ignore_index = True)\n",
        "\n",
        "final = nm.transform(final)\n",
        "\n",
        "high_value = 1e3\n",
        "final = np.nan_to_num(final, nan=high_value)\n",
        "\n",
        "# final_selected = final[:,top_features_names]"
      ]
    },
    {
      "cell_type": "code",
      "execution_count": 395,
      "metadata": {
        "id": "nl6Ua-V88G1K"
      },
      "outputs": [],
      "source": [
        "y_cmp = np.copy(y_blind)\n",
        "y_cmp[y_cmp>0]=1"
      ]
    },
    {
      "cell_type": "markdown",
      "metadata": {},
      "source": [
        "## Training and Testing"
      ]
    },
    {
      "cell_type": "code",
      "execution_count": 396,
      "metadata": {},
      "outputs": [],
      "source": [
        "r = int(X_auth.shape[0]/2)\n",
        "X_train_clf = X[:r,:]\n",
        "y_train = np.copy(y_temp)"
      ]
    },
    {
      "cell_type": "code",
      "execution_count": 397,
      "metadata": {},
      "outputs": [
        {
          "data": {
            "text/html": [
              "<style>#sk-container-id-23 {\n",
              "  /* Definition of color scheme common for light and dark mode */\n",
              "  --sklearn-color-text: black;\n",
              "  --sklearn-color-line: gray;\n",
              "  /* Definition of color scheme for unfitted estimators */\n",
              "  --sklearn-color-unfitted-level-0: #fff5e6;\n",
              "  --sklearn-color-unfitted-level-1: #f6e4d2;\n",
              "  --sklearn-color-unfitted-level-2: #ffe0b3;\n",
              "  --sklearn-color-unfitted-level-3: chocolate;\n",
              "  /* Definition of color scheme for fitted estimators */\n",
              "  --sklearn-color-fitted-level-0: #f0f8ff;\n",
              "  --sklearn-color-fitted-level-1: #d4ebff;\n",
              "  --sklearn-color-fitted-level-2: #b3dbfd;\n",
              "  --sklearn-color-fitted-level-3: cornflowerblue;\n",
              "\n",
              "  /* Specific color for light theme */\n",
              "  --sklearn-color-text-on-default-background: var(--sg-text-color, var(--theme-code-foreground, var(--jp-content-font-color1, black)));\n",
              "  --sklearn-color-background: var(--sg-background-color, var(--theme-background, var(--jp-layout-color0, white)));\n",
              "  --sklearn-color-border-box: var(--sg-text-color, var(--theme-code-foreground, var(--jp-content-font-color1, black)));\n",
              "  --sklearn-color-icon: #696969;\n",
              "\n",
              "  @media (prefers-color-scheme: dark) {\n",
              "    /* Redefinition of color scheme for dark theme */\n",
              "    --sklearn-color-text-on-default-background: var(--sg-text-color, var(--theme-code-foreground, var(--jp-content-font-color1, white)));\n",
              "    --sklearn-color-background: var(--sg-background-color, var(--theme-background, var(--jp-layout-color0, #111)));\n",
              "    --sklearn-color-border-box: var(--sg-text-color, var(--theme-code-foreground, var(--jp-content-font-color1, white)));\n",
              "    --sklearn-color-icon: #878787;\n",
              "  }\n",
              "}\n",
              "\n",
              "#sk-container-id-23 {\n",
              "  color: var(--sklearn-color-text);\n",
              "}\n",
              "\n",
              "#sk-container-id-23 pre {\n",
              "  padding: 0;\n",
              "}\n",
              "\n",
              "#sk-container-id-23 input.sk-hidden--visually {\n",
              "  border: 0;\n",
              "  clip: rect(1px 1px 1px 1px);\n",
              "  clip: rect(1px, 1px, 1px, 1px);\n",
              "  height: 1px;\n",
              "  margin: -1px;\n",
              "  overflow: hidden;\n",
              "  padding: 0;\n",
              "  position: absolute;\n",
              "  width: 1px;\n",
              "}\n",
              "\n",
              "#sk-container-id-23 div.sk-dashed-wrapped {\n",
              "  border: 1px dashed var(--sklearn-color-line);\n",
              "  margin: 0 0.4em 0.5em 0.4em;\n",
              "  box-sizing: border-box;\n",
              "  padding-bottom: 0.4em;\n",
              "  background-color: var(--sklearn-color-background);\n",
              "}\n",
              "\n",
              "#sk-container-id-23 div.sk-container {\n",
              "  /* jupyter's `normalize.less` sets `[hidden] { display: none; }`\n",
              "     but bootstrap.min.css set `[hidden] { display: none !important; }`\n",
              "     so we also need the `!important` here to be able to override the\n",
              "     default hidden behavior on the sphinx rendered scikit-learn.org.\n",
              "     See: https://github.com/scikit-learn/scikit-learn/issues/21755 */\n",
              "  display: inline-block !important;\n",
              "  position: relative;\n",
              "}\n",
              "\n",
              "#sk-container-id-23 div.sk-text-repr-fallback {\n",
              "  display: none;\n",
              "}\n",
              "\n",
              "div.sk-parallel-item,\n",
              "div.sk-serial,\n",
              "div.sk-item {\n",
              "  /* draw centered vertical line to link estimators */\n",
              "  background-image: linear-gradient(var(--sklearn-color-text-on-default-background), var(--sklearn-color-text-on-default-background));\n",
              "  background-size: 2px 100%;\n",
              "  background-repeat: no-repeat;\n",
              "  background-position: center center;\n",
              "}\n",
              "\n",
              "/* Parallel-specific style estimator block */\n",
              "\n",
              "#sk-container-id-23 div.sk-parallel-item::after {\n",
              "  content: \"\";\n",
              "  width: 100%;\n",
              "  border-bottom: 2px solid var(--sklearn-color-text-on-default-background);\n",
              "  flex-grow: 1;\n",
              "}\n",
              "\n",
              "#sk-container-id-23 div.sk-parallel {\n",
              "  display: flex;\n",
              "  align-items: stretch;\n",
              "  justify-content: center;\n",
              "  background-color: var(--sklearn-color-background);\n",
              "  position: relative;\n",
              "}\n",
              "\n",
              "#sk-container-id-23 div.sk-parallel-item {\n",
              "  display: flex;\n",
              "  flex-direction: column;\n",
              "}\n",
              "\n",
              "#sk-container-id-23 div.sk-parallel-item:first-child::after {\n",
              "  align-self: flex-end;\n",
              "  width: 50%;\n",
              "}\n",
              "\n",
              "#sk-container-id-23 div.sk-parallel-item:last-child::after {\n",
              "  align-self: flex-start;\n",
              "  width: 50%;\n",
              "}\n",
              "\n",
              "#sk-container-id-23 div.sk-parallel-item:only-child::after {\n",
              "  width: 0;\n",
              "}\n",
              "\n",
              "/* Serial-specific style estimator block */\n",
              "\n",
              "#sk-container-id-23 div.sk-serial {\n",
              "  display: flex;\n",
              "  flex-direction: column;\n",
              "  align-items: center;\n",
              "  background-color: var(--sklearn-color-background);\n",
              "  padding-right: 1em;\n",
              "  padding-left: 1em;\n",
              "}\n",
              "\n",
              "\n",
              "/* Toggleable style: style used for estimator/Pipeline/ColumnTransformer box that is\n",
              "clickable and can be expanded/collapsed.\n",
              "- Pipeline and ColumnTransformer use this feature and define the default style\n",
              "- Estimators will overwrite some part of the style using the `sk-estimator` class\n",
              "*/\n",
              "\n",
              "/* Pipeline and ColumnTransformer style (default) */\n",
              "\n",
              "#sk-container-id-23 div.sk-toggleable {\n",
              "  /* Default theme specific background. It is overwritten whether we have a\n",
              "  specific estimator or a Pipeline/ColumnTransformer */\n",
              "  background-color: var(--sklearn-color-background);\n",
              "}\n",
              "\n",
              "/* Toggleable label */\n",
              "#sk-container-id-23 label.sk-toggleable__label {\n",
              "  cursor: pointer;\n",
              "  display: block;\n",
              "  width: 100%;\n",
              "  margin-bottom: 0;\n",
              "  padding: 0.5em;\n",
              "  box-sizing: border-box;\n",
              "  text-align: center;\n",
              "}\n",
              "\n",
              "#sk-container-id-23 label.sk-toggleable__label-arrow:before {\n",
              "  /* Arrow on the left of the label */\n",
              "  content: \"▸\";\n",
              "  float: left;\n",
              "  margin-right: 0.25em;\n",
              "  color: var(--sklearn-color-icon);\n",
              "}\n",
              "\n",
              "#sk-container-id-23 label.sk-toggleable__label-arrow:hover:before {\n",
              "  color: var(--sklearn-color-text);\n",
              "}\n",
              "\n",
              "/* Toggleable content - dropdown */\n",
              "\n",
              "#sk-container-id-23 div.sk-toggleable__content {\n",
              "  max-height: 0;\n",
              "  max-width: 0;\n",
              "  overflow: hidden;\n",
              "  text-align: left;\n",
              "  /* unfitted */\n",
              "  background-color: var(--sklearn-color-unfitted-level-0);\n",
              "}\n",
              "\n",
              "#sk-container-id-23 div.sk-toggleable__content.fitted {\n",
              "  /* fitted */\n",
              "  background-color: var(--sklearn-color-fitted-level-0);\n",
              "}\n",
              "\n",
              "#sk-container-id-23 div.sk-toggleable__content pre {\n",
              "  margin: 0.2em;\n",
              "  border-radius: 0.25em;\n",
              "  color: var(--sklearn-color-text);\n",
              "  /* unfitted */\n",
              "  background-color: var(--sklearn-color-unfitted-level-0);\n",
              "}\n",
              "\n",
              "#sk-container-id-23 div.sk-toggleable__content.fitted pre {\n",
              "  /* unfitted */\n",
              "  background-color: var(--sklearn-color-fitted-level-0);\n",
              "}\n",
              "\n",
              "#sk-container-id-23 input.sk-toggleable__control:checked~div.sk-toggleable__content {\n",
              "  /* Expand drop-down */\n",
              "  max-height: 200px;\n",
              "  max-width: 100%;\n",
              "  overflow: auto;\n",
              "}\n",
              "\n",
              "#sk-container-id-23 input.sk-toggleable__control:checked~label.sk-toggleable__label-arrow:before {\n",
              "  content: \"▾\";\n",
              "}\n",
              "\n",
              "/* Pipeline/ColumnTransformer-specific style */\n",
              "\n",
              "#sk-container-id-23 div.sk-label input.sk-toggleable__control:checked~label.sk-toggleable__label {\n",
              "  color: var(--sklearn-color-text);\n",
              "  background-color: var(--sklearn-color-unfitted-level-2);\n",
              "}\n",
              "\n",
              "#sk-container-id-23 div.sk-label.fitted input.sk-toggleable__control:checked~label.sk-toggleable__label {\n",
              "  background-color: var(--sklearn-color-fitted-level-2);\n",
              "}\n",
              "\n",
              "/* Estimator-specific style */\n",
              "\n",
              "/* Colorize estimator box */\n",
              "#sk-container-id-23 div.sk-estimator input.sk-toggleable__control:checked~label.sk-toggleable__label {\n",
              "  /* unfitted */\n",
              "  background-color: var(--sklearn-color-unfitted-level-2);\n",
              "}\n",
              "\n",
              "#sk-container-id-23 div.sk-estimator.fitted input.sk-toggleable__control:checked~label.sk-toggleable__label {\n",
              "  /* fitted */\n",
              "  background-color: var(--sklearn-color-fitted-level-2);\n",
              "}\n",
              "\n",
              "#sk-container-id-23 div.sk-label label.sk-toggleable__label,\n",
              "#sk-container-id-23 div.sk-label label {\n",
              "  /* The background is the default theme color */\n",
              "  color: var(--sklearn-color-text-on-default-background);\n",
              "}\n",
              "\n",
              "/* On hover, darken the color of the background */\n",
              "#sk-container-id-23 div.sk-label:hover label.sk-toggleable__label {\n",
              "  color: var(--sklearn-color-text);\n",
              "  background-color: var(--sklearn-color-unfitted-level-2);\n",
              "}\n",
              "\n",
              "/* Label box, darken color on hover, fitted */\n",
              "#sk-container-id-23 div.sk-label.fitted:hover label.sk-toggleable__label.fitted {\n",
              "  color: var(--sklearn-color-text);\n",
              "  background-color: var(--sklearn-color-fitted-level-2);\n",
              "}\n",
              "\n",
              "/* Estimator label */\n",
              "\n",
              "#sk-container-id-23 div.sk-label label {\n",
              "  font-family: monospace;\n",
              "  font-weight: bold;\n",
              "  display: inline-block;\n",
              "  line-height: 1.2em;\n",
              "}\n",
              "\n",
              "#sk-container-id-23 div.sk-label-container {\n",
              "  text-align: center;\n",
              "}\n",
              "\n",
              "/* Estimator-specific */\n",
              "#sk-container-id-23 div.sk-estimator {\n",
              "  font-family: monospace;\n",
              "  border: 1px dotted var(--sklearn-color-border-box);\n",
              "  border-radius: 0.25em;\n",
              "  box-sizing: border-box;\n",
              "  margin-bottom: 0.5em;\n",
              "  /* unfitted */\n",
              "  background-color: var(--sklearn-color-unfitted-level-0);\n",
              "}\n",
              "\n",
              "#sk-container-id-23 div.sk-estimator.fitted {\n",
              "  /* fitted */\n",
              "  background-color: var(--sklearn-color-fitted-level-0);\n",
              "}\n",
              "\n",
              "/* on hover */\n",
              "#sk-container-id-23 div.sk-estimator:hover {\n",
              "  /* unfitted */\n",
              "  background-color: var(--sklearn-color-unfitted-level-2);\n",
              "}\n",
              "\n",
              "#sk-container-id-23 div.sk-estimator.fitted:hover {\n",
              "  /* fitted */\n",
              "  background-color: var(--sklearn-color-fitted-level-2);\n",
              "}\n",
              "\n",
              "/* Specification for estimator info (e.g. \"i\" and \"?\") */\n",
              "\n",
              "/* Common style for \"i\" and \"?\" */\n",
              "\n",
              ".sk-estimator-doc-link,\n",
              "a:link.sk-estimator-doc-link,\n",
              "a:visited.sk-estimator-doc-link {\n",
              "  float: right;\n",
              "  font-size: smaller;\n",
              "  line-height: 1em;\n",
              "  font-family: monospace;\n",
              "  background-color: var(--sklearn-color-background);\n",
              "  border-radius: 1em;\n",
              "  height: 1em;\n",
              "  width: 1em;\n",
              "  text-decoration: none !important;\n",
              "  margin-left: 1ex;\n",
              "  /* unfitted */\n",
              "  border: var(--sklearn-color-unfitted-level-1) 1pt solid;\n",
              "  color: var(--sklearn-color-unfitted-level-1);\n",
              "}\n",
              "\n",
              ".sk-estimator-doc-link.fitted,\n",
              "a:link.sk-estimator-doc-link.fitted,\n",
              "a:visited.sk-estimator-doc-link.fitted {\n",
              "  /* fitted */\n",
              "  border: var(--sklearn-color-fitted-level-1) 1pt solid;\n",
              "  color: var(--sklearn-color-fitted-level-1);\n",
              "}\n",
              "\n",
              "/* On hover */\n",
              "div.sk-estimator:hover .sk-estimator-doc-link:hover,\n",
              ".sk-estimator-doc-link:hover,\n",
              "div.sk-label-container:hover .sk-estimator-doc-link:hover,\n",
              ".sk-estimator-doc-link:hover {\n",
              "  /* unfitted */\n",
              "  background-color: var(--sklearn-color-unfitted-level-3);\n",
              "  color: var(--sklearn-color-background);\n",
              "  text-decoration: none;\n",
              "}\n",
              "\n",
              "div.sk-estimator.fitted:hover .sk-estimator-doc-link.fitted:hover,\n",
              ".sk-estimator-doc-link.fitted:hover,\n",
              "div.sk-label-container:hover .sk-estimator-doc-link.fitted:hover,\n",
              ".sk-estimator-doc-link.fitted:hover {\n",
              "  /* fitted */\n",
              "  background-color: var(--sklearn-color-fitted-level-3);\n",
              "  color: var(--sklearn-color-background);\n",
              "  text-decoration: none;\n",
              "}\n",
              "\n",
              "/* Span, style for the box shown on hovering the info icon */\n",
              ".sk-estimator-doc-link span {\n",
              "  display: none;\n",
              "  z-index: 9999;\n",
              "  position: relative;\n",
              "  font-weight: normal;\n",
              "  right: .2ex;\n",
              "  padding: .5ex;\n",
              "  margin: .5ex;\n",
              "  width: min-content;\n",
              "  min-width: 20ex;\n",
              "  max-width: 50ex;\n",
              "  color: var(--sklearn-color-text);\n",
              "  box-shadow: 2pt 2pt 4pt #999;\n",
              "  /* unfitted */\n",
              "  background: var(--sklearn-color-unfitted-level-0);\n",
              "  border: .5pt solid var(--sklearn-color-unfitted-level-3);\n",
              "}\n",
              "\n",
              ".sk-estimator-doc-link.fitted span {\n",
              "  /* fitted */\n",
              "  background: var(--sklearn-color-fitted-level-0);\n",
              "  border: var(--sklearn-color-fitted-level-3);\n",
              "}\n",
              "\n",
              ".sk-estimator-doc-link:hover span {\n",
              "  display: block;\n",
              "}\n",
              "\n",
              "/* \"?\"-specific style due to the `<a>` HTML tag */\n",
              "\n",
              "#sk-container-id-23 a.estimator_doc_link {\n",
              "  float: right;\n",
              "  font-size: 1rem;\n",
              "  line-height: 1em;\n",
              "  font-family: monospace;\n",
              "  background-color: var(--sklearn-color-background);\n",
              "  border-radius: 1rem;\n",
              "  height: 1rem;\n",
              "  width: 1rem;\n",
              "  text-decoration: none;\n",
              "  /* unfitted */\n",
              "  color: var(--sklearn-color-unfitted-level-1);\n",
              "  border: var(--sklearn-color-unfitted-level-1) 1pt solid;\n",
              "}\n",
              "\n",
              "#sk-container-id-23 a.estimator_doc_link.fitted {\n",
              "  /* fitted */\n",
              "  border: var(--sklearn-color-fitted-level-1) 1pt solid;\n",
              "  color: var(--sklearn-color-fitted-level-1);\n",
              "}\n",
              "\n",
              "/* On hover */\n",
              "#sk-container-id-23 a.estimator_doc_link:hover {\n",
              "  /* unfitted */\n",
              "  background-color: var(--sklearn-color-unfitted-level-3);\n",
              "  color: var(--sklearn-color-background);\n",
              "  text-decoration: none;\n",
              "}\n",
              "\n",
              "#sk-container-id-23 a.estimator_doc_link.fitted:hover {\n",
              "  /* fitted */\n",
              "  background-color: var(--sklearn-color-fitted-level-3);\n",
              "}\n",
              "</style><div id=\"sk-container-id-23\" class=\"sk-top-container\"><div class=\"sk-text-repr-fallback\"><pre>KNeighborsClassifier(n_neighbors=4)</pre><b>In a Jupyter environment, please rerun this cell to show the HTML representation or trust the notebook. <br />On GitHub, the HTML representation is unable to render, please try loading this page with nbviewer.org.</b></div><div class=\"sk-container\" hidden><div class=\"sk-item\"><div class=\"sk-estimator fitted sk-toggleable\"><input class=\"sk-toggleable__control sk-hidden--visually\" id=\"sk-estimator-id-23\" type=\"checkbox\" checked><label for=\"sk-estimator-id-23\" class=\"sk-toggleable__label fitted sk-toggleable__label-arrow fitted\">&nbsp;&nbsp;KNeighborsClassifier<a class=\"sk-estimator-doc-link fitted\" rel=\"noreferrer\" target=\"_blank\" href=\"https://scikit-learn.org/1.5/modules/generated/sklearn.neighbors.KNeighborsClassifier.html\">?<span>Documentation for KNeighborsClassifier</span></a><span class=\"sk-estimator-doc-link fitted\">i<span>Fitted</span></span></label><div class=\"sk-toggleable__content fitted\"><pre>KNeighborsClassifier(n_neighbors=4)</pre></div> </div></div></div></div>"
            ],
            "text/plain": [
              "KNeighborsClassifier(n_neighbors=4)"
            ]
          },
          "execution_count": 397,
          "metadata": {},
          "output_type": "execute_result"
        }
      ],
      "source": [
        "from sklearn.neighbors import KNeighborsClassifier\n",
        "clf = KNeighborsClassifier(n_neighbors = 4, metric = 'minkowski', p = 2)\n",
        "clf.fit(X_train_clf, y_train - 1)"
      ]
    },
    {
      "cell_type": "code",
      "execution_count": 398,
      "metadata": {},
      "outputs": [],
      "source": [
        "# from sklearn.svm import SVC\n",
        "# clf = SVC(kernel = 'poly', random_state = 0)\n",
        "# clf.fit(X_train_clf, y_train - 1)"
      ]
    },
    {
      "cell_type": "code",
      "execution_count": 399,
      "metadata": {},
      "outputs": [],
      "source": [
        "# from sklearn.ensemble import RandomForestClassifier\n",
        "# clf = RandomForestClassifier(n_estimators = 350, max_depth = 15, criterion = 'entropy', random_state = 0)\n",
        "# clf.fit(X_train_clf, y_train - 1)"
      ]
    },
    {
      "cell_type": "markdown",
      "metadata": {},
      "source": [
        "### Optimization"
      ]
    },
    {
      "cell_type": "code",
      "execution_count": 400,
      "metadata": {},
      "outputs": [],
      "source": [
        "# from pyod.models.xgbod import XGBOD\n",
        "\n",
        "# X_train = np.copy(X)\n",
        "# y_train = np.where(y == 0, 1, 0)\n",
        "\n",
        "# for i in range(0,100):\n",
        "#     ad = XGBOD(max_depth = 15, learning_rate = 0.029, n_estimators = 199, gamma = 0, silent=True, objective = 'binary:logitraw',\n",
        "#                 booster='gbtree', eval_metric = 'auc', min_child_weight = 1, random_state=i, verbosity = 0, tree_method = 'exact',\n",
        "#                 subsample = 0.9, colsample_bytree = 0.6)\n",
        "#     ad.fit(X, y_train)\n",
        "#     y_pred = ad.predict(final)\n",
        "#     y_pred -= 1\n",
        "#     y_pred[y_pred<0]=1\n",
        "#     print(i,\":\",accuracy_score(y_pred,y_cmp))"
      ]
    },
    {
      "cell_type": "code",
      "execution_count": 401,
      "metadata": {},
      "outputs": [],
      "source": [
        "# from pyod.models.lof import LOF\n",
        "\n",
        "# X_train = np.copy(X)\n",
        "# y_train = np.where(y == 0, 1, 0)\n",
        "\n",
        "# for i in range(1,50):\n",
        "#     ad = LOF(n_neighbors=19, metric='cosine', contamination=0.16, algorithm=\"brute\", novelty=True)\n",
        "#     ad.fit(X_train)\n",
        "#     y_pred = ad.predict(final)\n",
        "#     y_pred -= 1\n",
        "#     y_pred[y_pred<0]=1\n",
        "#     print(i,\":\",accuracy_score(y_pred,y_cmp))"
      ]
    },
    {
      "cell_type": "code",
      "execution_count": 402,
      "metadata": {},
      "outputs": [],
      "source": [
        "# from pyod.models.iforest import IForest\n",
        "\n",
        "# X_train = np.copy(X)\n",
        "# y_train = np.where(y == 0, 1, 0)\n",
        "\n",
        "# for i in range(1,101):\n",
        "#     ad = IForest(n_estimators=200, max_samples='auto', contamination = 0.21, max_features=0.29, bootstrap=True,\n",
        "#                                   behaviour='new', random_state=0, verbose=0)\n",
        "#     ad.fit(X_train, y_train)\n",
        "#     y_pred = ad.predict(final)\n",
        "#     y_pred -= 1\n",
        "#     y_pred[y_pred<0]=1\n",
        "#     print(i,\":\",accuracy_score(y_pred,y_cmp))"
      ]
    },
    {
      "cell_type": "code",
      "execution_count": 403,
      "metadata": {},
      "outputs": [],
      "source": [
        "from sklearn.metrics import confusion_matrix, accuracy_score, precision_score, recall_score, f1_score, roc_auc_score, roc_curve\n",
        "from sklearn.preprocessing import label_binarize\n",
        "import matplotlib.pyplot as plt\n",
        "def performance_metrics(y_true, y_pred):\n",
        "\n",
        "    # Accuracy\n",
        "    accuracy = accuracy_score(y_true, y_pred)\n",
        "    print(\"Accuracy:\", round(accuracy * 100, 3))\n",
        "\n",
        "    # Precision (Positive Predictive Value)\n",
        "    precision = precision_score(y_true, y_pred, average='weighted')\n",
        "    print(\"Precision (Positive Predictive Value):\", round(precision * 100, 3))\n",
        "\n",
        "    # Recall (True Positive Rate or Sensitivity)\n",
        "    recall = recall_score(y_true, y_pred, average='weighted')\n",
        "    print(\"Recall (True Positive Rate):\", round(recall * 100, 3))\n",
        "\n",
        "    # F1 Score (Harmonic Mean of Precision and Recall)\n",
        "    f1 = f1_score(y_true, y_pred, average='weighted')\n",
        "    print(\"F1 Score:\", round(f1 * 100, 3))\n",
        "\n",
        "    cm = confusion_matrix(y_true, y_pred)\n",
        "    print(\"Confusion Matrix:\\n\", cm)\n",
        "\n",
        "    # AUC-ROC Score and ROC Curve\n",
        "    plt.figure()\n",
        "    if len(np.unique(y_true)) > 2:  # Multi-class case\n",
        "        y_true_binarized = label_binarize(y_true, classes=np.unique(y_true))\n",
        "        y_pred_binarized = label_binarize(y_pred, classes=np.unique(y_true))\n",
        "\n",
        "        auc = roc_auc_score(y_true_binarized, y_pred_binarized, average='weighted')\n",
        "        print(\"AUC-ROC Score:\", round(auc, 4))\n",
        "\n",
        "        for i in range(y_true_binarized.shape[1]):\n",
        "            fpr, tpr, _ = roc_curve(y_true_binarized[:, i], y_pred_binarized[:, i])\n",
        "            class_auc = roc_auc_score(y_true_binarized[:, i], y_pred_binarized[:, i])\n",
        "            plt.plot(fpr, tpr, lw=2, label='Class %d (area = %0.4f)' % (i, class_auc))\n",
        "\n",
        "    else:  # Binary case\n",
        "        auc = roc_auc_score(y_true, y_pred)\n",
        "        print(\"AUC-ROC Score:\", round(auc, 4))\n",
        "\n",
        "        fpr, tpr, _ = roc_curve(y_true, y_pred)\n",
        "        plt.plot(fpr, tpr, color='darkorange', lw=2, label='ROC curve (area = %0.4f)' % auc)\n",
        "\n",
        "    plt.plot([0, 1], [0, 1], color='navy', lw=2, linestyle='--')\n",
        "    plt.xlim([0.0, 1.0])\n",
        "    plt.ylim([0.0, 1.05])\n",
        "    plt.xlabel('False Positive Rate')\n",
        "    plt.ylabel('True Positive Rate')\n",
        "    plt.title('Receiver Operating Characteristic')\n",
        "    plt.legend(loc=\"lower right\")\n",
        "    plt.show()"
      ]
    },
    {
      "cell_type": "markdown",
      "metadata": {},
      "source": [
        "### Testing the model"
      ]
    },
    {
      "cell_type": "code",
      "execution_count": 404,
      "metadata": {},
      "outputs": [
        {
          "name": "stdout",
          "output_type": "stream",
          "text": [
            "Accuracy: 71.032\n",
            "Precision (Positive Predictive Value): 71.598\n",
            "Recall (True Positive Rate): 71.032\n",
            "F1 Score: 69.284\n",
            "Confusion Matrix:\n",
            " [[62 24  2 12  8  9 40 11]\n",
            " [ 5 43  0  0  0  0  0  0]\n",
            " [ 2  0 46  0  0  0  0  0]\n",
            " [ 7  0  0 41  0  0  0  0]\n",
            " [ 7  0  0  0 40  1  0  0]\n",
            " [ 7  0  1  0  0 39  1  0]\n",
            " [ 3  2  0  0  1  0 42  0]\n",
            " [ 3  0  0  0  0  0  0 45]]\n",
            "AUC-ROC Score: 0.8266\n"
          ]
        },
        {
          "data": {
            "image/png": "[encoded data removed]",
            "text/plain": [
              "<Figure size 640x480 with 1 Axes>"
            ]
          },
          "metadata": {},
          "output_type": "display_data"
        }
      ],
      "source": [
        "from pyod.models.xgbod import XGBOD\n",
        "from pyod.models.lof import LOF\n",
        "from pyod.models.iforest import IForest\n",
        "\n",
        "# Assuming X and y are already defined\n",
        "X_train = np.copy(X)\n",
        "y_train = np.where(y == 0, 1, 0)\n",
        "\n",
        "## Define and fit the model\n",
        "\n",
        "# XGBOD\n",
        "# ad = XGBOD(max_depth=15, learning_rate=0.029, n_estimators=199, gamma=0, silent=True, objective='binary:logitraw',\n",
        "#            booster='gbtree', eval_metric='auc', min_child_weight=1, random_state=97, verbosity=0, tree_method='exact',\n",
        "#            subsample=0.9, colsample_bytree=0.6)\n",
        "# ad.fit(X_train, y_train)\n",
        "\n",
        "# LOF\n",
        "ad = LOF(n_neighbors=19, metric='cosine', contamination=0.16, algorithm=\"brute\", novelty=True)\n",
        "ad.fit(X_train)\n",
        "\n",
        "# IF\n",
        "# ad = IForest(n_estimators=200, max_samples='auto', contamination = 0.21, max_features=0.29, bootstrap=True,\n",
        "#                                 behaviour='new', random_state=0, verbose=0)\n",
        "# ad.fit(X_train, y_train)\n",
        "# Predict\n",
        "y_pred = ad.predict(final)\n",
        "y_pred -= 1\n",
        "y_pred = np.where(y_pred == -1, clf.predict(final)+1, y_pred)\n",
        "\n",
        "# Evaluate performance\n",
        "performance_metrics(y_blind, y_pred)"
      ]
    },
    {
      "cell_type": "code",
      "execution_count": 405,
      "metadata": {
        "colab": {
          "base_uri": "https://localhost:8080/"
        },
        "id": "fU-W-TPm1WPq",
        "outputId": "87daab6f-f556-4aae-938e-befb9342bd49"
      },
      "outputs": [],
      "source": [
        "# from pyod.models.lof import LOF\n",
        "# # X_selected_blind = feats_final[:, top_features_names]\n",
        "# X_selected_blind = final[:, top_features_names]\n",
        "# for i in range(0,1):\n",
        "\n",
        "#     ad = XGBOD(max_depth = 10, learning_rate = 0.0007, n_estimators = 350, gamma = 0, silent=True, objective = 'binary:logitraw',\n",
        "#               booster='gbtree', eval_metric = 'auc', min_child_weight = 1, random_state=62, verbosity = 0, tree_method = 'exact',\n",
        "#               subsample = 0.4, colsample_bytree = 0.4)\n",
        "#     ad.fit(X_selected, y_train)\n",
        "#     y_pred = ad.predict(X_selected_blind)\n",
        "#     y_pred -= 1\n",
        "#     y_pred[y_pred<0]=1\n",
        "#     print(i,\":\",accuracy_score(y_pred,y_cmp))"
      ]
    },
    {
      "cell_type": "code",
      "execution_count": 406,
      "metadata": {
        "id": "ijksfkM-ClU9"
      },
      "outputs": [],
      "source": [
        "# from pyod.models.lof import LOF\n",
        "# # X_selected_blind = feats_final[:, top_features_names]\n",
        "# X_selected_blind = final[:, top_features_names]\n",
        "# for i in range(30,70):\n",
        "#     ad = LOF(n_neighbors=i, metric='cosine', contamination=0.415)\n",
        "#     ad.fit(X_selected)\n",
        "#     y_pred = ad.predict(X_selected_blind)\n",
        "#     y_pred -= 1\n",
        "#     y_pred[y_pred<0]=1\n",
        "#     print(i,\":\",accuracy_score(y_pred,y_cmp))"
      ]
    },
    {
      "cell_type": "code",
      "execution_count": 407,
      "metadata": {
        "id": "u0uvBW6i5X3L"
      },
      "outputs": [],
      "source": [
        "# from pyod.models.lof import LOF\n",
        "# from sklearn.metrics import confusion_matrix, accuracy_score, precision_score, recall_score, f1_score\n",
        "# for i in range(30,100):\n",
        "#     ad = LOF(n_neighbors=i, metric='cosine', contamination=0.4)\n",
        "#     ad.fit(X)\n",
        "#     y_pred = ad.predict(final)\n",
        "#     y_pred -= 1\n",
        "#     y_pred[y_pred<0]=1\n",
        "#     print(i,\":\",accuracy_score(y_pred,y_cmp))"
      ]
    },
    {
      "cell_type": "code",
      "execution_count": 408,
      "metadata": {
        "id": "lo-_1OdNQdLU"
      },
      "outputs": [],
      "source": [
        "  # r = X_blind.shape[0]\n",
        "# y_pred = []  # Initialize an empty list\n",
        "# start_index = 720\n",
        "# end_index = r\n",
        "# n = 720\n",
        "# # for i in range(start_index, end_index, 1):\n",
        "# for i in range(r):\n",
        "# # for i in range(n):\n",
        "#     signal = X_blind[i,:]\n",
        "#     feat = extract(signal)\n",
        "#     print(i)\n",
        "#     pred = ad.predict(feat)\n",
        "\n",
        "#     if pred == 1:\n",
        "#         y_pred = np.append(y_pred, 0)  # Assign the result back to y_pred\n",
        "#     else:\n",
        "#         #\n",
        "#         # cl_pred = E_Anfis.predict(feat,bestParam,bestModel)\n",
        "#         # cl_pred = np.round(cl_pred)\n",
        "#         #\n",
        "#         cl_pred = clf.predict(feat)\n",
        "#         y_pred = np.append(y_pred, (cl_pred+1))  # Assign the result back to y_pred\n",
        "\n",
        "# performance_metrics(y_blind,y_pred)"
      ]
    }
  ],
  "metadata": {
    "colab": {
      "collapsed_sections": [
        "Mku7DZVuXbzP",
        "Wjw30fLvpvYJ",
        "gRpRp9tcSYBD",
        "SXTFJK_lN763",
        "nvKLExEOP0Yw",
        "wYtFAjyviol1",
        "s3IoOz8gRLuC",
        "D140_pAZH4CC",
        "PwfAKhMHXHn_",
        "ycINBnGukFen",
        "olwqZOrs276L",
        "sImlRcr5Z6fE",
        "KjPGTFjG1XYM",
        "YGTQmx4on2oG",
        "UqJmLrlGKJs4",
        "a0848DwMUsKr",
        "J26fd6DdWyJ1",
        "CTuBHypan760",
        "98l8qa3G9AKB",
        "VYPiiJCLUmIG",
        "BDPDqaoUYrkL",
        "MldIGRdYuHUM",
        "2ZIAyiZ5r9Ki"
      ],
      "provenance": []
    },
    "kernelspec": {
      "display_name": "Python 3",
      "name": "python3"
    },
    "language_info": {
      "codemirror_mode": {
        "name": "ipython",
        "version": 3
      },
      "file_extension": ".py",
      "mimetype": "text/x-python",
      "name": "python",
      "nbconvert_exporter": "python",
      "pygments_lexer": "ipython3",
      "version": "3.12.3"
    }
  },
  "nbformat": 4,
  "nbformat_minor": 0
}
